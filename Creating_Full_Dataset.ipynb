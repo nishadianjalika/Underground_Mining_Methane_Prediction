{
 "cells": [
  {
   "cell_type": "code",
   "execution_count": 2,
   "id": "1d215265",
   "metadata": {},
   "outputs": [],
   "source": [
    "import pandas as pd\n",
    "import numpy as np"
   ]
  },
  {
   "cell_type": "code",
   "execution_count": 3,
   "id": "d9206c41",
   "metadata": {},
   "outputs": [],
   "source": [
    "df1 = pd.read_csv('../extracted_data/updated_trainingData1.csv')\n",
    "df2 = pd.read_csv('../extracted_data/updated_trainingData2.csv')\n",
    "df3 = pd.read_csv('../extracted_data/updated_trainingData3.csv')\n",
    "df4 = pd.read_csv('../extracted_data/updated_trainingData4.csv')\n",
    "df5 = pd.read_csv('../extracted_data/updated_trainingData5.csv')"
   ]
  },
  {
   "cell_type": "code",
   "execution_count": 4,
   "id": "4b16b442",
   "metadata": {},
   "outputs": [
    {
     "name": "stdout",
     "output_type": "stream",
     "text": [
      "(10000, 16800)\n",
      "(10000, 16800)\n",
      "(10000, 16800)\n",
      "(10000, 16800)\n",
      "(11700, 16800)\n"
     ]
    }
   ],
   "source": [
    "print(df1.shape)\n",
    "print(df2.shape)\n",
    "print(df3.shape)\n",
    "print(df4.shape)\n",
    "print(df5.shape)"
   ]
  },
  {
   "cell_type": "code",
   "execution_count": 5,
   "id": "35ab14cb-8eba-46dd-a897-5da7a6fbffa7",
   "metadata": {},
   "outputs": [
    {
     "name": "stdout",
     "output_type": "stream",
     "text": [
      "(10000, 3)\n",
      "(10000, 3)\n",
      "(10000, 3)\n",
      "(10000, 3)\n",
      "(11700, 3)\n"
     ]
    }
   ],
   "source": [
    "training_labels1 = pd.read_csv('../Mining_DataSet/trainingLabels/trainingLabels1.csv', header = None)\n",
    "training_labels1.columns = ['MM263', 'MM264', 'MM256']\n",
    "print(training_labels1.shape)\n",
    "\n",
    "training_labels2 = pd.read_csv('../Mining_DataSet/trainingLabels/trainingLabels2.csv', header = None)\n",
    "training_labels2.columns = ['MM263', 'MM264', 'MM256']\n",
    "print(training_labels2.shape)\n",
    "\n",
    "training_labels3 = pd.read_csv('../Mining_DataSet/trainingLabels/trainingLabels3.csv', header = None)\n",
    "training_labels3.columns = ['MM263', 'MM264', 'MM256']\n",
    "print(training_labels3.shape)\n",
    "\n",
    "training_labels4 = pd.read_csv('../Mining_DataSet/trainingLabels/trainingLabels4.csv', header = None)\n",
    "training_labels4.columns = ['MM263', 'MM264', 'MM256']\n",
    "print(training_labels4.shape)\n",
    "\n",
    "training_labels5 = pd.read_csv('../Mining_DataSet/trainingLabels/trainingLabels5.csv', header = None)\n",
    "training_labels5.columns = ['MM263', 'MM264', 'MM256']\n",
    "print(training_labels5.shape)"
   ]
  },
  {
   "cell_type": "code",
   "execution_count": 6,
   "id": "a488fc5d-a1d7-4823-96f9-b26645c65131",
   "metadata": {},
   "outputs": [
    {
     "name": "stdout",
     "output_type": "stream",
     "text": [
      "(10000, 16803)\n",
      "(10000, 16803)\n",
      "(10000, 16803)\n",
      "(10000, 16803)\n",
      "(11700, 16803)\n"
     ]
    }
   ],
   "source": [
    "# Concatenating training_labels1 to feature_df\n",
    "df1_with_labels = pd.concat([df1, training_labels1], axis=1)\n",
    "\n",
    "# Concatenating training_labels2 to feature_df2\n",
    "df2_with_labels = pd.concat([df2, training_labels2], axis=1)\n",
    "\n",
    "# Concatenating training_labels3 to feature_df3\n",
    "df3_with_labels = pd.concat([df3, training_labels3], axis=1)\n",
    "\n",
    "# Concatenating training_labels4 to feature_df4\n",
    "df4_with_labels = pd.concat([df4, training_labels4], axis=1)\n",
    "\n",
    "# Concatenating training_labels5 to feature_df5\n",
    "df5_with_labels = pd.concat([df5, training_labels5], axis=1)\n",
    "\n",
    "# Verifying the updated shapes after concatenation\n",
    "print(df1_with_labels.shape)\n",
    "print(df2_with_labels.shape)\n",
    "print(df3_with_labels.shape)\n",
    "print(df4_with_labels.shape)\n",
    "print(df5_with_labels.shape)"
   ]
  },
  {
   "cell_type": "code",
   "execution_count": 7,
   "id": "d5deaff4",
   "metadata": {},
   "outputs": [],
   "source": [
    "dfs = [df1_with_labels, df2_with_labels, df3_with_labels, df4_with_labels, df5_with_labels]\n",
    "combined_df = pd.concat(dfs, ignore_index = True)"
   ]
  },
  {
   "cell_type": "code",
   "execution_count": 8,
   "id": "557c1b85-d445-456d-b92b-8a904838c2b0",
   "metadata": {},
   "outputs": [],
   "source": [
    "combined_df.to_csv('../extracted_data/trainingDataFull.csv', index=False)"
   ]
  }
 ],
 "metadata": {
  "kernelspec": {
   "display_name": "Python 3 (ipykernel)",
   "language": "python",
   "name": "python3"
  },
  "language_info": {
   "codemirror_mode": {
    "name": "ipython",
    "version": 3
   },
   "file_extension": ".py",
   "mimetype": "text/x-python",
   "name": "python",
   "nbconvert_exporter": "python",
   "pygments_lexer": "ipython3",
   "version": "3.12.4"
  }
 },
 "nbformat": 4,
 "nbformat_minor": 5
}
