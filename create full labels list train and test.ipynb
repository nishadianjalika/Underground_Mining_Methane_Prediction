{
 "cells": [
  {
   "cell_type": "code",
   "execution_count": 2,
   "id": "1d215265",
   "metadata": {},
   "outputs": [],
   "source": [
    "import pandas as pd\n",
    "import numpy as np"
   ]
  },
  {
   "cell_type": "code",
   "execution_count": 4,
   "id": "35ab14cb-8eba-46dd-a897-5da7a6fbffa7",
   "metadata": {},
   "outputs": [
    {
     "name": "stdout",
     "output_type": "stream",
     "text": [
      "(10000, 3)\n",
      "(10000, 3)\n",
      "(10000, 3)\n",
      "(10000, 3)\n",
      "(11700, 3)\n"
     ]
    }
   ],
   "source": [
    "training_labels1 = pd.read_csv('../Mining_DataSet/trainingLabels/trainingLabels1.csv', header = None)\n",
    "training_labels1.columns = ['MM263', 'MM264', 'MM256']\n",
    "print(training_labels1.shape)\n",
    "\n",
    "training_labels2 = pd.read_csv('../Mining_DataSet/trainingLabels/trainingLabels2.csv', header = None)\n",
    "training_labels2.columns = ['MM263', 'MM264', 'MM256']\n",
    "print(training_labels2.shape)\n",
    "\n",
    "training_labels3 = pd.read_csv('../Mining_DataSet/trainingLabels/trainingLabels3.csv', header = None)\n",
    "training_labels3.columns = ['MM263', 'MM264', 'MM256']\n",
    "print(training_labels3.shape)\n",
    "\n",
    "training_labels4 = pd.read_csv('../Mining_DataSet/trainingLabels/trainingLabels4.csv', header = None)\n",
    "training_labels4.columns = ['MM263', 'MM264', 'MM256']\n",
    "print(training_labels4.shape)\n",
    "\n",
    "training_labels5 = pd.read_csv('../Mining_DataSet/trainingLabels/trainingLabels5.csv', header = None)\n",
    "training_labels5.columns = ['MM263', 'MM264', 'MM256']\n",
    "print(training_labels5.shape)"
   ]
  },
  {
   "cell_type": "code",
   "execution_count": 6,
   "id": "b19afff6-d0db-4a5d-8a64-d3d4b9f3e758",
   "metadata": {},
   "outputs": [],
   "source": [
    "# Combine all training labels into one DataFrame\n",
    "combined_labels = pd.concat([training_labels1, training_labels2, training_labels3, training_labels4, training_labels5], ignore_index=True)"
   ]
  },
  {
   "cell_type": "code",
   "execution_count": 8,
   "id": "a488fc5d-a1d7-4823-96f9-b26645c65131",
   "metadata": {},
   "outputs": [
    {
     "data": {
      "text/plain": [
       "(51700, 3)"
      ]
     },
     "execution_count": 8,
     "metadata": {},
     "output_type": "execute_result"
    }
   ],
   "source": [
    "combined_labels.shape"
   ]
  },
  {
   "cell_type": "code",
   "execution_count": 12,
   "id": "557c1b85-d445-456d-b92b-8a904838c2b0",
   "metadata": {},
   "outputs": [],
   "source": [
    "combined_labels.to_csv('../extracted_data/trainingDataFullLabels.csv', index=False)"
   ]
  },
  {
   "cell_type": "code",
   "execution_count": null,
   "id": "672163f2-d805-4383-81ec-c102a3807a4b",
   "metadata": {},
   "outputs": [],
   "source": [
    "## we already have testLabels.csv "
   ]
  }
 ],
 "metadata": {
  "kernelspec": {
   "display_name": "Python 3 (ipykernel)",
   "language": "python",
   "name": "python3"
  },
  "language_info": {
   "codemirror_mode": {
    "name": "ipython",
    "version": 3
   },
   "file_extension": ".py",
   "mimetype": "text/x-python",
   "name": "python",
   "nbconvert_exporter": "python",
   "pygments_lexer": "ipython3",
   "version": "3.12.4"
  }
 },
 "nbformat": 4,
 "nbformat_minor": 5
}
