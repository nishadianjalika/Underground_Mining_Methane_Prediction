{
 "cells": [
  {
   "cell_type": "code",
   "execution_count": 1,
   "id": "788389d2-4322-44ef-be9a-7e42952d1654",
   "metadata": {},
   "outputs": [],
   "source": [
    "import pandas as pd\n",
    "import numpy as np\n",
    "from sklearn.preprocessing import StandardScaler\n",
    "from sklearn.metrics import roc_curve, auc, accuracy_score\n",
    "from tensorflow.keras.models import Sequential\n",
    "from tensorflow.keras.layers import LSTM, Dense\n",
    "import matplotlib.pyplot as plt\n"
   ]
  },
  {
   "cell_type": "markdown",
   "id": "9e719369-6a9c-4d30-8499-99731bc0dcd2",
   "metadata": {},
   "source": [
    "### Load train data"
   ]
  },
  {
   "cell_type": "code",
   "execution_count": 3,
   "id": "428f85ff-130f-425e-aa15-c3aeeab05c20",
   "metadata": {},
   "outputs": [],
   "source": [
    "zip_file_path1 = '../../extracted_data/updated_trainingData1.csv'\n",
    "train_data1 = pd.read_csv(zip_file_path1)\n",
    "\n",
    "zip_file_path2 = '../../extracted_data/updated_trainingData2.csv'\n",
    "train_data2 = pd.read_csv(zip_file_path2)\n",
    "\n",
    "zip_file_path3 = '../../extracted_data/updated_trainingData3.csv'\n",
    "train_data3 = pd.read_csv(zip_file_path3)\n",
    "\n",
    "zip_file_path4 = '../../extracted_data/updated_trainingData4.csv'\n",
    "train_data4 = pd.read_csv(zip_file_path4)\n",
    "\n",
    "zip_file_path5 = '../../extracted_data/updated_trainingData5.csv'\n",
    "train_data5 = pd.read_csv(zip_file_path5)"
   ]
  },
  {
   "cell_type": "code",
   "execution_count": 5,
   "id": "f7d9dcfd-a67f-4c4e-82d5-7a260368de4a",
   "metadata": {},
   "outputs": [
    {
     "name": "stdout",
     "output_type": "stream",
     "text": [
      "(10000, 16800)\n",
      "(10000, 16800)\n",
      "(10000, 16800)\n",
      "(10000, 16800)\n",
      "(11700, 16800)\n"
     ]
    }
   ],
   "source": [
    "print(train_data1.shape)\n",
    "print(train_data2.shape)\n",
    "print(train_data3.shape)\n",
    "print(train_data4.shape)\n",
    "print(train_data5.shape)"
   ]
  },
  {
   "cell_type": "code",
   "execution_count": 7,
   "id": "4f151b7d-5ea4-41dc-aa01-310469a4bbb4",
   "metadata": {},
   "outputs": [
    {
     "name": "stdout",
     "output_type": "stream",
     "text": [
      "Combined DataFrame shape: (51700, 16800)\n"
     ]
    }
   ],
   "source": [
    "train_data = pd.concat([train_data1, train_data2, train_data3, train_data4, train_data5], axis=0)\n",
    "\n",
    "# Reset index, if necessary, to avoid duplicate indices\n",
    "train_data.reset_index(drop=True, inplace=True)\n",
    "print(\"Combined DataFrame shape:\", train_data.shape)"
   ]
  },
  {
   "cell_type": "code",
   "execution_count": 9,
   "id": "7b3deff0-b958-4502-9fa8-88e200635b0a",
   "metadata": {},
   "outputs": [
    {
     "data": {
      "text/html": [
       "<div>\n",
       "<style scoped>\n",
       "    .dataframe tbody tr th:only-of-type {\n",
       "        vertical-align: middle;\n",
       "    }\n",
       "\n",
       "    .dataframe tbody tr th {\n",
       "        vertical-align: top;\n",
       "    }\n",
       "\n",
       "    .dataframe thead th {\n",
       "        text-align: right;\n",
       "    }\n",
       "</style>\n",
       "<table border=\"1\" class=\"dataframe\">\n",
       "  <thead>\n",
       "    <tr style=\"text-align: right;\">\n",
       "      <th></th>\n",
       "      <th>AN311_value_1</th>\n",
       "      <th>AN311_value_2</th>\n",
       "      <th>AN311_value_3</th>\n",
       "      <th>AN311_value_4</th>\n",
       "      <th>AN311_value_5</th>\n",
       "      <th>AN311_value_6</th>\n",
       "      <th>AN311_value_7</th>\n",
       "      <th>AN311_value_8</th>\n",
       "      <th>AN311_value_9</th>\n",
       "      <th>AN311_value_10</th>\n",
       "      <th>...</th>\n",
       "      <th>V_value_591</th>\n",
       "      <th>V_value_592</th>\n",
       "      <th>V_value_593</th>\n",
       "      <th>V_value_594</th>\n",
       "      <th>V_value_595</th>\n",
       "      <th>V_value_596</th>\n",
       "      <th>V_value_597</th>\n",
       "      <th>V_value_598</th>\n",
       "      <th>V_value_599</th>\n",
       "      <th>V_value_600</th>\n",
       "    </tr>\n",
       "  </thead>\n",
       "  <tbody>\n",
       "    <tr>\n",
       "      <th>0</th>\n",
       "      <td>3.2</td>\n",
       "      <td>3.2</td>\n",
       "      <td>3.2</td>\n",
       "      <td>3.2</td>\n",
       "      <td>3.2</td>\n",
       "      <td>3.2</td>\n",
       "      <td>3.2</td>\n",
       "      <td>3.2</td>\n",
       "      <td>3.2</td>\n",
       "      <td>3.2</td>\n",
       "      <td>...</td>\n",
       "      <td>0.0</td>\n",
       "      <td>0.0</td>\n",
       "      <td>0.0</td>\n",
       "      <td>0.0</td>\n",
       "      <td>0.0</td>\n",
       "      <td>0.0</td>\n",
       "      <td>0.0</td>\n",
       "      <td>0.0</td>\n",
       "      <td>0.0</td>\n",
       "      <td>0.0</td>\n",
       "    </tr>\n",
       "    <tr>\n",
       "      <th>1</th>\n",
       "      <td>3.7</td>\n",
       "      <td>3.6</td>\n",
       "      <td>3.6</td>\n",
       "      <td>3.6</td>\n",
       "      <td>3.6</td>\n",
       "      <td>3.5</td>\n",
       "      <td>3.5</td>\n",
       "      <td>3.5</td>\n",
       "      <td>3.5</td>\n",
       "      <td>3.4</td>\n",
       "      <td>...</td>\n",
       "      <td>0.0</td>\n",
       "      <td>0.0</td>\n",
       "      <td>0.0</td>\n",
       "      <td>0.0</td>\n",
       "      <td>0.0</td>\n",
       "      <td>0.0</td>\n",
       "      <td>0.0</td>\n",
       "      <td>0.0</td>\n",
       "      <td>0.0</td>\n",
       "      <td>0.0</td>\n",
       "    </tr>\n",
       "    <tr>\n",
       "      <th>2</th>\n",
       "      <td>3.5</td>\n",
       "      <td>3.5</td>\n",
       "      <td>3.5</td>\n",
       "      <td>3.5</td>\n",
       "      <td>3.5</td>\n",
       "      <td>3.5</td>\n",
       "      <td>3.5</td>\n",
       "      <td>3.4</td>\n",
       "      <td>3.4</td>\n",
       "      <td>3.4</td>\n",
       "      <td>...</td>\n",
       "      <td>0.0</td>\n",
       "      <td>0.0</td>\n",
       "      <td>0.0</td>\n",
       "      <td>0.0</td>\n",
       "      <td>0.0</td>\n",
       "      <td>0.0</td>\n",
       "      <td>0.0</td>\n",
       "      <td>0.0</td>\n",
       "      <td>0.0</td>\n",
       "      <td>0.0</td>\n",
       "    </tr>\n",
       "    <tr>\n",
       "      <th>3</th>\n",
       "      <td>3.2</td>\n",
       "      <td>3.2</td>\n",
       "      <td>3.2</td>\n",
       "      <td>3.3</td>\n",
       "      <td>3.3</td>\n",
       "      <td>3.4</td>\n",
       "      <td>3.4</td>\n",
       "      <td>3.5</td>\n",
       "      <td>3.5</td>\n",
       "      <td>3.5</td>\n",
       "      <td>...</td>\n",
       "      <td>0.0</td>\n",
       "      <td>0.0</td>\n",
       "      <td>0.0</td>\n",
       "      <td>0.0</td>\n",
       "      <td>0.0</td>\n",
       "      <td>0.0</td>\n",
       "      <td>0.0</td>\n",
       "      <td>0.0</td>\n",
       "      <td>0.0</td>\n",
       "      <td>0.0</td>\n",
       "    </tr>\n",
       "    <tr>\n",
       "      <th>4</th>\n",
       "      <td>3.5</td>\n",
       "      <td>3.5</td>\n",
       "      <td>3.5</td>\n",
       "      <td>3.5</td>\n",
       "      <td>3.5</td>\n",
       "      <td>3.5</td>\n",
       "      <td>3.5</td>\n",
       "      <td>3.4</td>\n",
       "      <td>3.4</td>\n",
       "      <td>3.5</td>\n",
       "      <td>...</td>\n",
       "      <td>0.0</td>\n",
       "      <td>0.0</td>\n",
       "      <td>0.0</td>\n",
       "      <td>0.0</td>\n",
       "      <td>0.0</td>\n",
       "      <td>0.0</td>\n",
       "      <td>0.0</td>\n",
       "      <td>0.0</td>\n",
       "      <td>0.0</td>\n",
       "      <td>0.0</td>\n",
       "    </tr>\n",
       "  </tbody>\n",
       "</table>\n",
       "<p>5 rows × 16800 columns</p>\n",
       "</div>"
      ],
      "text/plain": [
       "   AN311_value_1  AN311_value_2  AN311_value_3  AN311_value_4  AN311_value_5  \\\n",
       "0            3.2            3.2            3.2            3.2            3.2   \n",
       "1            3.7            3.6            3.6            3.6            3.6   \n",
       "2            3.5            3.5            3.5            3.5            3.5   \n",
       "3            3.2            3.2            3.2            3.3            3.3   \n",
       "4            3.5            3.5            3.5            3.5            3.5   \n",
       "\n",
       "   AN311_value_6  AN311_value_7  AN311_value_8  AN311_value_9  AN311_value_10  \\\n",
       "0            3.2            3.2            3.2            3.2             3.2   \n",
       "1            3.5            3.5            3.5            3.5             3.4   \n",
       "2            3.5            3.5            3.4            3.4             3.4   \n",
       "3            3.4            3.4            3.5            3.5             3.5   \n",
       "4            3.5            3.5            3.4            3.4             3.5   \n",
       "\n",
       "   ...  V_value_591  V_value_592  V_value_593  V_value_594  V_value_595  \\\n",
       "0  ...          0.0          0.0          0.0          0.0          0.0   \n",
       "1  ...          0.0          0.0          0.0          0.0          0.0   \n",
       "2  ...          0.0          0.0          0.0          0.0          0.0   \n",
       "3  ...          0.0          0.0          0.0          0.0          0.0   \n",
       "4  ...          0.0          0.0          0.0          0.0          0.0   \n",
       "\n",
       "   V_value_596  V_value_597  V_value_598  V_value_599  V_value_600  \n",
       "0          0.0          0.0          0.0          0.0          0.0  \n",
       "1          0.0          0.0          0.0          0.0          0.0  \n",
       "2          0.0          0.0          0.0          0.0          0.0  \n",
       "3          0.0          0.0          0.0          0.0          0.0  \n",
       "4          0.0          0.0          0.0          0.0          0.0  \n",
       "\n",
       "[5 rows x 16800 columns]"
      ]
     },
     "execution_count": 9,
     "metadata": {},
     "output_type": "execute_result"
    }
   ],
   "source": [
    "train_data.head()"
   ]
  },
  {
   "cell_type": "code",
   "execution_count": 11,
   "id": "6648aa41-fa58-424b-9162-b1351b15f670",
   "metadata": {},
   "outputs": [],
   "source": [
    "train_data.to_csv('../../extracted_data/training_data_full_with_columns.csv', index=False)"
   ]
  },
  {
   "cell_type": "code",
   "execution_count": 13,
   "id": "94a55046-50d4-4dcc-9fdb-1caa797ab7b4",
   "metadata": {},
   "outputs": [
    {
     "name": "stdout",
     "output_type": "stream",
     "text": [
      "(10000, 3)\n",
      "(10000, 3)\n",
      "(10000, 3)\n",
      "(10000, 3)\n",
      "(11700, 3)\n"
     ]
    },
    {
     "data": {
      "text/plain": [
       "(51700, 3)"
      ]
     },
     "execution_count": 13,
     "metadata": {},
     "output_type": "execute_result"
    }
   ],
   "source": [
    "train_labels1_path = '../../Mining_DataSet/trainingLabels/trainingLabels1.csv'\n",
    "train_labels2_path = '../../Mining_DataSet/trainingLabels/trainingLabels2.csv'\n",
    "train_labels3_path = '../../Mining_DataSet/trainingLabels/trainingLabels3.csv'\n",
    "train_labels4_path = '../../Mining_DataSet/trainingLabels/trainingLabels4.csv'\n",
    "train_labels5_path = '../../Mining_DataSet/trainingLabels/trainingLabels5.csv'\n",
    "\n",
    "def load_labels(train_labels_path, train_data):\n",
    "    train_labels = pd.read_csv(train_labels_path, header = None)\n",
    "    train_labels.columns = ['MM263', 'MM264', 'MM256']\n",
    "    print(train_labels.shape)\n",
    "    return train_labels\n",
    "\n",
    "train_labels1 = load_labels(train_labels1_path, train_data1)\n",
    "train_labels2 = load_labels(train_labels2_path, train_data2)\n",
    "train_labels3 = load_labels(train_labels3_path, train_data3)\n",
    "train_labels4 = load_labels(train_labels4_path, train_data4)\n",
    "train_labels5 = load_labels(train_labels5_path, train_data5)\n",
    "\n",
    "train_labels = pd.concat([train_labels1, train_labels2, train_labels3, train_labels4, train_labels5], axis=0)\n",
    "train_labels.shape"
   ]
  },
  {
   "cell_type": "code",
   "execution_count": 15,
   "id": "46bba270-66bf-437a-927a-dc48096ac9d7",
   "metadata": {},
   "outputs": [
    {
     "data": {
      "text/html": [
       "<div>\n",
       "<style scoped>\n",
       "    .dataframe tbody tr th:only-of-type {\n",
       "        vertical-align: middle;\n",
       "    }\n",
       "\n",
       "    .dataframe tbody tr th {\n",
       "        vertical-align: top;\n",
       "    }\n",
       "\n",
       "    .dataframe thead th {\n",
       "        text-align: right;\n",
       "    }\n",
       "</style>\n",
       "<table border=\"1\" class=\"dataframe\">\n",
       "  <thead>\n",
       "    <tr style=\"text-align: right;\">\n",
       "      <th></th>\n",
       "      <th>MM263</th>\n",
       "      <th>MM264</th>\n",
       "      <th>MM256</th>\n",
       "    </tr>\n",
       "  </thead>\n",
       "  <tbody>\n",
       "    <tr>\n",
       "      <th>0</th>\n",
       "      <td>normal</td>\n",
       "      <td>normal</td>\n",
       "      <td>normal</td>\n",
       "    </tr>\n",
       "    <tr>\n",
       "      <th>1</th>\n",
       "      <td>normal</td>\n",
       "      <td>normal</td>\n",
       "      <td>normal</td>\n",
       "    </tr>\n",
       "    <tr>\n",
       "      <th>2</th>\n",
       "      <td>normal</td>\n",
       "      <td>normal</td>\n",
       "      <td>normal</td>\n",
       "    </tr>\n",
       "    <tr>\n",
       "      <th>3</th>\n",
       "      <td>normal</td>\n",
       "      <td>normal</td>\n",
       "      <td>normal</td>\n",
       "    </tr>\n",
       "    <tr>\n",
       "      <th>4</th>\n",
       "      <td>normal</td>\n",
       "      <td>normal</td>\n",
       "      <td>normal</td>\n",
       "    </tr>\n",
       "  </tbody>\n",
       "</table>\n",
       "</div>"
      ],
      "text/plain": [
       "    MM263   MM264   MM256\n",
       "0  normal  normal  normal\n",
       "1  normal  normal  normal\n",
       "2  normal  normal  normal\n",
       "3  normal  normal  normal\n",
       "4  normal  normal  normal"
      ]
     },
     "execution_count": 15,
     "metadata": {},
     "output_type": "execute_result"
    }
   ],
   "source": [
    "train_labels.head()"
   ]
  },
  {
   "cell_type": "code",
   "execution_count": 17,
   "id": "c4e17350-7cca-4ebe-892f-1e9f20a650f3",
   "metadata": {},
   "outputs": [],
   "source": [
    "train_labels.to_csv('../../extracted_data/train_labels_full_with_columns.csv', index=False)"
   ]
  },
  {
   "cell_type": "markdown",
   "id": "2d4a069d-a306-4cd6-8983-ec428f7e1cc0",
   "metadata": {},
   "source": [
    "### Load Test data"
   ]
  },
  {
   "cell_type": "code",
   "execution_count": 19,
   "id": "9700d5c2-3754-45f9-ac51-8002a3838305",
   "metadata": {},
   "outputs": [],
   "source": [
    "test_data = pd.read_csv(\"../../Mining_DataSet/testData.csv\", header=None)"
   ]
  },
  {
   "cell_type": "code",
   "execution_count": 21,
   "id": "73f74ffd-beab-40f3-9868-675e72798e77",
   "metadata": {},
   "outputs": [
    {
     "data": {
      "text/html": [
       "<div>\n",
       "<style scoped>\n",
       "    .dataframe tbody tr th:only-of-type {\n",
       "        vertical-align: middle;\n",
       "    }\n",
       "\n",
       "    .dataframe tbody tr th {\n",
       "        vertical-align: top;\n",
       "    }\n",
       "\n",
       "    .dataframe thead th {\n",
       "        text-align: right;\n",
       "    }\n",
       "</style>\n",
       "<table border=\"1\" class=\"dataframe\">\n",
       "  <thead>\n",
       "    <tr style=\"text-align: right;\">\n",
       "      <th></th>\n",
       "      <th>0</th>\n",
       "      <th>1</th>\n",
       "      <th>2</th>\n",
       "      <th>3</th>\n",
       "      <th>4</th>\n",
       "      <th>5</th>\n",
       "      <th>6</th>\n",
       "      <th>7</th>\n",
       "      <th>8</th>\n",
       "      <th>9</th>\n",
       "      <th>...</th>\n",
       "      <th>16790</th>\n",
       "      <th>16791</th>\n",
       "      <th>16792</th>\n",
       "      <th>16793</th>\n",
       "      <th>16794</th>\n",
       "      <th>16795</th>\n",
       "      <th>16796</th>\n",
       "      <th>16797</th>\n",
       "      <th>16798</th>\n",
       "      <th>16799</th>\n",
       "    </tr>\n",
       "  </thead>\n",
       "  <tbody>\n",
       "    <tr>\n",
       "      <th>0</th>\n",
       "      <td>4.1</td>\n",
       "      <td>4.1</td>\n",
       "      <td>4.1</td>\n",
       "      <td>4.1</td>\n",
       "      <td>4.1</td>\n",
       "      <td>4.1</td>\n",
       "      <td>4.1</td>\n",
       "      <td>4.1</td>\n",
       "      <td>4.1</td>\n",
       "      <td>4.1</td>\n",
       "      <td>...</td>\n",
       "      <td>0.0</td>\n",
       "      <td>0.0</td>\n",
       "      <td>0.0</td>\n",
       "      <td>0.0</td>\n",
       "      <td>0.0</td>\n",
       "      <td>0.0</td>\n",
       "      <td>0.0</td>\n",
       "      <td>0.0</td>\n",
       "      <td>0.0</td>\n",
       "      <td>0.0</td>\n",
       "    </tr>\n",
       "    <tr>\n",
       "      <th>1</th>\n",
       "      <td>3.6</td>\n",
       "      <td>3.5</td>\n",
       "      <td>3.5</td>\n",
       "      <td>3.5</td>\n",
       "      <td>3.5</td>\n",
       "      <td>3.5</td>\n",
       "      <td>3.5</td>\n",
       "      <td>3.2</td>\n",
       "      <td>3.2</td>\n",
       "      <td>3.0</td>\n",
       "      <td>...</td>\n",
       "      <td>0.0</td>\n",
       "      <td>0.0</td>\n",
       "      <td>0.0</td>\n",
       "      <td>0.0</td>\n",
       "      <td>0.0</td>\n",
       "      <td>0.0</td>\n",
       "      <td>0.0</td>\n",
       "      <td>0.0</td>\n",
       "      <td>0.0</td>\n",
       "      <td>0.0</td>\n",
       "    </tr>\n",
       "    <tr>\n",
       "      <th>2</th>\n",
       "      <td>4.2</td>\n",
       "      <td>4.2</td>\n",
       "      <td>4.2</td>\n",
       "      <td>4.2</td>\n",
       "      <td>4.3</td>\n",
       "      <td>4.3</td>\n",
       "      <td>4.3</td>\n",
       "      <td>4.3</td>\n",
       "      <td>4.3</td>\n",
       "      <td>4.3</td>\n",
       "      <td>...</td>\n",
       "      <td>0.0</td>\n",
       "      <td>0.0</td>\n",
       "      <td>0.0</td>\n",
       "      <td>0.0</td>\n",
       "      <td>0.0</td>\n",
       "      <td>0.0</td>\n",
       "      <td>0.0</td>\n",
       "      <td>0.0</td>\n",
       "      <td>0.0</td>\n",
       "      <td>0.0</td>\n",
       "    </tr>\n",
       "    <tr>\n",
       "      <th>3</th>\n",
       "      <td>3.0</td>\n",
       "      <td>3.1</td>\n",
       "      <td>3.1</td>\n",
       "      <td>3.2</td>\n",
       "      <td>3.2</td>\n",
       "      <td>3.2</td>\n",
       "      <td>3.2</td>\n",
       "      <td>3.2</td>\n",
       "      <td>3.2</td>\n",
       "      <td>3.1</td>\n",
       "      <td>...</td>\n",
       "      <td>0.0</td>\n",
       "      <td>0.0</td>\n",
       "      <td>0.0</td>\n",
       "      <td>0.0</td>\n",
       "      <td>0.0</td>\n",
       "      <td>0.0</td>\n",
       "      <td>0.0</td>\n",
       "      <td>0.0</td>\n",
       "      <td>0.0</td>\n",
       "      <td>0.0</td>\n",
       "    </tr>\n",
       "    <tr>\n",
       "      <th>4</th>\n",
       "      <td>3.7</td>\n",
       "      <td>3.7</td>\n",
       "      <td>3.7</td>\n",
       "      <td>3.7</td>\n",
       "      <td>3.7</td>\n",
       "      <td>3.7</td>\n",
       "      <td>3.7</td>\n",
       "      <td>3.7</td>\n",
       "      <td>3.8</td>\n",
       "      <td>3.8</td>\n",
       "      <td>...</td>\n",
       "      <td>0.0</td>\n",
       "      <td>0.0</td>\n",
       "      <td>0.0</td>\n",
       "      <td>0.0</td>\n",
       "      <td>0.0</td>\n",
       "      <td>0.0</td>\n",
       "      <td>0.0</td>\n",
       "      <td>0.0</td>\n",
       "      <td>0.0</td>\n",
       "      <td>0.0</td>\n",
       "    </tr>\n",
       "  </tbody>\n",
       "</table>\n",
       "<p>5 rows × 16800 columns</p>\n",
       "</div>"
      ],
      "text/plain": [
       "   0      1      2      3      4      5      6      7      8      9      ...  \\\n",
       "0    4.1    4.1    4.1    4.1    4.1    4.1    4.1    4.1    4.1    4.1  ...   \n",
       "1    3.6    3.5    3.5    3.5    3.5    3.5    3.5    3.2    3.2    3.0  ...   \n",
       "2    4.2    4.2    4.2    4.2    4.3    4.3    4.3    4.3    4.3    4.3  ...   \n",
       "3    3.0    3.1    3.1    3.2    3.2    3.2    3.2    3.2    3.2    3.1  ...   \n",
       "4    3.7    3.7    3.7    3.7    3.7    3.7    3.7    3.7    3.8    3.8  ...   \n",
       "\n",
       "   16790  16791  16792  16793  16794  16795  16796  16797  16798  16799  \n",
       "0    0.0    0.0    0.0    0.0    0.0    0.0    0.0    0.0    0.0    0.0  \n",
       "1    0.0    0.0    0.0    0.0    0.0    0.0    0.0    0.0    0.0    0.0  \n",
       "2    0.0    0.0    0.0    0.0    0.0    0.0    0.0    0.0    0.0    0.0  \n",
       "3    0.0    0.0    0.0    0.0    0.0    0.0    0.0    0.0    0.0    0.0  \n",
       "4    0.0    0.0    0.0    0.0    0.0    0.0    0.0    0.0    0.0    0.0  \n",
       "\n",
       "[5 rows x 16800 columns]"
      ]
     },
     "execution_count": 21,
     "metadata": {},
     "output_type": "execute_result"
    }
   ],
   "source": [
    "test_data.head()"
   ]
  },
  {
   "cell_type": "code",
   "execution_count": 23,
   "id": "0268f75d-0b68-4056-a64f-f8c3243d34b7",
   "metadata": {},
   "outputs": [
    {
     "data": {
      "text/html": [
       "<div>\n",
       "<style scoped>\n",
       "    .dataframe tbody tr th:only-of-type {\n",
       "        vertical-align: middle;\n",
       "    }\n",
       "\n",
       "    .dataframe tbody tr th {\n",
       "        vertical-align: top;\n",
       "    }\n",
       "\n",
       "    .dataframe thead th {\n",
       "        text-align: right;\n",
       "    }\n",
       "</style>\n",
       "<table border=\"1\" class=\"dataframe\">\n",
       "  <thead>\n",
       "    <tr style=\"text-align: right;\">\n",
       "      <th></th>\n",
       "      <th>AN311_value_1</th>\n",
       "      <th>AN311_value_2</th>\n",
       "      <th>AN311_value_3</th>\n",
       "      <th>AN311_value_4</th>\n",
       "      <th>AN311_value_5</th>\n",
       "      <th>AN311_value_6</th>\n",
       "      <th>AN311_value_7</th>\n",
       "      <th>AN311_value_8</th>\n",
       "      <th>AN311_value_9</th>\n",
       "      <th>AN311_value_10</th>\n",
       "      <th>...</th>\n",
       "      <th>V_value_591</th>\n",
       "      <th>V_value_592</th>\n",
       "      <th>V_value_593</th>\n",
       "      <th>V_value_594</th>\n",
       "      <th>V_value_595</th>\n",
       "      <th>V_value_596</th>\n",
       "      <th>V_value_597</th>\n",
       "      <th>V_value_598</th>\n",
       "      <th>V_value_599</th>\n",
       "      <th>V_value_600</th>\n",
       "    </tr>\n",
       "  </thead>\n",
       "  <tbody>\n",
       "    <tr>\n",
       "      <th>0</th>\n",
       "      <td>4.1</td>\n",
       "      <td>4.1</td>\n",
       "      <td>4.1</td>\n",
       "      <td>4.1</td>\n",
       "      <td>4.1</td>\n",
       "      <td>4.1</td>\n",
       "      <td>4.1</td>\n",
       "      <td>4.1</td>\n",
       "      <td>4.1</td>\n",
       "      <td>4.1</td>\n",
       "      <td>...</td>\n",
       "      <td>0.0</td>\n",
       "      <td>0.0</td>\n",
       "      <td>0.0</td>\n",
       "      <td>0.0</td>\n",
       "      <td>0.0</td>\n",
       "      <td>0.0</td>\n",
       "      <td>0.0</td>\n",
       "      <td>0.0</td>\n",
       "      <td>0.0</td>\n",
       "      <td>0.0</td>\n",
       "    </tr>\n",
       "    <tr>\n",
       "      <th>1</th>\n",
       "      <td>3.6</td>\n",
       "      <td>3.5</td>\n",
       "      <td>3.5</td>\n",
       "      <td>3.5</td>\n",
       "      <td>3.5</td>\n",
       "      <td>3.5</td>\n",
       "      <td>3.5</td>\n",
       "      <td>3.2</td>\n",
       "      <td>3.2</td>\n",
       "      <td>3.0</td>\n",
       "      <td>...</td>\n",
       "      <td>0.0</td>\n",
       "      <td>0.0</td>\n",
       "      <td>0.0</td>\n",
       "      <td>0.0</td>\n",
       "      <td>0.0</td>\n",
       "      <td>0.0</td>\n",
       "      <td>0.0</td>\n",
       "      <td>0.0</td>\n",
       "      <td>0.0</td>\n",
       "      <td>0.0</td>\n",
       "    </tr>\n",
       "    <tr>\n",
       "      <th>2</th>\n",
       "      <td>4.2</td>\n",
       "      <td>4.2</td>\n",
       "      <td>4.2</td>\n",
       "      <td>4.2</td>\n",
       "      <td>4.3</td>\n",
       "      <td>4.3</td>\n",
       "      <td>4.3</td>\n",
       "      <td>4.3</td>\n",
       "      <td>4.3</td>\n",
       "      <td>4.3</td>\n",
       "      <td>...</td>\n",
       "      <td>0.0</td>\n",
       "      <td>0.0</td>\n",
       "      <td>0.0</td>\n",
       "      <td>0.0</td>\n",
       "      <td>0.0</td>\n",
       "      <td>0.0</td>\n",
       "      <td>0.0</td>\n",
       "      <td>0.0</td>\n",
       "      <td>0.0</td>\n",
       "      <td>0.0</td>\n",
       "    </tr>\n",
       "    <tr>\n",
       "      <th>3</th>\n",
       "      <td>3.0</td>\n",
       "      <td>3.1</td>\n",
       "      <td>3.1</td>\n",
       "      <td>3.2</td>\n",
       "      <td>3.2</td>\n",
       "      <td>3.2</td>\n",
       "      <td>3.2</td>\n",
       "      <td>3.2</td>\n",
       "      <td>3.2</td>\n",
       "      <td>3.1</td>\n",
       "      <td>...</td>\n",
       "      <td>0.0</td>\n",
       "      <td>0.0</td>\n",
       "      <td>0.0</td>\n",
       "      <td>0.0</td>\n",
       "      <td>0.0</td>\n",
       "      <td>0.0</td>\n",
       "      <td>0.0</td>\n",
       "      <td>0.0</td>\n",
       "      <td>0.0</td>\n",
       "      <td>0.0</td>\n",
       "    </tr>\n",
       "    <tr>\n",
       "      <th>4</th>\n",
       "      <td>3.7</td>\n",
       "      <td>3.7</td>\n",
       "      <td>3.7</td>\n",
       "      <td>3.7</td>\n",
       "      <td>3.7</td>\n",
       "      <td>3.7</td>\n",
       "      <td>3.7</td>\n",
       "      <td>3.7</td>\n",
       "      <td>3.8</td>\n",
       "      <td>3.8</td>\n",
       "      <td>...</td>\n",
       "      <td>0.0</td>\n",
       "      <td>0.0</td>\n",
       "      <td>0.0</td>\n",
       "      <td>0.0</td>\n",
       "      <td>0.0</td>\n",
       "      <td>0.0</td>\n",
       "      <td>0.0</td>\n",
       "      <td>0.0</td>\n",
       "      <td>0.0</td>\n",
       "      <td>0.0</td>\n",
       "    </tr>\n",
       "  </tbody>\n",
       "</table>\n",
       "<p>5 rows × 16800 columns</p>\n",
       "</div>"
      ],
      "text/plain": [
       "   AN311_value_1  AN311_value_2  AN311_value_3  AN311_value_4  AN311_value_5  \\\n",
       "0            4.1            4.1            4.1            4.1            4.1   \n",
       "1            3.6            3.5            3.5            3.5            3.5   \n",
       "2            4.2            4.2            4.2            4.2            4.3   \n",
       "3            3.0            3.1            3.1            3.2            3.2   \n",
       "4            3.7            3.7            3.7            3.7            3.7   \n",
       "\n",
       "   AN311_value_6  AN311_value_7  AN311_value_8  AN311_value_9  AN311_value_10  \\\n",
       "0            4.1            4.1            4.1            4.1             4.1   \n",
       "1            3.5            3.5            3.2            3.2             3.0   \n",
       "2            4.3            4.3            4.3            4.3             4.3   \n",
       "3            3.2            3.2            3.2            3.2             3.1   \n",
       "4            3.7            3.7            3.7            3.8             3.8   \n",
       "\n",
       "   ...  V_value_591  V_value_592  V_value_593  V_value_594  V_value_595  \\\n",
       "0  ...          0.0          0.0          0.0          0.0          0.0   \n",
       "1  ...          0.0          0.0          0.0          0.0          0.0   \n",
       "2  ...          0.0          0.0          0.0          0.0          0.0   \n",
       "3  ...          0.0          0.0          0.0          0.0          0.0   \n",
       "4  ...          0.0          0.0          0.0          0.0          0.0   \n",
       "\n",
       "   V_value_596  V_value_597  V_value_598  V_value_599  V_value_600  \n",
       "0          0.0          0.0          0.0          0.0          0.0  \n",
       "1          0.0          0.0          0.0          0.0          0.0  \n",
       "2          0.0          0.0          0.0          0.0          0.0  \n",
       "3          0.0          0.0          0.0          0.0          0.0  \n",
       "4          0.0          0.0          0.0          0.0          0.0  \n",
       "\n",
       "[5 rows x 16800 columns]"
      ]
     },
     "execution_count": 23,
     "metadata": {},
     "output_type": "execute_result"
    }
   ],
   "source": [
    "# Path to the .txt file containing the column names\n",
    "column_names_file_path = '../../Mining_DataSet/column_names.txt'\n",
    "\n",
    "# Read the column names from the .txt file\n",
    "with open(column_names_file_path, 'r') as file:\n",
    "    column_names = file.read().strip().split()\n",
    "\n",
    "test_data.columns = column_names\n",
    "test_data.head()"
   ]
  },
  {
   "cell_type": "code",
   "execution_count": 25,
   "id": "c15befbb-408e-41e8-9e24-9bc488b227f1",
   "metadata": {},
   "outputs": [],
   "source": [
    "test_data.to_csv('../../extracted_data/test_data_full_with_columns.csv', index=False)"
   ]
  },
  {
   "cell_type": "code",
   "execution_count": 27,
   "id": "9820b4aa-f795-4562-8eba-4b2a2afa23dd",
   "metadata": {},
   "outputs": [
    {
     "name": "stdout",
     "output_type": "stream",
     "text": [
      "(5076, 3)\n",
      "    MM263   MM264    MM256\n",
      "0  normal  normal  warning\n",
      "1  normal  normal   normal\n",
      "2  normal  normal   normal\n",
      "3  normal  normal   normal\n",
      "4  normal  normal   normal\n"
     ]
    }
   ],
   "source": [
    "test_labels = pd.read_csv(\"../../Mining_DataSet/testLabels/testLabels.csv\", header = None)\n",
    "test_labels.columns = ['MM263', 'MM264', 'MM256']\n",
    "print(test_labels.shape)\n",
    "print(test_labels.head())"
   ]
  },
  {
   "cell_type": "code",
   "execution_count": 29,
   "id": "cdb97d67-4206-4d1b-bdc5-5c5b6f969f04",
   "metadata": {},
   "outputs": [],
   "source": [
    "test_labels.to_csv('../../extracted_data/test_labels_full_with_columns.csv', index=False)"
   ]
  },
  {
   "cell_type": "code",
   "execution_count": null,
   "id": "d7249167-a158-4fff-9524-6a1d840dec0e",
   "metadata": {},
   "outputs": [],
   "source": [
    "# label_mapping = {'normal': 0, 'warning': 1}\n",
    "# test_labels['MM263'] = test_labels['MM263'].replace(label_mapping).astype(int)\n",
    "# test_labels['MM264'] = test_labels['MM264'].replace(label_mapping).astype(int)\n",
    "# test_labels['MM256'] = test_labels['MM256'].replace(label_mapping).astype(int)\n",
    "# test_labels.head()"
   ]
  },
  {
   "cell_type": "code",
   "execution_count": 31,
   "id": "ff480153-f1ea-4a80-8464-c2ac10408e26",
   "metadata": {},
   "outputs": [],
   "source": [
    "# Separate features and target\n",
    "X_train = train_data\n",
    "y_train = train_labels['MM263']\n",
    "\n",
    "X_test = test_data\n",
    "y_test = test_labels['MM263']"
   ]
  },
  {
   "cell_type": "code",
   "execution_count": 33,
   "id": "fcf28efb-ab72-4e6f-b70e-9e1bc493de92",
   "metadata": {},
   "outputs": [
    {
     "name": "stdout",
     "output_type": "stream",
     "text": [
      "(51700, 16800)\n",
      "(51700,)\n",
      "(5076, 16800)\n",
      "(5076,)\n"
     ]
    }
   ],
   "source": [
    "print(X_train.shape)\n",
    "print(y_train.shape)\n",
    "print(X_test.shape)\n",
    "print(y_test.shape)"
   ]
  },
  {
   "cell_type": "code",
   "execution_count": 35,
   "id": "7925ed3f-d68e-496e-b9e7-15d3cb3290a8",
   "metadata": {},
   "outputs": [
    {
     "name": "stdout",
     "output_type": "stream",
     "text": [
      "Probability of 'warning': 0.008994197292069633\n"
     ]
    }
   ],
   "source": [
    "counts = train_labels['MM263'].value_counts()  # This gives you a count of each unique value in the column\n",
    "\n",
    "# Calculate the probability of 'warning'\n",
    "if 'warning' in counts:\n",
    "    warning_probability = counts['warning'] / counts.sum()\n",
    "else:\n",
    "    warning_probability = 0  # In case there are no 'warning' labels\n",
    "\n",
    "print(\"Probability of 'warning':\", warning_probability)\n"
   ]
  },
  {
   "cell_type": "code",
   "execution_count": 37,
   "id": "fea55cac-9128-4d7c-84d8-c207e4bc729f",
   "metadata": {},
   "outputs": [],
   "source": [
    "from sklearn.ensemble import RandomForestClassifier\n",
    "from sklearn.metrics import balanced_accuracy_score, classification_report, confusion_matrix\n",
    "\n",
    "def trainRF(n):\n",
    "    rf_classifier = RandomForestClassifier(n_estimators=n, random_state=42, class_weight='balanced')\n",
    "    rf_classifier.fit(X_train, y_train)\n",
    "    return rf_classifier\n",
    "\n"
   ]
  },
  {
   "cell_type": "code",
   "execution_count": 39,
   "id": "1d34bc13-ca31-4859-8516-756f821d31e6",
   "metadata": {},
   "outputs": [],
   "source": [
    "rf_classifier = trainRF(100)"
   ]
  },
  {
   "cell_type": "code",
   "execution_count": 41,
   "id": "8b934ca5-bece-4c5f-ae90-db58088782f3",
   "metadata": {},
   "outputs": [],
   "source": [
    "rf_probabilities = rf_classifier.predict_proba(X_test)"
   ]
  },
  {
   "cell_type": "code",
   "execution_count": 43,
   "id": "c68ad134-5411-4d41-912c-1d564893e2e4",
   "metadata": {},
   "outputs": [
    {
     "name": "stdout",
     "output_type": "stream",
     "text": [
      "AUC with Random Forest using Probabilities: 0.7950976503255011\n"
     ]
    }
   ],
   "source": [
    "from sklearn.metrics import roc_auc_score\n",
    "auc = roc_auc_score(y_test, rf_probabilities[:, 1])\n",
    "print(\"AUC with Random Forest using Probabilities:\", auc)"
   ]
  },
  {
   "cell_type": "code",
   "execution_count": 45,
   "id": "1af4cb7e-71ff-440c-a1fe-b7a8f35a7210",
   "metadata": {},
   "outputs": [
    {
     "name": "stdout",
     "output_type": "stream",
     "text": [
      "(5076,)\n"
     ]
    }
   ],
   "source": [
    "# Threshold derived from training data's class distribution\n",
    "warning_threshold = warning_probability  # The variable computed earlier\n",
    "\n",
    "# Assuming the 'warning' class is the second column in the probabilities\n",
    "predicted_labels = np.where(rf_probabilities[:, 1] >= warning_threshold, 'warning', 'normal')\n",
    "\n",
    "# Check the shape of predicted_labels to ensure it is one-dimensional\n",
    "print(predicted_labels.shape)\n",
    "\n",
    "\n"
   ]
  },
  {
   "cell_type": "code",
   "execution_count": 47,
   "id": "ca6cbd27-10d6-47ea-866b-b8e2e8f521c3",
   "metadata": {},
   "outputs": [
    {
     "name": "stdout",
     "output_type": "stream",
     "text": [
      "              precision    recall  f1-score   support\n",
      "\n",
      "      normal       1.00      0.71      0.83      5042\n",
      "     warning       0.02      0.85      0.04        34\n",
      "\n",
      "    accuracy                           0.71      5076\n",
      "   macro avg       0.51      0.78      0.43      5076\n",
      "weighted avg       0.99      0.71      0.82      5076\n",
      "\n",
      "Confusion Matrix:\n",
      " [[3568 1474]\n",
      " [   5   29]]\n"
     ]
    }
   ],
   "source": [
    "# Classification report and confusion matrix for the new predictions\n",
    "print(classification_report(y_test, predicted_labels))\n",
    "print(\"Confusion Matrix:\\n\", confusion_matrix(y_test, predicted_labels))"
   ]
  },
  {
   "cell_type": "code",
   "execution_count": 61,
   "id": "b5bc7953-fe51-4982-85bd-564d521c8ca7",
   "metadata": {},
   "outputs": [],
   "source": [
    "\n",
    "def trainRF(nestimators,depth ):\n",
    "    rf_classifier = RandomForestClassifier(\n",
    "        n_estimators=nestimators,\n",
    "        max_depth=depth,\n",
    "        # min_samples_split=50,\n",
    "        # min_samples_leaf=20,\n",
    "        # max_features='sqrt',\n",
    "        random_state=42,\n",
    "        class_weight='balanced'\n",
    "    )\n",
    "    rf_classifier.fit(X_train, y_train)\n",
    "    rf_probabilities = rf_classifier.predict_proba(X_test)\n",
    "    auc = roc_auc_score(y_test, rf_probabilities[:, 1])\n",
    "    print(\"AUC with combined settings:\", auc)\n",
    "\n",
    "    # Threshold derived from training data's class distribution\n",
    "    warning_threshold = warning_probability  # The variable computed earlier\n",
    "    \n",
    "    # Assuming the 'warning' class is the second column in the probabilities\n",
    "    predicted_labels = np.where(rf_probabilities[:, 1] >= warning_threshold, 'warning', 'normal')\n",
    "    \n",
    "    print(classification_report(y_test, predicted_labels))\n",
    "    print(\"Confusion Matrix:\\n\", confusion_matrix(y_test, predicted_labels))\n",
    "    # return rf_probabilities\n"
   ]
  },
  {
   "cell_type": "code",
   "execution_count": 55,
   "id": "2909e90c-ca0e-475e-b3f7-94414c373d27",
   "metadata": {},
   "outputs": [
    {
     "name": "stdout",
     "output_type": "stream",
     "text": [
      "AUC with combined settings: 0.7699646498821662\n",
      "              precision    recall  f1-score   support\n",
      "\n",
      "      normal       1.00      0.75      0.86      5042\n",
      "     warning       0.02      0.79      0.04        34\n",
      "\n",
      "    accuracy                           0.75      5076\n",
      "   macro avg       0.51      0.77      0.45      5076\n",
      "weighted avg       0.99      0.75      0.85      5076\n",
      "\n",
      "Confusion Matrix:\n",
      " [[3792 1250]\n",
      " [   7   27]]\n"
     ]
    }
   ],
   "source": [
    "from sklearn.metrics import roc_auc_score\n",
    "\n",
    "rf_probabilities = trainRF(50, 100)\n",
    "\n",
    "\n",
    "# Threshold derived from training data's class distribution\n",
    "warning_threshold = warning_probability  # The variable computed earlier\n",
    "\n",
    "# Assuming the 'warning' class is the second column in the probabilities\n",
    "predicted_labels = np.where(rf_probabilities[:, 1] >= warning_threshold, 'warning', 'normal')\n",
    "\n",
    "print(classification_report(y_test, predicted_labels))\n",
    "print(\"Confusion Matrix:\\n\", confusion_matrix(y_test, predicted_labels))\n",
    "\n",
    "\n"
   ]
  },
  {
   "cell_type": "code",
   "execution_count": 57,
   "id": "d227a7b7-59e1-4e5f-bbe2-b0e6cbf50c09",
   "metadata": {},
   "outputs": [
    {
     "name": "stdout",
     "output_type": "stream",
     "text": [
      "AUC with combined settings: 0.7689583965279885\n",
      "              precision    recall  f1-score   support\n",
      "\n",
      "      normal       1.00      0.74      0.85      5042\n",
      "     warning       0.02      0.82      0.04        34\n",
      "\n",
      "    accuracy                           0.74      5076\n",
      "   macro avg       0.51      0.78      0.44      5076\n",
      "weighted avg       0.99      0.74      0.84      5076\n",
      "\n",
      "Confusion Matrix:\n",
      " [[3720 1322]\n",
      " [   6   28]]\n"
     ]
    }
   ],
   "source": [
    "from sklearn.metrics import roc_auc_score\n",
    "\n",
    "rf_probabilities = trainRF(200, 200)\n",
    "\n",
    "\n",
    "# Threshold derived from training data's class distribution\n",
    "warning_threshold = warning_probability  # The variable computed earlier\n",
    "\n",
    "# Assuming the 'warning' class is the second column in the probabilities\n",
    "predicted_labels = np.where(rf_probabilities[:, 1] >= warning_threshold, 'warning', 'normal')\n",
    "\n",
    "print(classification_report(y_test, predicted_labels))\n",
    "print(\"Confusion Matrix:\\n\", confusion_matrix(y_test, predicted_labels))\n",
    "\n",
    "\n"
   ]
  },
  {
   "cell_type": "code",
   "execution_count": 59,
   "id": "db6ce5a9-abfd-46b9-92ef-7a8b5530f606",
   "metadata": {},
   "outputs": [
    {
     "name": "stdout",
     "output_type": "stream",
     "text": [
      "AUC with combined settings: 0.7782917609725365\n",
      "              precision    recall  f1-score   support\n",
      "\n",
      "      normal       1.00      0.72      0.84      5042\n",
      "     warning       0.02      0.82      0.04        34\n",
      "\n",
      "    accuracy                           0.72      5076\n",
      "   macro avg       0.51      0.77      0.44      5076\n",
      "weighted avg       0.99      0.72      0.83      5076\n",
      "\n",
      "Confusion Matrix:\n",
      " [[3645 1397]\n",
      " [   6   28]]\n"
     ]
    }
   ],
   "source": [
    "from sklearn.metrics import roc_auc_score\n",
    "\n",
    "rf_probabilities = trainRF(80, 100)\n",
    "\n",
    "\n",
    "# Threshold derived from training data's class distribution\n",
    "warning_threshold = warning_probability  # The variable computed earlier\n",
    "\n",
    "# Assuming the 'warning' class is the second column in the probabilities\n",
    "predicted_labels = np.where(rf_probabilities[:, 1] >= warning_threshold, 'warning', 'normal')\n",
    "\n",
    "print(classification_report(y_test, predicted_labels))\n",
    "print(\"Confusion Matrix:\\n\", confusion_matrix(y_test, predicted_labels))\n",
    "\n",
    "\n"
   ]
  },
  {
   "cell_type": "code",
   "execution_count": 63,
   "id": "6d7c589f-8fcd-470e-b725-3283febecf37",
   "metadata": {},
   "outputs": [
    {
     "name": "stdout",
     "output_type": "stream",
     "text": [
      "AUC with combined settings: 0.7902938843129477\n",
      "              precision    recall  f1-score   support\n",
      "\n",
      "      normal       1.00      0.74      0.85      5042\n",
      "     warning       0.02      0.85      0.04        34\n",
      "\n",
      "    accuracy                           0.74      5076\n",
      "   macro avg       0.51      0.79      0.44      5076\n",
      "weighted avg       0.99      0.74      0.84      5076\n",
      "\n",
      "Confusion Matrix:\n",
      " [[3710 1332]\n",
      " [   5   29]]\n"
     ]
    }
   ],
   "source": [
    "trainRF(70, 150)"
   ]
  },
  {
   "cell_type": "code",
   "execution_count": 65,
   "id": "017a157a-74ce-45a1-a8aa-fc624a09f6c0",
   "metadata": {},
   "outputs": [
    {
     "name": "stdout",
     "output_type": "stream",
     "text": [
      "AUC with combined settings: 0.7902938843129477\n",
      "              precision    recall  f1-score   support\n",
      "\n",
      "      normal       1.00      0.74      0.85      5042\n",
      "     warning       0.02      0.85      0.04        34\n",
      "\n",
      "    accuracy                           0.74      5076\n",
      "   macro avg       0.51      0.79      0.44      5076\n",
      "weighted avg       0.99      0.74      0.84      5076\n",
      "\n",
      "Confusion Matrix:\n",
      " [[3710 1332]\n",
      " [   5   29]]\n"
     ]
    }
   ],
   "source": [
    "trainRF(70, 200)"
   ]
  },
  {
   "cell_type": "code",
   "execution_count": 67,
   "id": "fe03dfec-7ac2-4313-8df1-5a9a8e9e739e",
   "metadata": {},
   "outputs": [
    {
     "name": "stdout",
     "output_type": "stream",
     "text": [
      "AUC with combined settings: 0.7969409898032993\n",
      "              precision    recall  f1-score   support\n",
      "\n",
      "      normal       1.00      0.74      0.85      5042\n",
      "     warning       0.02      0.85      0.04        34\n",
      "\n",
      "    accuracy                           0.74      5076\n",
      "   macro avg       0.51      0.80      0.45      5076\n",
      "weighted avg       0.99      0.74      0.85      5076\n",
      "\n",
      "Confusion Matrix:\n",
      " [[3743 1299]\n",
      " [   5   29]]\n"
     ]
    }
   ],
   "source": [
    "trainRF(60, 500)"
   ]
  },
  {
   "cell_type": "code",
   "execution_count": 69,
   "id": "2030ca42-a516-4b5b-bb6c-90c6e738462f",
   "metadata": {},
   "outputs": [
    {
     "name": "stdout",
     "output_type": "stream",
     "text": [
      "AUC with combined settings: 0.7902938843129477\n",
      "              precision    recall  f1-score   support\n",
      "\n",
      "      normal       1.00      0.74      0.85      5042\n",
      "     warning       0.02      0.85      0.04        34\n",
      "\n",
      "    accuracy                           0.74      5076\n",
      "   macro avg       0.51      0.79      0.44      5076\n",
      "weighted avg       0.99      0.74      0.84      5076\n",
      "\n",
      "Confusion Matrix:\n",
      " [[3710 1332]\n",
      " [   5   29]]\n"
     ]
    }
   ],
   "source": [
    "trainRF(70, 1000)"
   ]
  },
  {
   "cell_type": "code",
   "execution_count": 70,
   "id": "1678b332-2e6d-4228-b149-04643925b375",
   "metadata": {},
   "outputs": [
    {
     "name": "stdout",
     "output_type": "stream",
     "text": [
      "AUC with combined settings: 0.7950976503255011\n",
      "              precision    recall  f1-score   support\n",
      "\n",
      "      normal       1.00      0.71      0.83      5042\n",
      "     warning       0.02      0.85      0.04        34\n",
      "\n",
      "    accuracy                           0.71      5076\n",
      "   macro avg       0.51      0.78      0.43      5076\n",
      "weighted avg       0.99      0.71      0.82      5076\n",
      "\n",
      "Confusion Matrix:\n",
      " [[3568 1474]\n",
      " [   5   29]]\n"
     ]
    }
   ],
   "source": [
    "trainRF(100, 1000)"
   ]
  }
 ],
 "metadata": {
  "kernelspec": {
   "display_name": "Python 3 (ipykernel)",
   "language": "python",
   "name": "python3"
  },
  "language_info": {
   "codemirror_mode": {
    "name": "ipython",
    "version": 3
   },
   "file_extension": ".py",
   "mimetype": "text/x-python",
   "name": "python",
   "nbconvert_exporter": "python",
   "pygments_lexer": "ipython3",
   "version": "3.12.4"
  }
 },
 "nbformat": 4,
 "nbformat_minor": 5
}
