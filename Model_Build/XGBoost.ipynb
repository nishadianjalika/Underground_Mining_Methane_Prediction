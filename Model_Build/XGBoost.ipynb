{
 "cells": [
  {
   "cell_type": "code",
   "execution_count": 1,
   "id": "ae759ea6-cc87-4e80-be66-b98316e21d1d",
   "metadata": {},
   "outputs": [],
   "source": [
    "import pandas as pd\n",
    "import numpy as np\n",
    "from sklearn.preprocessing import StandardScaler\n",
    "from sklearn.metrics import roc_curve, auc, accuracy_score\n",
    "import matplotlib.pyplot as plt\n"
   ]
  },
  {
   "cell_type": "code",
   "execution_count": 3,
   "id": "3a3564dd-f8c9-4f66-8e82-9d1c982df8d1",
   "metadata": {},
   "outputs": [
    {
     "data": {
      "text/plain": [
       "(51700, 560)"
      ]
     },
     "execution_count": 3,
     "metadata": {},
     "output_type": "execute_result"
    }
   ],
   "source": [
    "train_path = '../../feature_extracted_data/training_features_01.csv'\n",
    "train_data = pd.read_csv(train_path)\n",
    "train_data.shape"
   ]
  },
  {
   "cell_type": "code",
   "execution_count": 5,
   "id": "55320e20-cae7-46db-b577-2b2555f8912c",
   "metadata": {},
   "outputs": [
    {
     "name": "stdout",
     "output_type": "stream",
     "text": [
      "   AN311_window_1_mean  AN311_window_1_std  AN311_window_1_min  \\\n",
      "0             3.392500            0.139142                 3.2   \n",
      "1             3.372500            0.099132                 3.2   \n",
      "2             3.356667            0.121610                 3.2   \n",
      "3             3.380833            0.130573                 3.2   \n",
      "4             3.355000            0.125731                 3.1   \n",
      "\n",
      "   AN311_window_1_max  AN311_window_2_mean  AN311_window_2_std  \\\n",
      "0                 3.7             3.356667            0.121610   \n",
      "1                 3.7             3.380833            0.130573   \n",
      "2                 3.6             3.355000            0.125731   \n",
      "3                 3.6             3.392500            0.152295   \n",
      "4                 3.5             3.402500            0.145179   \n",
      "\n",
      "   AN311_window_2_min  AN311_window_2_max  AN311_window_3_mean  \\\n",
      "0                 3.2                 3.6             3.355000   \n",
      "1                 3.2                 3.6             3.392500   \n",
      "2                 3.1                 3.5             3.402500   \n",
      "3                 3.1                 3.7             3.345833   \n",
      "4                 3.2                 3.7             3.350833   \n",
      "\n",
      "   AN311_window_3_std  ...  V_window_3_min  V_window_3_max  V_window_4_mean  \\\n",
      "0            0.125731  ...             0.0             0.0              0.0   \n",
      "1            0.152295  ...             0.0             0.0              0.0   \n",
      "2            0.145179  ...             0.0             0.0              0.0   \n",
      "3            0.117541  ...             0.0             0.0              0.0   \n",
      "4            0.116187  ...             0.0             0.0              0.0   \n",
      "\n",
      "   V_window_4_std  V_window_4_min  V_window_4_max  V_window_5_mean  \\\n",
      "0             0.0             0.0             0.0              0.0   \n",
      "1             0.0             0.0             0.0              0.0   \n",
      "2             0.0             0.0             0.0              0.0   \n",
      "3             0.0             0.0             0.0              0.0   \n",
      "4             0.0             0.0             0.0              0.0   \n",
      "\n",
      "   V_window_5_std  V_window_5_min  V_window_5_max  \n",
      "0             0.0             0.0             0.0  \n",
      "1             0.0             0.0             0.0  \n",
      "2             0.0             0.0             0.0  \n",
      "3             0.0             0.0             0.0  \n",
      "4             0.0             0.0             0.0  \n",
      "\n",
      "[5 rows x 560 columns]\n"
     ]
    }
   ],
   "source": [
    "print(train_data.head())"
   ]
  },
  {
   "cell_type": "code",
   "execution_count": 7,
   "id": "06e1a77f-b1b6-44c6-a5ed-681c89923b58",
   "metadata": {},
   "outputs": [
    {
     "data": {
      "text/plain": [
       "(51700, 3)"
      ]
     },
     "execution_count": 7,
     "metadata": {},
     "output_type": "execute_result"
    }
   ],
   "source": [
    "train_label_path = '../../extracted_data/train_labels_full_with_columns.csv'\n",
    "train_labels = pd.read_csv(train_label_path)\n",
    "train_labels.shape"
   ]
  },
  {
   "cell_type": "code",
   "execution_count": 9,
   "id": "e6108b89-4eca-4702-aa19-f73d6235cfe8",
   "metadata": {},
   "outputs": [
    {
     "data": {
      "text/html": [
       "<div>\n",
       "<style scoped>\n",
       "    .dataframe tbody tr th:only-of-type {\n",
       "        vertical-align: middle;\n",
       "    }\n",
       "\n",
       "    .dataframe tbody tr th {\n",
       "        vertical-align: top;\n",
       "    }\n",
       "\n",
       "    .dataframe thead th {\n",
       "        text-align: right;\n",
       "    }\n",
       "</style>\n",
       "<table border=\"1\" class=\"dataframe\">\n",
       "  <thead>\n",
       "    <tr style=\"text-align: right;\">\n",
       "      <th></th>\n",
       "      <th>MM263</th>\n",
       "      <th>MM264</th>\n",
       "      <th>MM256</th>\n",
       "    </tr>\n",
       "  </thead>\n",
       "  <tbody>\n",
       "    <tr>\n",
       "      <th>0</th>\n",
       "      <td>normal</td>\n",
       "      <td>normal</td>\n",
       "      <td>normal</td>\n",
       "    </tr>\n",
       "    <tr>\n",
       "      <th>1</th>\n",
       "      <td>normal</td>\n",
       "      <td>normal</td>\n",
       "      <td>normal</td>\n",
       "    </tr>\n",
       "    <tr>\n",
       "      <th>2</th>\n",
       "      <td>normal</td>\n",
       "      <td>normal</td>\n",
       "      <td>normal</td>\n",
       "    </tr>\n",
       "    <tr>\n",
       "      <th>3</th>\n",
       "      <td>normal</td>\n",
       "      <td>normal</td>\n",
       "      <td>normal</td>\n",
       "    </tr>\n",
       "    <tr>\n",
       "      <th>4</th>\n",
       "      <td>normal</td>\n",
       "      <td>normal</td>\n",
       "      <td>normal</td>\n",
       "    </tr>\n",
       "  </tbody>\n",
       "</table>\n",
       "</div>"
      ],
      "text/plain": [
       "    MM263   MM264   MM256\n",
       "0  normal  normal  normal\n",
       "1  normal  normal  normal\n",
       "2  normal  normal  normal\n",
       "3  normal  normal  normal\n",
       "4  normal  normal  normal"
      ]
     },
     "execution_count": 9,
     "metadata": {},
     "output_type": "execute_result"
    }
   ],
   "source": [
    "train_labels.head()"
   ]
  },
  {
   "cell_type": "code",
   "execution_count": 11,
   "id": "7091a685-bdf4-4d12-b1b7-d5dea8725713",
   "metadata": {},
   "outputs": [
    {
     "data": {
      "text/plain": [
       "(5076, 560)"
      ]
     },
     "execution_count": 11,
     "metadata": {},
     "output_type": "execute_result"
    }
   ],
   "source": [
    "test_data = pd.read_csv(\"../../feature_extracted_data/test_features_01.csv\")\n",
    "test_data.shape"
   ]
  },
  {
   "cell_type": "code",
   "execution_count": 13,
   "id": "ffcbbe47-f3d6-4d11-adad-a3d37adcfdc6",
   "metadata": {},
   "outputs": [
    {
     "data": {
      "text/html": [
       "<div>\n",
       "<style scoped>\n",
       "    .dataframe tbody tr th:only-of-type {\n",
       "        vertical-align: middle;\n",
       "    }\n",
       "\n",
       "    .dataframe tbody tr th {\n",
       "        vertical-align: top;\n",
       "    }\n",
       "\n",
       "    .dataframe thead th {\n",
       "        text-align: right;\n",
       "    }\n",
       "</style>\n",
       "<table border=\"1\" class=\"dataframe\">\n",
       "  <thead>\n",
       "    <tr style=\"text-align: right;\">\n",
       "      <th></th>\n",
       "      <th>AN311_window_1_mean</th>\n",
       "      <th>AN311_window_1_std</th>\n",
       "      <th>AN311_window_1_min</th>\n",
       "      <th>AN311_window_1_max</th>\n",
       "      <th>AN311_window_2_mean</th>\n",
       "      <th>AN311_window_2_std</th>\n",
       "      <th>AN311_window_2_min</th>\n",
       "      <th>AN311_window_2_max</th>\n",
       "      <th>AN311_window_3_mean</th>\n",
       "      <th>AN311_window_3_std</th>\n",
       "      <th>...</th>\n",
       "      <th>V_window_3_min</th>\n",
       "      <th>V_window_3_max</th>\n",
       "      <th>V_window_4_mean</th>\n",
       "      <th>V_window_4_std</th>\n",
       "      <th>V_window_4_min</th>\n",
       "      <th>V_window_4_max</th>\n",
       "      <th>V_window_5_mean</th>\n",
       "      <th>V_window_5_std</th>\n",
       "      <th>V_window_5_min</th>\n",
       "      <th>V_window_5_max</th>\n",
       "    </tr>\n",
       "  </thead>\n",
       "  <tbody>\n",
       "    <tr>\n",
       "      <th>0</th>\n",
       "      <td>4.073333</td>\n",
       "      <td>0.124989</td>\n",
       "      <td>3.9</td>\n",
       "      <td>4.4</td>\n",
       "      <td>4.061667</td>\n",
       "      <td>0.105026</td>\n",
       "      <td>3.9</td>\n",
       "      <td>4.2</td>\n",
       "      <td>4.158333</td>\n",
       "      <td>0.104549</td>\n",
       "      <td>...</td>\n",
       "      <td>0.0</td>\n",
       "      <td>0.0</td>\n",
       "      <td>0.0</td>\n",
       "      <td>0.0</td>\n",
       "      <td>0.0</td>\n",
       "      <td>0.0</td>\n",
       "      <td>0.0</td>\n",
       "      <td>0.0</td>\n",
       "      <td>0.0</td>\n",
       "      <td>0.0</td>\n",
       "    </tr>\n",
       "    <tr>\n",
       "      <th>1</th>\n",
       "      <td>3.345833</td>\n",
       "      <td>0.246271</td>\n",
       "      <td>2.9</td>\n",
       "      <td>3.9</td>\n",
       "      <td>3.205000</td>\n",
       "      <td>0.133448</td>\n",
       "      <td>2.8</td>\n",
       "      <td>3.7</td>\n",
       "      <td>3.274167</td>\n",
       "      <td>0.198954</td>\n",
       "      <td>...</td>\n",
       "      <td>0.0</td>\n",
       "      <td>0.0</td>\n",
       "      <td>0.0</td>\n",
       "      <td>0.0</td>\n",
       "      <td>0.0</td>\n",
       "      <td>0.0</td>\n",
       "      <td>0.0</td>\n",
       "      <td>0.0</td>\n",
       "      <td>0.0</td>\n",
       "      <td>0.0</td>\n",
       "    </tr>\n",
       "    <tr>\n",
       "      <th>2</th>\n",
       "      <td>4.148333</td>\n",
       "      <td>0.100816</td>\n",
       "      <td>3.9</td>\n",
       "      <td>4.3</td>\n",
       "      <td>4.056667</td>\n",
       "      <td>0.098939</td>\n",
       "      <td>3.9</td>\n",
       "      <td>4.2</td>\n",
       "      <td>4.100000</td>\n",
       "      <td>0.125167</td>\n",
       "      <td>...</td>\n",
       "      <td>0.0</td>\n",
       "      <td>0.0</td>\n",
       "      <td>0.0</td>\n",
       "      <td>0.0</td>\n",
       "      <td>0.0</td>\n",
       "      <td>0.0</td>\n",
       "      <td>0.0</td>\n",
       "      <td>0.0</td>\n",
       "      <td>0.0</td>\n",
       "      <td>0.0</td>\n",
       "    </tr>\n",
       "    <tr>\n",
       "      <th>3</th>\n",
       "      <td>3.177500</td>\n",
       "      <td>0.350823</td>\n",
       "      <td>2.7</td>\n",
       "      <td>4.0</td>\n",
       "      <td>3.215833</td>\n",
       "      <td>0.316490</td>\n",
       "      <td>2.7</td>\n",
       "      <td>3.9</td>\n",
       "      <td>3.261667</td>\n",
       "      <td>0.192000</td>\n",
       "      <td>...</td>\n",
       "      <td>0.0</td>\n",
       "      <td>0.0</td>\n",
       "      <td>0.0</td>\n",
       "      <td>0.0</td>\n",
       "      <td>0.0</td>\n",
       "      <td>0.0</td>\n",
       "      <td>0.0</td>\n",
       "      <td>0.0</td>\n",
       "      <td>0.0</td>\n",
       "      <td>0.0</td>\n",
       "    </tr>\n",
       "    <tr>\n",
       "      <th>4</th>\n",
       "      <td>3.918333</td>\n",
       "      <td>0.172715</td>\n",
       "      <td>3.6</td>\n",
       "      <td>4.2</td>\n",
       "      <td>3.790000</td>\n",
       "      <td>0.159896</td>\n",
       "      <td>3.6</td>\n",
       "      <td>4.2</td>\n",
       "      <td>3.873333</td>\n",
       "      <td>0.185173</td>\n",
       "      <td>...</td>\n",
       "      <td>0.0</td>\n",
       "      <td>0.0</td>\n",
       "      <td>0.0</td>\n",
       "      <td>0.0</td>\n",
       "      <td>0.0</td>\n",
       "      <td>0.0</td>\n",
       "      <td>0.0</td>\n",
       "      <td>0.0</td>\n",
       "      <td>0.0</td>\n",
       "      <td>0.0</td>\n",
       "    </tr>\n",
       "  </tbody>\n",
       "</table>\n",
       "<p>5 rows × 560 columns</p>\n",
       "</div>"
      ],
      "text/plain": [
       "   AN311_window_1_mean  AN311_window_1_std  AN311_window_1_min  \\\n",
       "0             4.073333            0.124989                 3.9   \n",
       "1             3.345833            0.246271                 2.9   \n",
       "2             4.148333            0.100816                 3.9   \n",
       "3             3.177500            0.350823                 2.7   \n",
       "4             3.918333            0.172715                 3.6   \n",
       "\n",
       "   AN311_window_1_max  AN311_window_2_mean  AN311_window_2_std  \\\n",
       "0                 4.4             4.061667            0.105026   \n",
       "1                 3.9             3.205000            0.133448   \n",
       "2                 4.3             4.056667            0.098939   \n",
       "3                 4.0             3.215833            0.316490   \n",
       "4                 4.2             3.790000            0.159896   \n",
       "\n",
       "   AN311_window_2_min  AN311_window_2_max  AN311_window_3_mean  \\\n",
       "0                 3.9                 4.2             4.158333   \n",
       "1                 2.8                 3.7             3.274167   \n",
       "2                 3.9                 4.2             4.100000   \n",
       "3                 2.7                 3.9             3.261667   \n",
       "4                 3.6                 4.2             3.873333   \n",
       "\n",
       "   AN311_window_3_std  ...  V_window_3_min  V_window_3_max  V_window_4_mean  \\\n",
       "0            0.104549  ...             0.0             0.0              0.0   \n",
       "1            0.198954  ...             0.0             0.0              0.0   \n",
       "2            0.125167  ...             0.0             0.0              0.0   \n",
       "3            0.192000  ...             0.0             0.0              0.0   \n",
       "4            0.185173  ...             0.0             0.0              0.0   \n",
       "\n",
       "   V_window_4_std  V_window_4_min  V_window_4_max  V_window_5_mean  \\\n",
       "0             0.0             0.0             0.0              0.0   \n",
       "1             0.0             0.0             0.0              0.0   \n",
       "2             0.0             0.0             0.0              0.0   \n",
       "3             0.0             0.0             0.0              0.0   \n",
       "4             0.0             0.0             0.0              0.0   \n",
       "\n",
       "   V_window_5_std  V_window_5_min  V_window_5_max  \n",
       "0             0.0             0.0             0.0  \n",
       "1             0.0             0.0             0.0  \n",
       "2             0.0             0.0             0.0  \n",
       "3             0.0             0.0             0.0  \n",
       "4             0.0             0.0             0.0  \n",
       "\n",
       "[5 rows x 560 columns]"
      ]
     },
     "execution_count": 13,
     "metadata": {},
     "output_type": "execute_result"
    }
   ],
   "source": [
    "test_data.head()"
   ]
  },
  {
   "cell_type": "code",
   "execution_count": 15,
   "id": "a5a72f96-ee66-44b7-9c7d-e3cbb55d406b",
   "metadata": {},
   "outputs": [
    {
     "name": "stdout",
     "output_type": "stream",
     "text": [
      "(5076, 3)\n",
      "    MM263   MM264    MM256\n",
      "0  normal  normal  warning\n",
      "1  normal  normal   normal\n",
      "2  normal  normal   normal\n",
      "3  normal  normal   normal\n",
      "4  normal  normal   normal\n"
     ]
    }
   ],
   "source": [
    "test_labels = pd.read_csv(\"../../extracted_data/test_labels_full_with_columns.csv\")\n",
    "print(test_labels.shape)\n",
    "print(test_labels.head())"
   ]
  },
  {
   "cell_type": "markdown",
   "id": "4c647887-9ee2-4b54-b935-cc2973ae2ba3",
   "metadata": {},
   "source": [
    "### Combine with original data & feature extracted"
   ]
  },
  {
   "cell_type": "code",
   "execution_count": 17,
   "id": "65b2db44-95a1-4024-b369-420adc374497",
   "metadata": {},
   "outputs": [
    {
     "data": {
      "text/plain": [
       "(51700, 16800)"
      ]
     },
     "execution_count": 17,
     "metadata": {},
     "output_type": "execute_result"
    }
   ],
   "source": [
    "original_train_data = pd.read_csv(\"../../extracted_data/training_data_full_with_columns.csv\")\n",
    "original_train_data.shape"
   ]
  },
  {
   "cell_type": "code",
   "execution_count": 20,
   "id": "5da96253-417e-42c9-87f0-694062b8d21b",
   "metadata": {},
   "outputs": [
    {
     "data": {
      "text/plain": [
       "(5076, 16800)"
      ]
     },
     "execution_count": 20,
     "metadata": {},
     "output_type": "execute_result"
    }
   ],
   "source": [
    "original_test_data = pd.read_csv(\"../../extracted_data/test_data_full_with_columns.csv\")\n",
    "original_test_data.shape"
   ]
  },
  {
   "cell_type": "code",
   "execution_count": 22,
   "id": "d354dfb8-0e34-4511-b285-305963b7df24",
   "metadata": {},
   "outputs": [
    {
     "data": {
      "text/plain": [
       "(51700, 17360)"
      ]
     },
     "execution_count": 22,
     "metadata": {},
     "output_type": "execute_result"
    }
   ],
   "source": [
    "merged_train_df = pd.concat([original_train_data, train_data], axis=1)\n",
    "merged_train_df.shape"
   ]
  },
  {
   "cell_type": "code",
   "execution_count": 24,
   "id": "570f612c-aaba-4ab9-b48a-d2b29ce83e2e",
   "metadata": {},
   "outputs": [
    {
     "data": {
      "text/plain": [
       "(5076, 17360)"
      ]
     },
     "execution_count": 24,
     "metadata": {},
     "output_type": "execute_result"
    }
   ],
   "source": [
    "merged_test_df = pd.concat([original_test_data, test_data], axis=1)\n",
    "merged_test_df.shape"
   ]
  },
  {
   "cell_type": "code",
   "execution_count": 26,
   "id": "cc205c1c-0635-40bf-aaf6-583e297089dd",
   "metadata": {},
   "outputs": [],
   "source": [
    "# Separate features and target\n",
    "X_train = merged_train_df\n",
    "y_train = train_labels['MM263']\n",
    "\n",
    "X_test = merged_test_df\n",
    "y_test = test_labels['MM263']"
   ]
  },
  {
   "cell_type": "code",
   "execution_count": 28,
   "id": "d30e0e10-c321-4a99-b119-f1a9041cb1e1",
   "metadata": {},
   "outputs": [
    {
     "name": "stdout",
     "output_type": "stream",
     "text": [
      "(51700, 17360)\n",
      "(51700,)\n",
      "(5076, 17360)\n",
      "(5076,)\n"
     ]
    }
   ],
   "source": [
    "print(X_train.shape)\n",
    "print(y_train.shape)\n",
    "print(X_test.shape)\n",
    "print(y_test.shape)"
   ]
  },
  {
   "cell_type": "code",
   "execution_count": 50,
   "id": "7553ad17-0068-49aa-ab5a-95778bedc9d8",
   "metadata": {},
   "outputs": [],
   "source": [
    "import xgboost as xgb\n",
    "from sklearn.preprocessing import LabelEncoder\n",
    "from sklearn.metrics import accuracy_score, roc_auc_score, classification_report, confusion_matrix\n",
    "from sklearn.model_selection import train_test_split\n",
    "\n",
    "# Define your X_train, y_train, X_test, y_test\n",
    "# X_train, X_test, y_train, y_test = train_test_split(features, labels, test_size=0.3, random_state=42)\n",
    "\n",
    "def xgBoostModel(X_train, y_train):\n",
    "    # Initialize the label encoder\n",
    "    le = LabelEncoder()\n",
    "\n",
    "    # Fit label encoder and return encoded labels\n",
    "    y_train_encoded = le.fit_transform(y_train)\n",
    "\n",
    "    # Initialize the XGBoost classifier\n",
    "    model = xgb.XGBClassifier(use_label_encoder=False, eval_metric='logloss')\n",
    "\n",
    "    # Train the model with the encoded labels\n",
    "    model.fit(X_train, y_train_encoded)\n",
    "\n",
    "    # Store the label encoder in the model object for future use (prediction phase)\n",
    "    model.label_encoder_ = le\n",
    "\n",
    "    return model\n"
   ]
  },
  {
   "cell_type": "code",
   "execution_count": 52,
   "id": "962c5d22-e1a1-4300-92c0-15c3fffc1609",
   "metadata": {},
   "outputs": [
    {
     "name": "stderr",
     "output_type": "stream",
     "text": [
      "/opt/anaconda3/lib/python3.12/site-packages/xgboost/core.py:158: UserWarning: [00:03:53] WARNING: /Users/runner/work/xgboost/xgboost/src/learner.cc:740: \n",
      "Parameters: { \"use_label_encoder\" } are not used.\n",
      "\n",
      "  warnings.warn(smsg, UserWarning)\n"
     ]
    },
    {
     "name": "stdout",
     "output_type": "stream",
     "text": [
      "Accuracy: 0.9933018124507487\n",
      "ROC AUC: 0.9021513405044683\n",
      "Classification Report:\n",
      "              precision    recall  f1-score   support\n",
      "\n",
      "           0       0.99      1.00      1.00      5042\n",
      "           1       0.00      0.00      0.00        34\n",
      "\n",
      "    accuracy                           0.99      5076\n",
      "   macro avg       0.50      0.50      0.50      5076\n",
      "weighted avg       0.99      0.99      0.99      5076\n",
      "\n",
      "Confusion Matrix:\n",
      "[[5042    0]\n",
      " [  34    0]]\n"
     ]
    },
    {
     "name": "stderr",
     "output_type": "stream",
     "text": [
      "/opt/anaconda3/lib/python3.12/site-packages/sklearn/metrics/_classification.py:1509: UndefinedMetricWarning: Precision is ill-defined and being set to 0.0 in labels with no predicted samples. Use `zero_division` parameter to control this behavior.\n",
      "  _warn_prf(average, modifier, f\"{metric.capitalize()} is\", len(result))\n",
      "/opt/anaconda3/lib/python3.12/site-packages/sklearn/metrics/_classification.py:1509: UndefinedMetricWarning: Precision is ill-defined and being set to 0.0 in labels with no predicted samples. Use `zero_division` parameter to control this behavior.\n",
      "  _warn_prf(average, modifier, f\"{metric.capitalize()} is\", len(result))\n",
      "/opt/anaconda3/lib/python3.12/site-packages/sklearn/metrics/_classification.py:1509: UndefinedMetricWarning: Precision is ill-defined and being set to 0.0 in labels with no predicted samples. Use `zero_division` parameter to control this behavior.\n",
      "  _warn_prf(average, modifier, f\"{metric.capitalize()} is\", len(result))\n"
     ]
    }
   ],
   "source": [
    "# Train the model\n",
    "model = xgBoostModel(X_train, y_train)\n",
    "\n",
    "# Assume y_test is available and needs to be encoded using the same encoder used for y_train\n",
    "y_test_encoded = model.label_encoder_.transform(y_test)\n",
    "\n",
    "# Predict on the test data\n",
    "y_pred = model.predict(X_test)\n",
    "y_pred_proba = model.predict_proba(X_test)[:,1]  # Probabilities for the positive class\n"
   ]
  },
  {
   "cell_type": "code",
   "execution_count": 54,
   "id": "f07e6e55-8eec-4129-8718-a9840a3c7239",
   "metadata": {},
   "outputs": [
    {
     "name": "stdout",
     "output_type": "stream",
     "text": [
      "ROC AUC: 0.9021513405044683\n"
     ]
    }
   ],
   "source": [
    "# Compute ROC AUC\n",
    "auc = roc_auc_score(y_test_encoded, y_pred_proba)\n",
    "print(f\"ROC AUC: {auc}\")"
   ]
  },
  {
   "cell_type": "code",
   "execution_count": 58,
   "id": "1f9a0ab8-5aec-4ad9-bb8f-73e4e5abab73",
   "metadata": {},
   "outputs": [
    {
     "name": "stdout",
     "output_type": "stream",
     "text": [
      "Threshold: 0.01\n",
      "Classification Report:\n",
      "              precision    recall  f1-score   support\n",
      "\n",
      "           0       1.00      1.00      1.00      5042\n",
      "           1       0.53      0.29      0.38        34\n",
      "\n",
      "    accuracy                           0.99      5076\n",
      "   macro avg       0.76      0.65      0.69      5076\n",
      "weighted avg       0.99      0.99      0.99      5076\n",
      "\n",
      "Confusion Matrix:\n",
      "[[5033    9]\n",
      " [  24   10]]\n",
      "\n",
      "\n",
      "Threshold: 0.05\n",
      "Classification Report:\n",
      "              precision    recall  f1-score   support\n",
      "\n",
      "           0       0.99      1.00      1.00      5042\n",
      "           1       0.80      0.12      0.21        34\n",
      "\n",
      "    accuracy                           0.99      5076\n",
      "   macro avg       0.90      0.56      0.60      5076\n",
      "weighted avg       0.99      0.99      0.99      5076\n",
      "\n",
      "Confusion Matrix:\n",
      "[[5041    1]\n",
      " [  30    4]]\n",
      "\n",
      "\n",
      "Threshold: 0.1\n",
      "Classification Report:\n",
      "              precision    recall  f1-score   support\n",
      "\n",
      "           0       0.99      1.00      1.00      5042\n",
      "           1       0.67      0.06      0.11        34\n",
      "\n",
      "    accuracy                           0.99      5076\n",
      "   macro avg       0.83      0.53      0.55      5076\n",
      "weighted avg       0.99      0.99      0.99      5076\n",
      "\n",
      "Confusion Matrix:\n",
      "[[5041    1]\n",
      " [  32    2]]\n",
      "\n",
      "\n",
      "Threshold: 0.2\n",
      "Classification Report:\n",
      "              precision    recall  f1-score   support\n",
      "\n",
      "           0       0.99      1.00      1.00      5042\n",
      "           1       1.00      0.03      0.06        34\n",
      "\n",
      "    accuracy                           0.99      5076\n",
      "   macro avg       1.00      0.51      0.53      5076\n",
      "weighted avg       0.99      0.99      0.99      5076\n",
      "\n",
      "Confusion Matrix:\n",
      "[[5042    0]\n",
      " [  33    1]]\n",
      "\n",
      "\n",
      "Threshold: 0.3\n",
      "Classification Report:\n",
      "              precision    recall  f1-score   support\n",
      "\n",
      "           0       0.99      1.00      1.00      5042\n",
      "           1       1.00      0.03      0.06        34\n",
      "\n",
      "    accuracy                           0.99      5076\n",
      "   macro avg       1.00      0.51      0.53      5076\n",
      "weighted avg       0.99      0.99      0.99      5076\n",
      "\n",
      "Confusion Matrix:\n",
      "[[5042    0]\n",
      " [  33    1]]\n",
      "\n",
      "\n",
      "Threshold: 0.4\n",
      "Classification Report:\n",
      "              precision    recall  f1-score   support\n",
      "\n",
      "           0       0.99      1.00      1.00      5042\n",
      "           1       1.00      0.03      0.06        34\n",
      "\n",
      "    accuracy                           0.99      5076\n",
      "   macro avg       1.00      0.51      0.53      5076\n",
      "weighted avg       0.99      0.99      0.99      5076\n",
      "\n",
      "Confusion Matrix:\n",
      "[[5042    0]\n",
      " [  33    1]]\n",
      "\n",
      "\n",
      "Threshold: 0.5\n",
      "Classification Report:\n",
      "              precision    recall  f1-score   support\n",
      "\n",
      "           0       0.99      1.00      1.00      5042\n",
      "           1       0.00      0.00      0.00        34\n",
      "\n",
      "    accuracy                           0.99      5076\n",
      "   macro avg       0.50      0.50      0.50      5076\n",
      "weighted avg       0.99      0.99      0.99      5076\n",
      "\n",
      "Confusion Matrix:\n",
      "[[5042    0]\n",
      " [  34    0]]\n",
      "\n",
      "\n"
     ]
    },
    {
     "name": "stderr",
     "output_type": "stream",
     "text": [
      "/opt/anaconda3/lib/python3.12/site-packages/sklearn/metrics/_classification.py:1509: UndefinedMetricWarning: Precision is ill-defined and being set to 0.0 in labels with no predicted samples. Use `zero_division` parameter to control this behavior.\n",
      "  _warn_prf(average, modifier, f\"{metric.capitalize()} is\", len(result))\n",
      "/opt/anaconda3/lib/python3.12/site-packages/sklearn/metrics/_classification.py:1509: UndefinedMetricWarning: Precision is ill-defined and being set to 0.0 in labels with no predicted samples. Use `zero_division` parameter to control this behavior.\n",
      "  _warn_prf(average, modifier, f\"{metric.capitalize()} is\", len(result))\n",
      "/opt/anaconda3/lib/python3.12/site-packages/sklearn/metrics/_classification.py:1509: UndefinedMetricWarning: Precision is ill-defined and being set to 0.0 in labels with no predicted samples. Use `zero_division` parameter to control this behavior.\n",
      "  _warn_prf(average, modifier, f\"{metric.capitalize()} is\", len(result))\n"
     ]
    }
   ],
   "source": [
    "thresholds = [0.01, 0.05, 0.1, 0.2, 0.3, 0.4, 0.5]\n",
    "\n",
    "for thresh in thresholds:\n",
    "    y_pred_thresholded = np.where(y_pred_proba >= thresh, 1, 0)\n",
    "    # accuracy = accuracy_score(y_test_encoded, y_pred_thresholded)\n",
    "    print(f\"Threshold: {thresh}\")\n",
    "    # print(f\"Accuracy: {accuracy}\")\n",
    "    print(\"Classification Report:\")\n",
    "    print(classification_report(y_test_encoded, y_pred_thresholded))\n",
    "    print(\"Confusion Matrix:\")\n",
    "    print(confusion_matrix(y_test_encoded, y_pred_thresholded))\n",
    "    print(\"\\n\")\n"
   ]
  },
  {
   "cell_type": "markdown",
   "id": "917b7ec3-12de-47a2-8fe7-65bc4308221e",
   "metadata": {},
   "source": [
    "### Model without cutter loader features"
   ]
  },
  {
   "cell_type": "code",
   "execution_count": 61,
   "id": "d1293fba-9f71-40b8-902b-8ece3141ffed",
   "metadata": {},
   "outputs": [
    {
     "name": "stdout",
     "output_type": "stream",
     "text": [
      "(51700, 13020)\n",
      "   AN311_value_1  AN311_value_2  AN311_value_3  AN311_value_4  AN311_value_5  \\\n",
      "0            3.2            3.2            3.2            3.2            3.2   \n",
      "1            3.7            3.6            3.6            3.6            3.6   \n",
      "2            3.5            3.5            3.5            3.5            3.5   \n",
      "3            3.2            3.2            3.2            3.3            3.3   \n",
      "4            3.5            3.5            3.5            3.5            3.5   \n",
      "\n",
      "   AN311_value_6  AN311_value_7  AN311_value_8  AN311_value_9  AN311_value_10  \\\n",
      "0            3.2            3.2            3.2            3.2             3.2   \n",
      "1            3.5            3.5            3.5            3.5             3.4   \n",
      "2            3.5            3.5            3.4            3.4             3.4   \n",
      "3            3.4            3.4            3.5            3.5             3.5   \n",
      "4            3.5            3.5            3.4            3.4             3.5   \n",
      "\n",
      "   ...  WM868_window_3_min  WM868_window_3_max  WM868_window_4_mean  \\\n",
      "0  ...                 0.0                 0.0                  0.0   \n",
      "1  ...                 0.0                 0.0                  0.0   \n",
      "2  ...                 0.0                 0.0                  0.0   \n",
      "3  ...                 0.0                 0.0                  0.0   \n",
      "4  ...                 0.0                 0.0                  0.0   \n",
      "\n",
      "   WM868_window_4_std  WM868_window_4_min  WM868_window_4_max  \\\n",
      "0                 0.0                 0.0                 0.0   \n",
      "1                 0.0                 0.0                 0.0   \n",
      "2                 0.0                 0.0                 0.0   \n",
      "3                 0.0                 0.0                 0.0   \n",
      "4                 0.0                 0.0                 0.0   \n",
      "\n",
      "   WM868_window_5_mean  WM868_window_5_std  WM868_window_5_min  \\\n",
      "0                  0.0                 0.0                 0.0   \n",
      "1                  0.0                 0.0                 0.0   \n",
      "2                  0.0                 0.0                 0.0   \n",
      "3                  0.0                 0.0                 0.0   \n",
      "4                  0.0                 0.0                 0.0   \n",
      "\n",
      "   WM868_window_5_max  \n",
      "0                 0.0  \n",
      "1                 0.0  \n",
      "2                 0.0  \n",
      "3                 0.0  \n",
      "4                 0.0  \n",
      "\n",
      "[5 rows x 13020 columns]\n"
     ]
    }
   ],
   "source": [
    "import pandas as pd\n",
    "\n",
    "prefixes_to_remove = ['AMP1_IR', 'AMP2_IR', 'DMP3_IR', 'DMP4_IR', 'AMP5_IR', 'F_SIDE', 'V']\n",
    "\n",
    "# Generate a list of columns to drop\n",
    "columns_to_drop = [col for col in X_train.columns if any(col.startswith(prefix) for prefix in prefixes_to_remove)]\n",
    "\n",
    "# Drop these columns from the DataFrame\n",
    "X_train_new = X_train.drop(columns=columns_to_drop)\n",
    "\n",
    "print(X_train_new.shape)\n",
    "print(X_train_new.head())\n"
   ]
  },
  {
   "cell_type": "code",
   "execution_count": 63,
   "id": "90fc335c-b196-4e64-b01c-2aa728540308",
   "metadata": {},
   "outputs": [
    {
     "name": "stdout",
     "output_type": "stream",
     "text": [
      "(5076, 13020)\n",
      "   AN311_value_1  AN311_value_2  AN311_value_3  AN311_value_4  AN311_value_5  \\\n",
      "0            4.1            4.1            4.1            4.1            4.1   \n",
      "1            3.6            3.5            3.5            3.5            3.5   \n",
      "2            4.2            4.2            4.2            4.2            4.3   \n",
      "3            3.0            3.1            3.1            3.2            3.2   \n",
      "4            3.7            3.7            3.7            3.7            3.7   \n",
      "\n",
      "   AN311_value_6  AN311_value_7  AN311_value_8  AN311_value_9  AN311_value_10  \\\n",
      "0            4.1            4.1            4.1            4.1             4.1   \n",
      "1            3.5            3.5            3.2            3.2             3.0   \n",
      "2            4.3            4.3            4.3            4.3             4.3   \n",
      "3            3.2            3.2            3.2            3.2             3.1   \n",
      "4            3.7            3.7            3.7            3.8             3.8   \n",
      "\n",
      "   ...  WM868_window_3_min  WM868_window_3_max  WM868_window_4_mean  \\\n",
      "0  ...                 2.5                 2.6             2.500000   \n",
      "1  ...                 1.9                 3.5             2.715000   \n",
      "2  ...                 2.6                 2.6             2.600000   \n",
      "3  ...                 2.6                 2.7             2.676667   \n",
      "4  ...                 2.1                 2.2             2.129167   \n",
      "\n",
      "   WM868_window_4_std  WM868_window_4_min  WM868_window_4_max  \\\n",
      "0        0.000000e+00                 2.5                 2.5   \n",
      "1        3.171882e-01                 2.0                 3.5   \n",
      "2        4.440892e-16                 2.6                 2.6   \n",
      "3        4.229526e-02                 2.6                 2.7   \n",
      "4        4.545297e-02                 2.1                 2.2   \n",
      "\n",
      "   WM868_window_5_mean  WM868_window_5_std  WM868_window_5_min  \\\n",
      "0             2.500000        0.000000e+00                 2.5   \n",
      "1             2.735000        3.820231e-01                 2.0   \n",
      "2             2.600000        4.440892e-16                 2.6   \n",
      "3             2.613333        3.399346e-02                 2.6   \n",
      "4             2.167500        4.683748e-02                 2.1   \n",
      "\n",
      "   WM868_window_5_max  \n",
      "0                 2.5  \n",
      "1                 3.7  \n",
      "2                 2.6  \n",
      "3                 2.7  \n",
      "4                 2.2  \n",
      "\n",
      "[5 rows x 13020 columns]\n"
     ]
    }
   ],
   "source": [
    "columns_to_drop = [col for col in X_test.columns if any(col.startswith(prefix) for prefix in prefixes_to_remove)]\n",
    "\n",
    "# Drop these columns from the DataFrame\n",
    "X_test_new = X_test.drop(columns=columns_to_drop)\n",
    "\n",
    "print(X_test_new.shape)\n",
    "print(X_test_new.head())"
   ]
  },
  {
   "cell_type": "code",
   "execution_count": 65,
   "id": "c0a2a96d-e669-4acb-a537-3bb05a0efa11",
   "metadata": {},
   "outputs": [
    {
     "name": "stderr",
     "output_type": "stream",
     "text": [
      "/opt/anaconda3/lib/python3.12/site-packages/xgboost/core.py:158: UserWarning: [00:23:49] WARNING: /Users/runner/work/xgboost/xgboost/src/learner.cc:740: \n",
      "Parameters: { \"use_label_encoder\" } are not used.\n",
      "\n",
      "  warnings.warn(smsg, UserWarning)\n"
     ]
    }
   ],
   "source": [
    "# Train the model\n",
    "model = xgBoostModel(X_train_new, y_train)\n",
    "\n",
    "# Assume y_test is available and needs to be encoded using the same encoder used for y_train\n",
    "y_test_encoded = model.label_encoder_.transform(y_test)\n",
    "\n",
    "# Predict on the test data\n",
    "y_pred = model.predict(X_test_new)\n",
    "y_pred_proba = model.predict_proba(X_test_new)[:,1]  # Probabilities for the positive class\n"
   ]
  },
  {
   "cell_type": "code",
   "execution_count": 67,
   "id": "4e9e2877-c203-4ae5-8cce-5a841c13348b",
   "metadata": {},
   "outputs": [
    {
     "name": "stdout",
     "output_type": "stream",
     "text": [
      "ROC AUC: 0.8947779825932753\n"
     ]
    }
   ],
   "source": [
    "# Compute ROC AUC\n",
    "auc = roc_auc_score(y_test_encoded, y_pred_proba)\n",
    "print(f\"ROC AUC: {auc}\")"
   ]
  },
  {
   "cell_type": "code",
   "execution_count": 69,
   "id": "44c6bc13-9c3d-4f65-b1c8-882e20b0c838",
   "metadata": {},
   "outputs": [
    {
     "name": "stdout",
     "output_type": "stream",
     "text": [
      "Threshold: 0.01\n",
      "Classification Report:\n",
      "              precision    recall  f1-score   support\n",
      "\n",
      "           0       0.99      1.00      1.00      5042\n",
      "           1       0.23      0.15      0.18        34\n",
      "\n",
      "    accuracy                           0.99      5076\n",
      "   macro avg       0.61      0.57      0.59      5076\n",
      "weighted avg       0.99      0.99      0.99      5076\n",
      "\n",
      "Confusion Matrix:\n",
      "[[5025   17]\n",
      " [  29    5]]\n",
      "\n",
      "\n",
      "Threshold: 0.05\n",
      "Classification Report:\n",
      "              precision    recall  f1-score   support\n",
      "\n",
      "           0       0.99      1.00      1.00      5042\n",
      "           1       1.00      0.03      0.06        34\n",
      "\n",
      "    accuracy                           0.99      5076\n",
      "   macro avg       1.00      0.51      0.53      5076\n",
      "weighted avg       0.99      0.99      0.99      5076\n",
      "\n",
      "Confusion Matrix:\n",
      "[[5042    0]\n",
      " [  33    1]]\n",
      "\n",
      "\n",
      "Threshold: 0.1\n",
      "Classification Report:\n",
      "              precision    recall  f1-score   support\n",
      "\n",
      "           0       0.99      1.00      1.00      5042\n",
      "           1       1.00      0.03      0.06        34\n",
      "\n",
      "    accuracy                           0.99      5076\n",
      "   macro avg       1.00      0.51      0.53      5076\n",
      "weighted avg       0.99      0.99      0.99      5076\n",
      "\n",
      "Confusion Matrix:\n",
      "[[5042    0]\n",
      " [  33    1]]\n",
      "\n",
      "\n",
      "Threshold: 0.2\n",
      "Classification Report:\n",
      "              precision    recall  f1-score   support\n",
      "\n",
      "           0       0.99      1.00      1.00      5042\n",
      "           1       0.00      0.00      0.00        34\n",
      "\n",
      "    accuracy                           0.99      5076\n",
      "   macro avg       0.50      0.50      0.50      5076\n",
      "weighted avg       0.99      0.99      0.99      5076\n",
      "\n",
      "Confusion Matrix:\n",
      "[[5042    0]\n",
      " [  34    0]]\n",
      "\n",
      "\n",
      "Threshold: 0.3\n",
      "Classification Report:\n",
      "              precision    recall  f1-score   support\n",
      "\n",
      "           0       0.99      1.00      1.00      5042\n",
      "           1       0.00      0.00      0.00        34\n",
      "\n",
      "    accuracy                           0.99      5076\n",
      "   macro avg       0.50      0.50      0.50      5076\n",
      "weighted avg       0.99      0.99      0.99      5076\n",
      "\n",
      "Confusion Matrix:\n",
      "[[5042    0]\n",
      " [  34    0]]\n",
      "\n",
      "\n",
      "Threshold: 0.4\n",
      "Classification Report:\n",
      "              precision    recall  f1-score   support\n",
      "\n",
      "           0       0.99      1.00      1.00      5042\n",
      "           1       0.00      0.00      0.00        34\n",
      "\n",
      "    accuracy                           0.99      5076\n",
      "   macro avg       0.50      0.50      0.50      5076\n",
      "weighted avg       0.99      0.99      0.99      5076\n",
      "\n",
      "Confusion Matrix:\n",
      "[[5042    0]\n",
      " [  34    0]]\n",
      "\n",
      "\n",
      "Threshold: 0.5\n",
      "Classification Report:\n",
      "              precision    recall  f1-score   support\n",
      "\n",
      "           0       0.99      1.00      1.00      5042\n",
      "           1       0.00      0.00      0.00        34\n",
      "\n",
      "    accuracy                           0.99      5076\n",
      "   macro avg       0.50      0.50      0.50      5076\n",
      "weighted avg       0.99      0.99      0.99      5076\n",
      "\n",
      "Confusion Matrix:\n",
      "[[5042    0]\n",
      " [  34    0]]\n",
      "\n",
      "\n"
     ]
    },
    {
     "name": "stderr",
     "output_type": "stream",
     "text": [
      "/opt/anaconda3/lib/python3.12/site-packages/sklearn/metrics/_classification.py:1509: UndefinedMetricWarning: Precision is ill-defined and being set to 0.0 in labels with no predicted samples. Use `zero_division` parameter to control this behavior.\n",
      "  _warn_prf(average, modifier, f\"{metric.capitalize()} is\", len(result))\n",
      "/opt/anaconda3/lib/python3.12/site-packages/sklearn/metrics/_classification.py:1509: UndefinedMetricWarning: Precision is ill-defined and being set to 0.0 in labels with no predicted samples. Use `zero_division` parameter to control this behavior.\n",
      "  _warn_prf(average, modifier, f\"{metric.capitalize()} is\", len(result))\n",
      "/opt/anaconda3/lib/python3.12/site-packages/sklearn/metrics/_classification.py:1509: UndefinedMetricWarning: Precision is ill-defined and being set to 0.0 in labels with no predicted samples. Use `zero_division` parameter to control this behavior.\n",
      "  _warn_prf(average, modifier, f\"{metric.capitalize()} is\", len(result))\n",
      "/opt/anaconda3/lib/python3.12/site-packages/sklearn/metrics/_classification.py:1509: UndefinedMetricWarning: Precision is ill-defined and being set to 0.0 in labels with no predicted samples. Use `zero_division` parameter to control this behavior.\n",
      "  _warn_prf(average, modifier, f\"{metric.capitalize()} is\", len(result))\n",
      "/opt/anaconda3/lib/python3.12/site-packages/sklearn/metrics/_classification.py:1509: UndefinedMetricWarning: Precision is ill-defined and being set to 0.0 in labels with no predicted samples. Use `zero_division` parameter to control this behavior.\n",
      "  _warn_prf(average, modifier, f\"{metric.capitalize()} is\", len(result))\n",
      "/opt/anaconda3/lib/python3.12/site-packages/sklearn/metrics/_classification.py:1509: UndefinedMetricWarning: Precision is ill-defined and being set to 0.0 in labels with no predicted samples. Use `zero_division` parameter to control this behavior.\n",
      "  _warn_prf(average, modifier, f\"{metric.capitalize()} is\", len(result))\n",
      "/opt/anaconda3/lib/python3.12/site-packages/sklearn/metrics/_classification.py:1509: UndefinedMetricWarning: Precision is ill-defined and being set to 0.0 in labels with no predicted samples. Use `zero_division` parameter to control this behavior.\n",
      "  _warn_prf(average, modifier, f\"{metric.capitalize()} is\", len(result))\n",
      "/opt/anaconda3/lib/python3.12/site-packages/sklearn/metrics/_classification.py:1509: UndefinedMetricWarning: Precision is ill-defined and being set to 0.0 in labels with no predicted samples. Use `zero_division` parameter to control this behavior.\n",
      "  _warn_prf(average, modifier, f\"{metric.capitalize()} is\", len(result))\n",
      "/opt/anaconda3/lib/python3.12/site-packages/sklearn/metrics/_classification.py:1509: UndefinedMetricWarning: Precision is ill-defined and being set to 0.0 in labels with no predicted samples. Use `zero_division` parameter to control this behavior.\n",
      "  _warn_prf(average, modifier, f\"{metric.capitalize()} is\", len(result))\n",
      "/opt/anaconda3/lib/python3.12/site-packages/sklearn/metrics/_classification.py:1509: UndefinedMetricWarning: Precision is ill-defined and being set to 0.0 in labels with no predicted samples. Use `zero_division` parameter to control this behavior.\n",
      "  _warn_prf(average, modifier, f\"{metric.capitalize()} is\", len(result))\n",
      "/opt/anaconda3/lib/python3.12/site-packages/sklearn/metrics/_classification.py:1509: UndefinedMetricWarning: Precision is ill-defined and being set to 0.0 in labels with no predicted samples. Use `zero_division` parameter to control this behavior.\n",
      "  _warn_prf(average, modifier, f\"{metric.capitalize()} is\", len(result))\n",
      "/opt/anaconda3/lib/python3.12/site-packages/sklearn/metrics/_classification.py:1509: UndefinedMetricWarning: Precision is ill-defined and being set to 0.0 in labels with no predicted samples. Use `zero_division` parameter to control this behavior.\n",
      "  _warn_prf(average, modifier, f\"{metric.capitalize()} is\", len(result))\n"
     ]
    }
   ],
   "source": [
    "thresholds = [0.01, 0.05, 0.1, 0.2, 0.3, 0.4, 0.5]\n",
    "\n",
    "for thresh in thresholds:\n",
    "    y_pred_thresholded = np.where(y_pred_proba >= thresh, 1, 0)\n",
    "    # accuracy = accuracy_score(y_test_encoded, y_pred_thresholded)\n",
    "    print(f\"Threshold: {thresh}\")\n",
    "    # print(f\"Accuracy: {accuracy}\")\n",
    "    print(\"Classification Report:\")\n",
    "    print(classification_report(y_test_encoded, y_pred_thresholded))\n",
    "    print(\"Confusion Matrix:\")\n",
    "    print(confusion_matrix(y_test_encoded, y_pred_thresholded))\n",
    "    print(\"\\n\")\n"
   ]
  }
 ],
 "metadata": {
  "kernelspec": {
   "display_name": "Python 3 (ipykernel)",
   "language": "python",
   "name": "python3"
  },
  "language_info": {
   "codemirror_mode": {
    "name": "ipython",
    "version": 3
   },
   "file_extension": ".py",
   "mimetype": "text/x-python",
   "name": "python",
   "nbconvert_exporter": "python",
   "pygments_lexer": "ipython3",
   "version": "3.12.4"
  }
 },
 "nbformat": 4,
 "nbformat_minor": 5
}
