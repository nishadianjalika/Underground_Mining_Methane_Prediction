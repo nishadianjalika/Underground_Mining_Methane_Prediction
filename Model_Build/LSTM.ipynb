{
 "cells": [
  {
   "cell_type": "code",
   "execution_count": 1,
   "id": "437a2e90-030e-44c4-8bfa-2d842c258245",
   "metadata": {},
   "outputs": [],
   "source": [
    "import pandas as pd\n",
    "\n",
    "zip_file_path = '../../extracted_data/combined_featured_data.zip'\n",
    "\n",
    "# Load the data from the zip file\n",
    "data = pd.read_csv(zip_file_path, compression='zip')"
   ]
  },
  {
   "cell_type": "code",
   "execution_count": 2,
   "id": "57f52685-7ee9-4105-ab22-06ba13e1fdb3",
   "metadata": {},
   "outputs": [
    {
     "data": {
      "text/plain": [
       "(51700, 563)"
      ]
     },
     "execution_count": 2,
     "metadata": {},
     "output_type": "execute_result"
    }
   ],
   "source": [
    "data.shape"
   ]
  },
  {
   "cell_type": "markdown",
   "id": "d850cb70-000b-43d4-aaf0-6d1776ac0fa7",
   "metadata": {},
   "source": [
    "#### Normalize Data"
   ]
  },
  {
   "cell_type": "code",
   "execution_count": 4,
   "id": "e428b1d0-65bb-4a07-9891-d1650c2239f5",
   "metadata": {},
   "outputs": [],
   "source": [
    "from sklearn.preprocessing import StandardScaler\n",
    "\n",
    "features = data.drop(['MM263'], axis=1)  # Assuming MM263 is the label column\n",
    "labels = data['MM263']\n",
    "\n",
    "scaler = StandardScaler()\n",
    "features_scaled = scaler.fit_transform(features)\n"
   ]
  },
  {
   "cell_type": "code",
   "execution_count": 5,
   "id": "667238cf-d774-4db9-8c5b-768fcc036aa6",
   "metadata": {},
   "outputs": [
    {
     "data": {
      "text/plain": [
       "array([[-1.20156351,  0.88297388, -0.97571639, ..., -0.39475857,\n",
       "        -0.16299586, -0.16123654],\n",
       "       [-1.31445384, -0.46731747, -0.97571639, ..., -0.39475857,\n",
       "        -0.16299586, -0.16123654],\n",
       "       [-1.40382535,  0.29128542, -0.97571639, ..., -0.39475857,\n",
       "        -0.16299586, -0.16123654],\n",
       "       ...,\n",
       "       [ 0.28482581, -0.80073361,  0.59725092, ..., -0.39475857,\n",
       "        -0.16299586, -0.16123654],\n",
       "       [ 0.38830861, -0.56715774,  0.59725092, ..., -0.39475857,\n",
       "        -0.16299586, -0.16123654],\n",
       "       [ 0.47297636, -0.76938606,  0.59725092, ..., -0.39475857,\n",
       "        -0.16299586, -0.16123654]])"
      ]
     },
     "execution_count": 5,
     "metadata": {},
     "output_type": "execute_result"
    }
   ],
   "source": [
    "features_scaled"
   ]
  },
  {
   "cell_type": "markdown",
   "id": "3902f457-36c9-43ea-8f4e-3c6879c74784",
   "metadata": {},
   "source": [
    "#### Reshape data for LSTM"
   ]
  },
  {
   "cell_type": "code",
   "execution_count": 7,
   "id": "c683f412-a268-4c8d-a506-4113fa01ccc1",
   "metadata": {},
   "outputs": [],
   "source": [
    "# Reshape for LSTM [samples, time steps, features]\n",
    "# Assuming each row is a separate time sequence\n",
    "X = features_scaled.reshape(features_scaled.shape[0], 1, features_scaled.shape[1])\n",
    "y = labels.values"
   ]
  },
  {
   "cell_type": "markdown",
   "id": "bc745e41-337b-41ea-9dab-05d4d08f5629",
   "metadata": {},
   "source": [
    "## split"
   ]
  },
  {
   "cell_type": "code",
   "execution_count": 9,
   "id": "84893498-d112-4d9c-a88b-95e5bd3458ca",
   "metadata": {},
   "outputs": [],
   "source": [
    "##\n",
    "\n",
    "from sklearn.model_selection import train_test_split\n",
    "\n",
    "X_train, X_test, y_train, y_test = train_test_split(X, y, test_size=0.2, random_state=42)\n"
   ]
  },
  {
   "cell_type": "markdown",
   "id": "73fec22a-2365-4ed2-94a0-fa109700f0ad",
   "metadata": {},
   "source": [
    "### Build"
   ]
  },
  {
   "cell_type": "code",
   "execution_count": 11,
   "id": "b5e8a37f-8a9e-41ba-bf27-357d1f4eb941",
   "metadata": {},
   "outputs": [
    {
     "name": "stderr",
     "output_type": "stream",
     "text": [
      "/opt/anaconda3/lib/python3.12/site-packages/keras/src/layers/rnn/rnn.py:204: UserWarning: Do not pass an `input_shape`/`input_dim` argument to a layer. When using Sequential models, prefer using an `Input(shape)` object as the first layer in the model instead.\n",
      "  super().__init__(**kwargs)\n"
     ]
    }
   ],
   "source": [
    "# from keras.models import Sequential\n",
    "# from keras.layers import LSTM, Dense\n",
    "from tensorflow.keras.models import Sequential\n",
    "from tensorflow.keras.layers import LSTM, Dense\n",
    "\n",
    "\n",
    "base_model = Sequential()\n",
    "base_model.add(LSTM(50, input_shape=(X_train.shape[1], X_train.shape[2])))\n",
    "base_model.add(Dense(1, activation='sigmoid'))  # sigmoid for binary classification\n",
    "base_model.compile(loss='binary_crossentropy', optimizer='adam', metrics=['accuracy'])\n"
   ]
  },
  {
   "cell_type": "markdown",
   "id": "04cba7c3-e6d9-49bc-bc43-ebf329b08113",
   "metadata": {},
   "source": [
    "### Train"
   ]
  },
  {
   "cell_type": "code",
   "execution_count": 13,
   "id": "53d006dc-c6ea-4c83-b3e9-c73e4643945b",
   "metadata": {},
   "outputs": [
    {
     "name": "stdout",
     "output_type": "stream",
     "text": [
      "Epoch 1/5\n",
      "1293/1293 - 3s - 2ms/step - accuracy: 0.9926 - loss: 0.0330 - val_accuracy: 0.9946 - val_loss: 0.0215\n",
      "Epoch 2/5\n",
      "1293/1293 - 2s - 1ms/step - accuracy: 0.9955 - loss: 0.0169 - val_accuracy: 0.9945 - val_loss: 0.0201\n",
      "Epoch 3/5\n",
      "1293/1293 - 2s - 1ms/step - accuracy: 0.9954 - loss: 0.0146 - val_accuracy: 0.9948 - val_loss: 0.0195\n",
      "Epoch 4/5\n",
      "1293/1293 - 1s - 1ms/step - accuracy: 0.9963 - loss: 0.0123 - val_accuracy: 0.9941 - val_loss: 0.0173\n",
      "Epoch 5/5\n",
      "1293/1293 - 1s - 1ms/step - accuracy: 0.9964 - loss: 0.0109 - val_accuracy: 0.9950 - val_loss: 0.0173\n"
     ]
    }
   ],
   "source": [
    "history_base_model = base_model.fit(X_train, y_train, epochs=5, batch_size=32, validation_data=(X_test, y_test), verbose=2)\n"
   ]
  },
  {
   "cell_type": "markdown",
   "id": "82a7ebbc-81ea-4d10-aac6-7aade270c262",
   "metadata": {},
   "source": [
    "### Evaluate"
   ]
  },
  {
   "cell_type": "code",
   "execution_count": 15,
   "id": "b4dda80a-a878-42d5-a61f-67aeb235118f",
   "metadata": {},
   "outputs": [
    {
     "name": "stdout",
     "output_type": "stream",
     "text": [
      "Test Accuracy: 99.50%\n"
     ]
    }
   ],
   "source": [
    "loss, accuracy = base_model.evaluate(X_test, y_test, verbose=0)\n",
    "print(f\"Test Accuracy: {accuracy*100:.2f}%\")\n"
   ]
  },
  {
   "cell_type": "markdown",
   "id": "9f8b8347-fc26-40ac-9945-46b8f842d488",
   "metadata": {},
   "source": [
    "### prediction "
   ]
  },
  {
   "cell_type": "code",
   "execution_count": 17,
   "id": "e5b3dc21-c117-4eb0-b543-798fead4aed5",
   "metadata": {},
   "outputs": [
    {
     "name": "stdout",
     "output_type": "stream",
     "text": [
      "\u001b[1m324/324\u001b[0m \u001b[32m━━━━━━━━━━━━━━━━━━━━\u001b[0m\u001b[37m\u001b[0m \u001b[1m0s\u001b[0m 499us/step\n",
      "              precision    recall  f1-score   support\n",
      "\n",
      "           0       1.00      1.00      1.00     10242\n",
      "           1       0.91      0.52      0.66        98\n",
      "\n",
      "    accuracy                           0.99     10340\n",
      "   macro avg       0.95      0.76      0.83     10340\n",
      "weighted avg       0.99      0.99      0.99     10340\n",
      "\n"
     ]
    }
   ],
   "source": [
    "from sklearn.metrics import classification_report\n",
    "\n",
    "predictions = (base_model.predict(X_test) > 0.5).astype(int)\n",
    "print(classification_report(y_test, predictions))\n"
   ]
  },
  {
   "cell_type": "code",
   "execution_count": null,
   "id": "fea06516-782c-4d59-9dd6-e716ad55981f",
   "metadata": {},
   "outputs": [],
   "source": [
    "pip install tensorflow\n"
   ]
  },
  {
   "cell_type": "markdown",
   "id": "1d1f10c1-fa9d-472d-b1cd-35ae50bca86f",
   "metadata": {},
   "source": [
    "### Model build without cutter loader data"
   ]
  },
  {
   "cell_type": "code",
   "execution_count": 28,
   "id": "8e6c0934-2816-4ce7-98cf-a1ca1433d18e",
   "metadata": {},
   "outputs": [
    {
     "name": "stdout",
     "output_type": "stream",
     "text": [
      "['AN311_window_1_mean', 'AN311_window_1_std', 'AN311_window_1_min', 'AN311_window_1_max', 'AN311_window_2_mean', 'AN311_window_2_std', 'AN311_window_2_min', 'AN311_window_2_max', 'AN311_window_3_mean', 'AN311_window_3_std', 'AN311_window_3_min', 'AN311_window_3_max', 'AN311_window_4_mean', 'AN311_window_4_std', 'AN311_window_4_min', 'AN311_window_4_max', 'AN311_window_5_mean', 'AN311_window_5_std', 'AN311_window_5_min', 'AN311_window_5_max', 'AN422_window_1_mean', 'AN422_window_1_std', 'AN422_window_1_min', 'AN422_window_1_max', 'AN422_window_2_mean', 'AN422_window_2_std', 'AN422_window_2_min', 'AN422_window_2_max', 'AN422_window_3_mean', 'AN422_window_3_std', 'AN422_window_3_min', 'AN422_window_3_max', 'AN422_window_4_mean', 'AN422_window_4_std', 'AN422_window_4_min', 'AN422_window_4_max', 'AN422_window_5_mean', 'AN422_window_5_std', 'AN422_window_5_min', 'AN422_window_5_max', 'AN423_window_1_mean', 'AN423_window_1_std', 'AN423_window_1_min', 'AN423_window_1_max', 'AN423_window_2_mean', 'AN423_window_2_std', 'AN423_window_2_min', 'AN423_window_2_max', 'AN423_window_3_mean', 'AN423_window_3_std', 'AN423_window_3_min', 'AN423_window_3_max', 'AN423_window_4_mean', 'AN423_window_4_std', 'AN423_window_4_min', 'AN423_window_4_max', 'AN423_window_5_mean', 'AN423_window_5_std', 'AN423_window_5_min', 'AN423_window_5_max', 'TP1721_window_1_mean', 'TP1721_window_1_std', 'TP1721_window_1_min', 'TP1721_window_1_max', 'TP1721_window_2_mean', 'TP1721_window_2_std', 'TP1721_window_2_min', 'TP1721_window_2_max', 'TP1721_window_3_mean', 'TP1721_window_3_std', 'TP1721_window_3_min', 'TP1721_window_3_max', 'TP1721_window_4_mean', 'TP1721_window_4_std', 'TP1721_window_4_min', 'TP1721_window_4_max', 'TP1721_window_5_mean', 'TP1721_window_5_std', 'TP1721_window_5_min', 'TP1721_window_5_max', 'RH1722_window_1_mean', 'RH1722_window_1_std', 'RH1722_window_1_min', 'RH1722_window_1_max', 'RH1722_window_2_mean', 'RH1722_window_2_std', 'RH1722_window_2_min', 'RH1722_window_2_max', 'RH1722_window_3_mean', 'RH1722_window_3_std', 'RH1722_window_3_min', 'RH1722_window_3_max', 'RH1722_window_4_mean', 'RH1722_window_4_std', 'RH1722_window_4_min', 'RH1722_window_4_max', 'RH1722_window_5_mean', 'RH1722_window_5_std', 'RH1722_window_5_min', 'RH1722_window_5_max', 'BA1723_window_1_mean', 'BA1723_window_1_std', 'BA1723_window_1_min', 'BA1723_window_1_max', 'BA1723_window_2_mean', 'BA1723_window_2_std', 'BA1723_window_2_min', 'BA1723_window_2_max', 'BA1723_window_3_mean', 'BA1723_window_3_std', 'BA1723_window_3_min', 'BA1723_window_3_max', 'BA1723_window_4_mean', 'BA1723_window_4_std', 'BA1723_window_4_min', 'BA1723_window_4_max', 'BA1723_window_5_mean', 'BA1723_window_5_std', 'BA1723_window_5_min', 'BA1723_window_5_max', 'TP1711_window_1_mean', 'TP1711_window_1_std', 'TP1711_window_1_min', 'TP1711_window_1_max', 'TP1711_window_2_mean', 'TP1711_window_2_std', 'TP1711_window_2_min', 'TP1711_window_2_max', 'TP1711_window_3_mean', 'TP1711_window_3_std', 'TP1711_window_3_min', 'TP1711_window_3_max', 'TP1711_window_4_mean', 'TP1711_window_4_std', 'TP1711_window_4_min', 'TP1711_window_4_max', 'TP1711_window_5_mean', 'TP1711_window_5_std', 'TP1711_window_5_min', 'TP1711_window_5_max', 'RH1712_window_1_mean', 'RH1712_window_1_std', 'RH1712_window_1_min', 'RH1712_window_1_max', 'RH1712_window_2_mean', 'RH1712_window_2_std', 'RH1712_window_2_min', 'RH1712_window_2_max', 'RH1712_window_3_mean', 'RH1712_window_3_std', 'RH1712_window_3_min', 'RH1712_window_3_max', 'RH1712_window_4_mean', 'RH1712_window_4_std', 'RH1712_window_4_min', 'RH1712_window_4_max', 'RH1712_window_5_mean', 'RH1712_window_5_std', 'RH1712_window_5_min', 'RH1712_window_5_max', 'BA1713_window_1_mean', 'BA1713_window_1_std', 'BA1713_window_1_min', 'BA1713_window_1_max', 'BA1713_window_2_mean', 'BA1713_window_2_std', 'BA1713_window_2_min', 'BA1713_window_2_max', 'BA1713_window_3_mean', 'BA1713_window_3_std', 'BA1713_window_3_min', 'BA1713_window_3_max', 'BA1713_window_4_mean', 'BA1713_window_4_std', 'BA1713_window_4_min', 'BA1713_window_4_max', 'BA1713_window_5_mean', 'BA1713_window_5_std', 'BA1713_window_5_min', 'BA1713_window_5_max', 'MM252_window_1_mean', 'MM252_window_1_std', 'MM252_window_1_min', 'MM252_window_1_max', 'MM252_window_2_mean', 'MM252_window_2_std', 'MM252_window_2_min', 'MM252_window_2_max', 'MM252_window_3_mean', 'MM252_window_3_std', 'MM252_window_3_min', 'MM252_window_3_max', 'MM252_window_4_mean', 'MM252_window_4_std', 'MM252_window_4_min', 'MM252_window_4_max', 'MM252_window_5_mean', 'MM252_window_5_std', 'MM252_window_5_min', 'MM252_window_5_max', 'MM261_window_1_mean', 'MM261_window_1_std', 'MM261_window_1_min', 'MM261_window_1_max', 'MM261_window_2_mean', 'MM261_window_2_std', 'MM261_window_2_min', 'MM261_window_2_max', 'MM261_window_3_mean', 'MM261_window_3_std', 'MM261_window_3_min', 'MM261_window_3_max', 'MM261_window_4_mean', 'MM261_window_4_std', 'MM261_window_4_min', 'MM261_window_4_max', 'MM261_window_5_mean', 'MM261_window_5_std', 'MM261_window_5_min', 'MM261_window_5_max', 'MM262_window_1_mean', 'MM262_window_1_std', 'MM262_window_1_min', 'MM262_window_1_max', 'MM262_window_2_mean', 'MM262_window_2_std', 'MM262_window_2_min', 'MM262_window_2_max', 'MM262_window_3_mean', 'MM262_window_3_std', 'MM262_window_3_min', 'MM262_window_3_max', 'MM262_window_4_mean', 'MM262_window_4_std', 'MM262_window_4_min', 'MM262_window_4_max', 'MM262_window_5_mean', 'MM262_window_5_std', 'MM262_window_5_min', 'MM262_window_5_max', 'MM263_window_1_mean', 'MM263_window_1_std', 'MM263_window_1_min', 'MM263_window_1_max', 'MM263_window_2_mean', 'MM263_window_2_std', 'MM263_window_2_min', 'MM263_window_2_max', 'MM263_window_3_mean', 'MM263_window_3_std', 'MM263_window_3_min', 'MM263_window_3_max', 'MM263_window_4_mean', 'MM263_window_4_std', 'MM263_window_4_min', 'MM263_window_4_max', 'MM263_window_5_mean', 'MM263_window_5_std', 'MM263_window_5_min', 'MM263_window_5_max', 'MM264_window_1_mean', 'MM264_window_1_std', 'MM264_window_1_min', 'MM264_window_1_max', 'MM264_window_2_mean', 'MM264_window_2_std', 'MM264_window_2_min', 'MM264_window_2_max', 'MM264_window_3_mean', 'MM264_window_3_std', 'MM264_window_3_min', 'MM264_window_3_max', 'MM264_window_4_mean', 'MM264_window_4_std', 'MM264_window_4_min', 'MM264_window_4_max', 'MM264_window_5_mean', 'MM264_window_5_std', 'MM264_window_5_min', 'MM264_window_5_max', 'MM256_window_1_mean', 'MM256_window_1_std', 'MM256_window_1_min', 'MM256_window_1_max', 'MM256_window_2_mean', 'MM256_window_2_std', 'MM256_window_2_min', 'MM256_window_2_max', 'MM256_window_3_mean', 'MM256_window_3_std', 'MM256_window_3_min', 'MM256_window_3_max', 'MM256_window_4_mean', 'MM256_window_4_std', 'MM256_window_4_min', 'MM256_window_4_max', 'MM256_window_5_mean', 'MM256_window_5_std', 'MM256_window_5_min', 'MM256_window_5_max', 'MM211_window_1_mean', 'MM211_window_1_std', 'MM211_window_1_min', 'MM211_window_1_max', 'MM211_window_2_mean', 'MM211_window_2_std', 'MM211_window_2_min', 'MM211_window_2_max', 'MM211_window_3_mean', 'MM211_window_3_std', 'MM211_window_3_min', 'MM211_window_3_max', 'MM211_window_4_mean', 'MM211_window_4_std', 'MM211_window_4_min', 'MM211_window_4_max', 'MM211_window_5_mean', 'MM211_window_5_std', 'MM211_window_5_min', 'MM211_window_5_max', 'CM861_window_1_mean', 'CM861_window_1_std', 'CM861_window_1_min', 'CM861_window_1_max', 'CM861_window_2_mean', 'CM861_window_2_std', 'CM861_window_2_min', 'CM861_window_2_max', 'CM861_window_3_mean', 'CM861_window_3_std', 'CM861_window_3_min', 'CM861_window_3_max', 'CM861_window_4_mean', 'CM861_window_4_std', 'CM861_window_4_min', 'CM861_window_4_max', 'CM861_window_5_mean', 'CM861_window_5_std', 'CM861_window_5_min', 'CM861_window_5_max', 'CR863_window_1_mean', 'CR863_window_1_std', 'CR863_window_1_min', 'CR863_window_1_max', 'CR863_window_2_mean', 'CR863_window_2_std', 'CR863_window_2_min', 'CR863_window_2_max', 'CR863_window_3_mean', 'CR863_window_3_std', 'CR863_window_3_min', 'CR863_window_3_max', 'CR863_window_4_mean', 'CR863_window_4_std', 'CR863_window_4_min', 'CR863_window_4_max', 'CR863_window_5_mean', 'CR863_window_5_std', 'CR863_window_5_min', 'CR863_window_5_max', 'P_864_window_1_mean', 'P_864_window_1_std', 'P_864_window_1_min', 'P_864_window_1_max', 'P_864_window_2_mean', 'P_864_window_2_std', 'P_864_window_2_min', 'P_864_window_2_max', 'P_864_window_3_mean', 'P_864_window_3_std', 'P_864_window_3_min', 'P_864_window_3_max', 'P_864_window_4_mean', 'P_864_window_4_std', 'P_864_window_4_min', 'P_864_window_4_max', 'P_864_window_5_mean', 'P_864_window_5_std', 'P_864_window_5_min', 'P_864_window_5_max', 'TC862_window_1_mean', 'TC862_window_1_std', 'TC862_window_1_min', 'TC862_window_1_max', 'TC862_window_2_mean', 'TC862_window_2_std', 'TC862_window_2_min', 'TC862_window_2_max', 'TC862_window_3_mean', 'TC862_window_3_std', 'TC862_window_3_min', 'TC862_window_3_max', 'TC862_window_4_mean', 'TC862_window_4_std', 'TC862_window_4_min', 'TC862_window_4_max', 'TC862_window_5_mean', 'TC862_window_5_std', 'TC862_window_5_min', 'TC862_window_5_max', 'WM868_window_1_mean', 'WM868_window_1_std', 'WM868_window_1_min', 'WM868_window_1_max', 'WM868_window_2_mean', 'WM868_window_2_std', 'WM868_window_2_min', 'WM868_window_2_max', 'WM868_window_3_mean', 'WM868_window_3_std', 'WM868_window_3_min', 'WM868_window_3_max', 'WM868_window_4_mean', 'WM868_window_4_std', 'WM868_window_4_min', 'WM868_window_4_max', 'WM868_window_5_mean', 'WM868_window_5_std', 'WM868_window_5_min', 'WM868_window_5_max', 'AMP1_IR_window_1_mean', 'AMP1_IR_window_1_std', 'AMP1_IR_window_1_min', 'AMP1_IR_window_1_max', 'AMP1_IR_window_2_mean', 'AMP1_IR_window_2_std', 'AMP1_IR_window_2_min', 'AMP1_IR_window_2_max', 'AMP1_IR_window_3_mean', 'AMP1_IR_window_3_std', 'AMP1_IR_window_3_min', 'AMP1_IR_window_3_max', 'AMP1_IR_window_4_mean', 'AMP1_IR_window_4_std', 'AMP1_IR_window_4_min', 'AMP1_IR_window_4_max', 'AMP1_IR_window_5_mean', 'AMP1_IR_window_5_std', 'AMP1_IR_window_5_min', 'AMP1_IR_window_5_max', 'AMP2_IR_window_1_mean', 'AMP2_IR_window_1_std', 'AMP2_IR_window_1_min', 'AMP2_IR_window_1_max', 'AMP2_IR_window_2_mean', 'AMP2_IR_window_2_std', 'AMP2_IR_window_2_min', 'AMP2_IR_window_2_max', 'AMP2_IR_window_3_mean', 'AMP2_IR_window_3_std', 'AMP2_IR_window_3_min', 'AMP2_IR_window_3_max', 'AMP2_IR_window_4_mean', 'AMP2_IR_window_4_std', 'AMP2_IR_window_4_min', 'AMP2_IR_window_4_max', 'AMP2_IR_window_5_mean', 'AMP2_IR_window_5_std', 'AMP2_IR_window_5_min', 'AMP2_IR_window_5_max', 'DMP3_IR_window_1_mean', 'DMP3_IR_window_1_std', 'DMP3_IR_window_1_min', 'DMP3_IR_window_1_max', 'DMP3_IR_window_2_mean', 'DMP3_IR_window_2_std', 'DMP3_IR_window_2_min', 'DMP3_IR_window_2_max', 'DMP3_IR_window_3_mean', 'DMP3_IR_window_3_std', 'DMP3_IR_window_3_min', 'DMP3_IR_window_3_max', 'DMP3_IR_window_4_mean', 'DMP3_IR_window_4_std', 'DMP3_IR_window_4_min', 'DMP3_IR_window_4_max', 'DMP3_IR_window_5_mean', 'DMP3_IR_window_5_std', 'DMP3_IR_window_5_min', 'DMP3_IR_window_5_max', 'DMP4_IR_window_1_mean', 'DMP4_IR_window_1_std', 'DMP4_IR_window_1_min', 'DMP4_IR_window_1_max', 'DMP4_IR_window_2_mean', 'DMP4_IR_window_2_std', 'DMP4_IR_window_2_min', 'DMP4_IR_window_2_max', 'DMP4_IR_window_3_mean', 'DMP4_IR_window_3_std', 'DMP4_IR_window_3_min', 'DMP4_IR_window_3_max', 'DMP4_IR_window_4_mean', 'DMP4_IR_window_4_std', 'DMP4_IR_window_4_min', 'DMP4_IR_window_4_max', 'DMP4_IR_window_5_mean', 'DMP4_IR_window_5_std', 'DMP4_IR_window_5_min', 'DMP4_IR_window_5_max', 'AMP5_IR_window_1_mean', 'AMP5_IR_window_1_std', 'AMP5_IR_window_1_min', 'AMP5_IR_window_1_max', 'AMP5_IR_window_2_mean', 'AMP5_IR_window_2_std', 'AMP5_IR_window_2_min', 'AMP5_IR_window_2_max', 'AMP5_IR_window_3_mean', 'AMP5_IR_window_3_std', 'AMP5_IR_window_3_min', 'AMP5_IR_window_3_max', 'AMP5_IR_window_4_mean', 'AMP5_IR_window_4_std', 'AMP5_IR_window_4_min', 'AMP5_IR_window_4_max', 'AMP5_IR_window_5_mean', 'AMP5_IR_window_5_std', 'AMP5_IR_window_5_min', 'AMP5_IR_window_5_max', 'F_SIDE_window_1_mean', 'F_SIDE_window_1_std', 'F_SIDE_window_1_min', 'F_SIDE_window_1_max', 'F_SIDE_window_2_mean', 'F_SIDE_window_2_std', 'F_SIDE_window_2_min', 'F_SIDE_window_2_max', 'F_SIDE_window_3_mean', 'F_SIDE_window_3_std', 'F_SIDE_window_3_min', 'F_SIDE_window_3_max', 'F_SIDE_window_4_mean', 'F_SIDE_window_4_std', 'F_SIDE_window_4_min', 'F_SIDE_window_4_max', 'F_SIDE_window_5_mean', 'F_SIDE_window_5_std', 'F_SIDE_window_5_min', 'F_SIDE_window_5_max', 'V_window_1_mean', 'V_window_1_std', 'V_window_1_min', 'V_window_1_max', 'V_window_2_mean', 'V_window_2_std', 'V_window_2_min', 'V_window_2_max', 'V_window_3_mean', 'V_window_3_std', 'V_window_3_min', 'V_window_3_max', 'V_window_4_mean', 'V_window_4_std', 'V_window_4_min', 'V_window_4_max', 'V_window_5_mean', 'V_window_5_std', 'V_window_5_min', 'V_window_5_max', 'MM263', 'MM264', 'MM256']\n"
     ]
    }
   ],
   "source": [
    "column_names = data.columns.tolist()\n",
    "print(column_names)"
   ]
  },
  {
   "cell_type": "code",
   "execution_count": 30,
   "id": "c3ced44e-17ff-415d-be07-72781d895b27",
   "metadata": {},
   "outputs": [],
   "source": [
    "columns_to_remove = [\n",
    "    'AMP1_IR_window_1_mean', 'AMP1_IR_window_1_std', 'AMP1_IR_window_1_min', 'AMP1_IR_window_1_max', 'AMP1_IR_window_2_mean', \n",
    "    'AMP1_IR_window_2_std', 'AMP1_IR_window_2_min', 'AMP1_IR_window_2_max', 'AMP1_IR_window_3_mean', 'AMP1_IR_window_3_std',\n",
    "    'AMP1_IR_window_3_min', 'AMP1_IR_window_3_max', 'AMP1_IR_window_4_mean', 'AMP1_IR_window_4_std', 'AMP1_IR_window_4_min', \n",
    "    'AMP1_IR_window_4_max', 'AMP1_IR_window_5_mean', 'AMP1_IR_window_5_std', 'AMP1_IR_window_5_min', 'AMP1_IR_window_5_max', \n",
    "    'AMP2_IR_window_1_mean', 'AMP2_IR_window_1_std', 'AMP2_IR_window_1_min', 'AMP2_IR_window_1_max', 'AMP2_IR_window_2_mean', \n",
    "    'AMP2_IR_window_2_std', 'AMP2_IR_window_2_min', 'AMP2_IR_window_2_max', 'AMP2_IR_window_3_mean', 'AMP2_IR_window_3_std', \n",
    "    'AMP2_IR_window_3_min', 'AMP2_IR_window_3_max', 'AMP2_IR_window_4_mean', 'AMP2_IR_window_4_std', 'AMP2_IR_window_4_min', \n",
    "    'AMP2_IR_window_4_max', 'AMP2_IR_window_5_mean', 'AMP2_IR_window_5_std', 'AMP2_IR_window_5_min', 'AMP2_IR_window_5_max', \n",
    "    'DMP3_IR_window_1_mean', 'DMP3_IR_window_1_std', 'DMP3_IR_window_1_min', 'DMP3_IR_window_1_max', 'DMP3_IR_window_2_mean', \n",
    "    'DMP3_IR_window_2_std', 'DMP3_IR_window_2_min', 'DMP3_IR_window_2_max', 'DMP3_IR_window_3_mean', 'DMP3_IR_window_3_std', \n",
    "    'DMP3_IR_window_3_min', 'DMP3_IR_window_3_max', 'DMP3_IR_window_4_mean', 'DMP3_IR_window_4_std', 'DMP3_IR_window_4_min', 'DMP3_IR_window_4_max', \n",
    "    'DMP3_IR_window_5_mean', 'DMP3_IR_window_5_std', 'DMP3_IR_window_5_min', 'DMP3_IR_window_5_max', 'DMP4_IR_window_1_mean', 'DMP4_IR_window_1_std', \n",
    "    'DMP4_IR_window_1_min', 'DMP4_IR_window_1_max', 'DMP4_IR_window_2_mean', 'DMP4_IR_window_2_std', 'DMP4_IR_window_2_min', 'DMP4_IR_window_2_max',\n",
    "    'DMP4_IR_window_3_mean', 'DMP4_IR_window_3_std', 'DMP4_IR_window_3_min', 'DMP4_IR_window_3_max', 'DMP4_IR_window_4_mean', 'DMP4_IR_window_4_std', \n",
    "    'DMP4_IR_window_4_min', 'DMP4_IR_window_4_max', 'DMP4_IR_window_5_mean', 'DMP4_IR_window_5_std', 'DMP4_IR_window_5_min', 'DMP4_IR_window_5_max', \n",
    "    'AMP5_IR_window_1_mean', 'AMP5_IR_window_1_std', 'AMP5_IR_window_1_min', 'AMP5_IR_window_1_max', 'AMP5_IR_window_2_mean', 'AMP5_IR_window_2_std', \n",
    "    'AMP5_IR_window_2_min', 'AMP5_IR_window_2_max', 'AMP5_IR_window_3_mean', 'AMP5_IR_window_3_std', 'AMP5_IR_window_3_min', 'AMP5_IR_window_3_max', \n",
    "    'AMP5_IR_window_4_mean', 'AMP5_IR_window_4_std', 'AMP5_IR_window_4_min', 'AMP5_IR_window_4_max', 'AMP5_IR_window_5_mean', 'AMP5_IR_window_5_std', \n",
    "    'AMP5_IR_window_5_min', 'AMP5_IR_window_5_max', 'F_SIDE_window_1_mean', 'F_SIDE_window_1_std', 'F_SIDE_window_1_min', 'F_SIDE_window_1_max', \n",
    "    'F_SIDE_window_2_mean', 'F_SIDE_window_2_std', 'F_SIDE_window_2_min', 'F_SIDE_window_2_max', 'F_SIDE_window_3_mean', 'F_SIDE_window_3_std', 'F_SIDE_window_3_min', \n",
    "    'F_SIDE_window_3_max', 'F_SIDE_window_4_mean', 'F_SIDE_window_4_std', 'F_SIDE_window_4_min', 'F_SIDE_window_4_max', 'F_SIDE_window_5_mean', 'F_SIDE_window_5_std', 'F_SIDE_window_5_min', 'F_SIDE_window_5_max', 'V_window_1_mean', 'V_window_1_std', 'V_window_1_min', 'V_window_1_max', 'V_window_2_mean', 'V_window_2_std', 'V_window_2_min', 'V_window_2_max', 'V_window_3_mean', 'V_window_3_std', 'V_window_3_min', 'V_window_3_max', 'V_window_4_mean', 'V_window_4_std', 'V_window_4_min', 'V_window_4_max', 'V_window_5_mean', 'V_window_5_std', 'V_window_5_min', 'V_window_5_max'\n",
    "]\n"
   ]
  },
  {
   "cell_type": "code",
   "execution_count": 32,
   "id": "9feb9a46-f7ec-44da-9a1a-81b840b5cdba",
   "metadata": {},
   "outputs": [
    {
     "data": {
      "text/plain": [
       "(51700, 563)"
      ]
     },
     "execution_count": 32,
     "metadata": {},
     "output_type": "execute_result"
    }
   ],
   "source": [
    "data.shape"
   ]
  },
  {
   "cell_type": "code",
   "execution_count": 34,
   "id": "91270ce0-623a-4f80-9c91-9a829aa2cba9",
   "metadata": {},
   "outputs": [
    {
     "data": {
      "text/plain": [
       "(51700, 423)"
      ]
     },
     "execution_count": 34,
     "metadata": {},
     "output_type": "execute_result"
    }
   ],
   "source": [
    "# Ensure all listed columns are in the DataFrame columns to avoid errors\n",
    "columns_to_remove = [col for col in columns_to_remove if col in data.columns]\n",
    "data_filtered = data.drop(columns_to_remove, axis=1)\n",
    "data_filtered.shape"
   ]
  },
  {
   "cell_type": "markdown",
   "id": "01d648ba-47b0-4e5c-a5ca-bd02e9f4b5e2",
   "metadata": {},
   "source": [
    "### Data normalize and reshape"
   ]
  },
  {
   "cell_type": "code",
   "execution_count": 36,
   "id": "740394ef-2198-46ed-a6e0-ac9445e32cf1",
   "metadata": {},
   "outputs": [],
   "source": [
    "from sklearn.preprocessing import StandardScaler\n",
    "from sklearn.model_selection import train_test_split\n",
    "\n",
    "# Assuming 'MM263' is the label\n",
    "features = data_filtered.drop(['MM263'], axis=1)\n",
    "labels = data_filtered['MM263']\n",
    "\n",
    "scaler = StandardScaler()\n",
    "features_scaled = scaler.fit_transform(features)\n",
    "\n",
    "# Reshape for LSTM [samples, time steps, features]\n",
    "X = features_scaled.reshape(features_scaled.shape[0], 1, features_scaled.shape[1])\n",
    "y = labels.values\n",
    "\n",
    "# Split data\n",
    "X_train, X_test, y_train, y_test = train_test_split(X, y, test_size=0.2, random_state=42)\n"
   ]
  },
  {
   "cell_type": "code",
   "execution_count": 38,
   "id": "460e5f85-b1b4-472d-acd7-e38936f95d21",
   "metadata": {},
   "outputs": [
    {
     "name": "stderr",
     "output_type": "stream",
     "text": [
      "/opt/anaconda3/lib/python3.12/site-packages/keras/src/layers/rnn/rnn.py:204: UserWarning: Do not pass an `input_shape`/`input_dim` argument to a layer. When using Sequential models, prefer using an `Input(shape)` object as the first layer in the model instead.\n",
      "  super().__init__(**kwargs)\n"
     ]
    }
   ],
   "source": [
    "from keras.models import Sequential\n",
    "from keras.layers import LSTM, Dense\n",
    "\n",
    "model_without_loader = Sequential()\n",
    "model_without_loader.add(LSTM(50, input_shape=(X_train.shape[1], X_train.shape[2])))\n",
    "model_without_loader.add(Dense(1, activation='sigmoid'))  # sigmoid for binary classification\n",
    "model_without_loader.compile(loss='binary_crossentropy', optimizer='adam', metrics=['accuracy'])\n"
   ]
  },
  {
   "cell_type": "code",
   "execution_count": 44,
   "id": "7a0012a0-6567-4ccd-a619-3b6bc62cc04a",
   "metadata": {},
   "outputs": [
    {
     "name": "stdout",
     "output_type": "stream",
     "text": [
      "Epoch 1/5\n",
      "1293/1293 - 1s - 860us/step - accuracy: 0.9965 - loss: 0.0107 - val_accuracy: 0.9954 - val_loss: 0.0149\n",
      "Epoch 2/5\n",
      "1293/1293 - 1s - 930us/step - accuracy: 0.9967 - loss: 0.0096 - val_accuracy: 0.9948 - val_loss: 0.0179\n",
      "Epoch 3/5\n",
      "1293/1293 - 1s - 910us/step - accuracy: 0.9968 - loss: 0.0094 - val_accuracy: 0.9951 - val_loss: 0.0153\n",
      "Epoch 4/5\n",
      "1293/1293 - 1s - 899us/step - accuracy: 0.9968 - loss: 0.0088 - val_accuracy: 0.9954 - val_loss: 0.0148\n",
      "Epoch 5/5\n",
      "1293/1293 - 1s - 894us/step - accuracy: 0.9971 - loss: 0.0077 - val_accuracy: 0.9955 - val_loss: 0.0129\n"
     ]
    }
   ],
   "source": [
    "history_filtered_data = model_without_loader.fit(X_train, y_train, epochs=5, batch_size=32, validation_data=(X_test, y_test), verbose=2)\n"
   ]
  },
  {
   "cell_type": "code",
   "execution_count": 42,
   "id": "f27aa9e3-cb27-4709-b043-bf22125f9875",
   "metadata": {},
   "outputs": [
    {
     "name": "stdout",
     "output_type": "stream",
     "text": [
      "Test Accuracy: 99.51%\n"
     ]
    }
   ],
   "source": [
    "loss, accuracy = model_without_loader.evaluate(X_test, y_test, verbose=0)\n",
    "print(f\"Test Accuracy: {accuracy*100:.2f}%\")\n"
   ]
  },
  {
   "cell_type": "code",
   "execution_count": 46,
   "id": "ea393d42-a044-4018-bfca-e9b3dc5e5b60",
   "metadata": {},
   "outputs": [
    {
     "name": "stderr",
     "output_type": "stream",
     "text": [
      "2024-10-04 03:41:08.420880: I tensorflow/core/framework/local_rendezvous.cc:404] Local rendezvous is aborting with status: INVALID_ARGUMENT: Matrix size-incompatible: In[0]: [32,422], In[1]: [562,200]\n",
      "\t [[{{function_node sequential_1_lstm_1_while_body_58551}}{{node sequential_1/lstm_1/while/lstm_cell_1/MatMul}}]]\n"
     ]
    },
    {
     "ename": "InvalidArgumentError",
     "evalue": "Graph execution error:\n\nDetected at node sequential_1/lstm_1/while/lstm_cell_1/MatMul defined at (most recent call last):\n  File \"<frozen runpy>\", line 198, in _run_module_as_main\n\n  File \"<frozen runpy>\", line 88, in _run_code\n\n  File \"/opt/anaconda3/lib/python3.12/site-packages/ipykernel_launcher.py\", line 17, in <module>\n\n  File \"/opt/anaconda3/lib/python3.12/site-packages/traitlets/config/application.py\", line 1075, in launch_instance\n\n  File \"/opt/anaconda3/lib/python3.12/site-packages/ipykernel/kernelapp.py\", line 701, in start\n\n  File \"/opt/anaconda3/lib/python3.12/site-packages/tornado/platform/asyncio.py\", line 205, in start\n\n  File \"/opt/anaconda3/lib/python3.12/asyncio/base_events.py\", line 641, in run_forever\n\n  File \"/opt/anaconda3/lib/python3.12/asyncio/base_events.py\", line 1987, in _run_once\n\n  File \"/opt/anaconda3/lib/python3.12/asyncio/events.py\", line 88, in _run\n\n  File \"/opt/anaconda3/lib/python3.12/site-packages/ipykernel/kernelbase.py\", line 534, in dispatch_queue\n\n  File \"/opt/anaconda3/lib/python3.12/site-packages/ipykernel/kernelbase.py\", line 523, in process_one\n\n  File \"/opt/anaconda3/lib/python3.12/site-packages/ipykernel/kernelbase.py\", line 429, in dispatch_shell\n\n  File \"/opt/anaconda3/lib/python3.12/site-packages/ipykernel/kernelbase.py\", line 767, in execute_request\n\n  File \"/opt/anaconda3/lib/python3.12/site-packages/ipykernel/ipkernel.py\", line 429, in do_execute\n\n  File \"/opt/anaconda3/lib/python3.12/site-packages/ipykernel/zmqshell.py\", line 549, in run_cell\n\n  File \"/opt/anaconda3/lib/python3.12/site-packages/IPython/core/interactiveshell.py\", line 3075, in run_cell\n\n  File \"/opt/anaconda3/lib/python3.12/site-packages/IPython/core/interactiveshell.py\", line 3130, in _run_cell\n\n  File \"/opt/anaconda3/lib/python3.12/site-packages/IPython/core/async_helpers.py\", line 129, in _pseudo_sync_runner\n\n  File \"/opt/anaconda3/lib/python3.12/site-packages/IPython/core/interactiveshell.py\", line 3334, in run_cell_async\n\n  File \"/opt/anaconda3/lib/python3.12/site-packages/IPython/core/interactiveshell.py\", line 3517, in run_ast_nodes\n\n  File \"/opt/anaconda3/lib/python3.12/site-packages/IPython/core/interactiveshell.py\", line 3577, in run_code\n\n  File \"/var/folders/ph/mqs9kl656hv6_7dcqk4stw900000gn/T/ipykernel_12111/2472787888.py\", line 2, in <module>\n\n  File \"/opt/anaconda3/lib/python3.12/site-packages/keras/src/utils/traceback_utils.py\", line 117, in error_handler\n\n  File \"/opt/anaconda3/lib/python3.12/site-packages/keras/src/backend/tensorflow/trainer.py\", line 512, in predict\n\n  File \"/opt/anaconda3/lib/python3.12/site-packages/keras/src/backend/tensorflow/trainer.py\", line 208, in one_step_on_data_distributed\n\n  File \"/opt/anaconda3/lib/python3.12/site-packages/keras/src/backend/tensorflow/trainer.py\", line 198, in one_step_on_data\n\n  File \"/opt/anaconda3/lib/python3.12/site-packages/keras/src/backend/tensorflow/trainer.py\", line 96, in predict_step\n\n  File \"/opt/anaconda3/lib/python3.12/site-packages/keras/src/utils/traceback_utils.py\", line 117, in error_handler\n\n  File \"/opt/anaconda3/lib/python3.12/site-packages/keras/src/layers/layer.py\", line 901, in __call__\n\n  File \"/opt/anaconda3/lib/python3.12/site-packages/keras/src/utils/traceback_utils.py\", line 117, in error_handler\n\n  File \"/opt/anaconda3/lib/python3.12/site-packages/keras/src/ops/operation.py\", line 46, in __call__\n\n  File \"/opt/anaconda3/lib/python3.12/site-packages/keras/src/utils/traceback_utils.py\", line 156, in error_handler\n\n  File \"/opt/anaconda3/lib/python3.12/site-packages/keras/src/models/sequential.py\", line 212, in call\n\n  File \"/opt/anaconda3/lib/python3.12/site-packages/keras/src/models/functional.py\", line 175, in call\n\n  File \"/opt/anaconda3/lib/python3.12/site-packages/keras/src/ops/function.py\", line 171, in _run_through_graph\n\n  File \"/opt/anaconda3/lib/python3.12/site-packages/keras/src/models/functional.py\", line 560, in call\n\n  File \"/opt/anaconda3/lib/python3.12/site-packages/keras/src/utils/traceback_utils.py\", line 117, in error_handler\n\n  File \"/opt/anaconda3/lib/python3.12/site-packages/keras/src/layers/layer.py\", line 901, in __call__\n\n  File \"/opt/anaconda3/lib/python3.12/site-packages/keras/src/utils/traceback_utils.py\", line 117, in error_handler\n\n  File \"/opt/anaconda3/lib/python3.12/site-packages/keras/src/ops/operation.py\", line 46, in __call__\n\n  File \"/opt/anaconda3/lib/python3.12/site-packages/keras/src/utils/traceback_utils.py\", line 156, in error_handler\n\n  File \"/opt/anaconda3/lib/python3.12/site-packages/keras/src/layers/rnn/lstm.py\", line 570, in call\n\n  File \"/opt/anaconda3/lib/python3.12/site-packages/keras/src/layers/rnn/rnn.py\", line 406, in call\n\n  File \"/opt/anaconda3/lib/python3.12/site-packages/keras/src/layers/rnn/lstm.py\", line 565, in inner_loop\n\n  File \"/opt/anaconda3/lib/python3.12/site-packages/keras/src/layers/rnn/rnn.py\", line 346, in inner_loop\n\n  File \"/opt/anaconda3/lib/python3.12/site-packages/keras/src/backend/tensorflow/rnn.py\", line 428, in rnn\n\n  File \"/opt/anaconda3/lib/python3.12/site-packages/keras/src/backend/tensorflow/rnn.py\", line 411, in _step\n\n  File \"/opt/anaconda3/lib/python3.12/site-packages/keras/src/layers/rnn/rnn.py\", line 338, in step\n\n  File \"/opt/anaconda3/lib/python3.12/site-packages/keras/src/utils/traceback_utils.py\", line 117, in error_handler\n\n  File \"/opt/anaconda3/lib/python3.12/site-packages/keras/src/layers/layer.py\", line 901, in __call__\n\n  File \"/opt/anaconda3/lib/python3.12/site-packages/keras/src/utils/traceback_utils.py\", line 117, in error_handler\n\n  File \"/opt/anaconda3/lib/python3.12/site-packages/keras/src/ops/operation.py\", line 46, in __call__\n\n  File \"/opt/anaconda3/lib/python3.12/site-packages/keras/src/utils/traceback_utils.py\", line 156, in error_handler\n\n  File \"/opt/anaconda3/lib/python3.12/site-packages/keras/src/layers/rnn/lstm.py\", line 264, in call\n\n  File \"/opt/anaconda3/lib/python3.12/site-packages/keras/src/ops/numpy.py\", line 3445, in matmul\n\n  File \"/opt/anaconda3/lib/python3.12/site-packages/keras/src/backend/tensorflow/numpy.py\", line 477, in matmul\n\nMatrix size-incompatible: In[0]: [32,422], In[1]: [562,200]\n\t [[{{node sequential_1/lstm_1/while/lstm_cell_1/MatMul}}]] [Op:__inference_one_step_on_data_distributed_58641]",
     "output_type": "error",
     "traceback": [
      "\u001b[0;31m---------------------------------------------------------------------------\u001b[0m",
      "\u001b[0;31mInvalidArgumentError\u001b[0m                      Traceback (most recent call last)",
      "Cell \u001b[0;32mIn[46], line 2\u001b[0m\n\u001b[1;32m      1\u001b[0m \u001b[38;5;66;03m# Predict probabilities for the positive class\u001b[39;00m\n\u001b[0;32m----> 2\u001b[0m probabilities_model1 \u001b[38;5;241m=\u001b[39m base_model\u001b[38;5;241m.\u001b[39mpredict(X_test)[:, \u001b[38;5;241m1\u001b[39m]  \u001b[38;5;66;03m# Adjust depending on your model's output\u001b[39;00m\n\u001b[1;32m      3\u001b[0m probabilities_model2 \u001b[38;5;241m=\u001b[39m model_without_loader\u001b[38;5;241m.\u001b[39mpredict(X_test)[:, \u001b[38;5;241m1\u001b[39m]\n",
      "File \u001b[0;32m/opt/anaconda3/lib/python3.12/site-packages/keras/src/utils/traceback_utils.py:122\u001b[0m, in \u001b[0;36mfilter_traceback.<locals>.error_handler\u001b[0;34m(*args, **kwargs)\u001b[0m\n\u001b[1;32m    119\u001b[0m     filtered_tb \u001b[38;5;241m=\u001b[39m _process_traceback_frames(e\u001b[38;5;241m.\u001b[39m__traceback__)\n\u001b[1;32m    120\u001b[0m     \u001b[38;5;66;03m# To get the full stack trace, call:\u001b[39;00m\n\u001b[1;32m    121\u001b[0m     \u001b[38;5;66;03m# `keras.config.disable_traceback_filtering()`\u001b[39;00m\n\u001b[0;32m--> 122\u001b[0m     \u001b[38;5;28;01mraise\u001b[39;00m e\u001b[38;5;241m.\u001b[39mwith_traceback(filtered_tb) \u001b[38;5;28;01mfrom\u001b[39;00m \u001b[38;5;28;01mNone\u001b[39;00m\n\u001b[1;32m    123\u001b[0m \u001b[38;5;28;01mfinally\u001b[39;00m:\n\u001b[1;32m    124\u001b[0m     \u001b[38;5;28;01mdel\u001b[39;00m filtered_tb\n",
      "File \u001b[0;32m/opt/anaconda3/lib/python3.12/site-packages/tensorflow/python/eager/execute.py:53\u001b[0m, in \u001b[0;36mquick_execute\u001b[0;34m(op_name, num_outputs, inputs, attrs, ctx, name)\u001b[0m\n\u001b[1;32m     51\u001b[0m \u001b[38;5;28;01mtry\u001b[39;00m:\n\u001b[1;32m     52\u001b[0m   ctx\u001b[38;5;241m.\u001b[39mensure_initialized()\n\u001b[0;32m---> 53\u001b[0m   tensors \u001b[38;5;241m=\u001b[39m pywrap_tfe\u001b[38;5;241m.\u001b[39mTFE_Py_Execute(ctx\u001b[38;5;241m.\u001b[39m_handle, device_name, op_name,\n\u001b[1;32m     54\u001b[0m                                       inputs, attrs, num_outputs)\n\u001b[1;32m     55\u001b[0m \u001b[38;5;28;01mexcept\u001b[39;00m core\u001b[38;5;241m.\u001b[39m_NotOkStatusException \u001b[38;5;28;01mas\u001b[39;00m e:\n\u001b[1;32m     56\u001b[0m   \u001b[38;5;28;01mif\u001b[39;00m name \u001b[38;5;129;01mis\u001b[39;00m \u001b[38;5;129;01mnot\u001b[39;00m \u001b[38;5;28;01mNone\u001b[39;00m:\n",
      "\u001b[0;31mInvalidArgumentError\u001b[0m: Graph execution error:\n\nDetected at node sequential_1/lstm_1/while/lstm_cell_1/MatMul defined at (most recent call last):\n  File \"<frozen runpy>\", line 198, in _run_module_as_main\n\n  File \"<frozen runpy>\", line 88, in _run_code\n\n  File \"/opt/anaconda3/lib/python3.12/site-packages/ipykernel_launcher.py\", line 17, in <module>\n\n  File \"/opt/anaconda3/lib/python3.12/site-packages/traitlets/config/application.py\", line 1075, in launch_instance\n\n  File \"/opt/anaconda3/lib/python3.12/site-packages/ipykernel/kernelapp.py\", line 701, in start\n\n  File \"/opt/anaconda3/lib/python3.12/site-packages/tornado/platform/asyncio.py\", line 205, in start\n\n  File \"/opt/anaconda3/lib/python3.12/asyncio/base_events.py\", line 641, in run_forever\n\n  File \"/opt/anaconda3/lib/python3.12/asyncio/base_events.py\", line 1987, in _run_once\n\n  File \"/opt/anaconda3/lib/python3.12/asyncio/events.py\", line 88, in _run\n\n  File \"/opt/anaconda3/lib/python3.12/site-packages/ipykernel/kernelbase.py\", line 534, in dispatch_queue\n\n  File \"/opt/anaconda3/lib/python3.12/site-packages/ipykernel/kernelbase.py\", line 523, in process_one\n\n  File \"/opt/anaconda3/lib/python3.12/site-packages/ipykernel/kernelbase.py\", line 429, in dispatch_shell\n\n  File \"/opt/anaconda3/lib/python3.12/site-packages/ipykernel/kernelbase.py\", line 767, in execute_request\n\n  File \"/opt/anaconda3/lib/python3.12/site-packages/ipykernel/ipkernel.py\", line 429, in do_execute\n\n  File \"/opt/anaconda3/lib/python3.12/site-packages/ipykernel/zmqshell.py\", line 549, in run_cell\n\n  File \"/opt/anaconda3/lib/python3.12/site-packages/IPython/core/interactiveshell.py\", line 3075, in run_cell\n\n  File \"/opt/anaconda3/lib/python3.12/site-packages/IPython/core/interactiveshell.py\", line 3130, in _run_cell\n\n  File \"/opt/anaconda3/lib/python3.12/site-packages/IPython/core/async_helpers.py\", line 129, in _pseudo_sync_runner\n\n  File \"/opt/anaconda3/lib/python3.12/site-packages/IPython/core/interactiveshell.py\", line 3334, in run_cell_async\n\n  File \"/opt/anaconda3/lib/python3.12/site-packages/IPython/core/interactiveshell.py\", line 3517, in run_ast_nodes\n\n  File \"/opt/anaconda3/lib/python3.12/site-packages/IPython/core/interactiveshell.py\", line 3577, in run_code\n\n  File \"/var/folders/ph/mqs9kl656hv6_7dcqk4stw900000gn/T/ipykernel_12111/2472787888.py\", line 2, in <module>\n\n  File \"/opt/anaconda3/lib/python3.12/site-packages/keras/src/utils/traceback_utils.py\", line 117, in error_handler\n\n  File \"/opt/anaconda3/lib/python3.12/site-packages/keras/src/backend/tensorflow/trainer.py\", line 512, in predict\n\n  File \"/opt/anaconda3/lib/python3.12/site-packages/keras/src/backend/tensorflow/trainer.py\", line 208, in one_step_on_data_distributed\n\n  File \"/opt/anaconda3/lib/python3.12/site-packages/keras/src/backend/tensorflow/trainer.py\", line 198, in one_step_on_data\n\n  File \"/opt/anaconda3/lib/python3.12/site-packages/keras/src/backend/tensorflow/trainer.py\", line 96, in predict_step\n\n  File \"/opt/anaconda3/lib/python3.12/site-packages/keras/src/utils/traceback_utils.py\", line 117, in error_handler\n\n  File \"/opt/anaconda3/lib/python3.12/site-packages/keras/src/layers/layer.py\", line 901, in __call__\n\n  File \"/opt/anaconda3/lib/python3.12/site-packages/keras/src/utils/traceback_utils.py\", line 117, in error_handler\n\n  File \"/opt/anaconda3/lib/python3.12/site-packages/keras/src/ops/operation.py\", line 46, in __call__\n\n  File \"/opt/anaconda3/lib/python3.12/site-packages/keras/src/utils/traceback_utils.py\", line 156, in error_handler\n\n  File \"/opt/anaconda3/lib/python3.12/site-packages/keras/src/models/sequential.py\", line 212, in call\n\n  File \"/opt/anaconda3/lib/python3.12/site-packages/keras/src/models/functional.py\", line 175, in call\n\n  File \"/opt/anaconda3/lib/python3.12/site-packages/keras/src/ops/function.py\", line 171, in _run_through_graph\n\n  File \"/opt/anaconda3/lib/python3.12/site-packages/keras/src/models/functional.py\", line 560, in call\n\n  File \"/opt/anaconda3/lib/python3.12/site-packages/keras/src/utils/traceback_utils.py\", line 117, in error_handler\n\n  File \"/opt/anaconda3/lib/python3.12/site-packages/keras/src/layers/layer.py\", line 901, in __call__\n\n  File \"/opt/anaconda3/lib/python3.12/site-packages/keras/src/utils/traceback_utils.py\", line 117, in error_handler\n\n  File \"/opt/anaconda3/lib/python3.12/site-packages/keras/src/ops/operation.py\", line 46, in __call__\n\n  File \"/opt/anaconda3/lib/python3.12/site-packages/keras/src/utils/traceback_utils.py\", line 156, in error_handler\n\n  File \"/opt/anaconda3/lib/python3.12/site-packages/keras/src/layers/rnn/lstm.py\", line 570, in call\n\n  File \"/opt/anaconda3/lib/python3.12/site-packages/keras/src/layers/rnn/rnn.py\", line 406, in call\n\n  File \"/opt/anaconda3/lib/python3.12/site-packages/keras/src/layers/rnn/lstm.py\", line 565, in inner_loop\n\n  File \"/opt/anaconda3/lib/python3.12/site-packages/keras/src/layers/rnn/rnn.py\", line 346, in inner_loop\n\n  File \"/opt/anaconda3/lib/python3.12/site-packages/keras/src/backend/tensorflow/rnn.py\", line 428, in rnn\n\n  File \"/opt/anaconda3/lib/python3.12/site-packages/keras/src/backend/tensorflow/rnn.py\", line 411, in _step\n\n  File \"/opt/anaconda3/lib/python3.12/site-packages/keras/src/layers/rnn/rnn.py\", line 338, in step\n\n  File \"/opt/anaconda3/lib/python3.12/site-packages/keras/src/utils/traceback_utils.py\", line 117, in error_handler\n\n  File \"/opt/anaconda3/lib/python3.12/site-packages/keras/src/layers/layer.py\", line 901, in __call__\n\n  File \"/opt/anaconda3/lib/python3.12/site-packages/keras/src/utils/traceback_utils.py\", line 117, in error_handler\n\n  File \"/opt/anaconda3/lib/python3.12/site-packages/keras/src/ops/operation.py\", line 46, in __call__\n\n  File \"/opt/anaconda3/lib/python3.12/site-packages/keras/src/utils/traceback_utils.py\", line 156, in error_handler\n\n  File \"/opt/anaconda3/lib/python3.12/site-packages/keras/src/layers/rnn/lstm.py\", line 264, in call\n\n  File \"/opt/anaconda3/lib/python3.12/site-packages/keras/src/ops/numpy.py\", line 3445, in matmul\n\n  File \"/opt/anaconda3/lib/python3.12/site-packages/keras/src/backend/tensorflow/numpy.py\", line 477, in matmul\n\nMatrix size-incompatible: In[0]: [32,422], In[1]: [562,200]\n\t [[{{node sequential_1/lstm_1/while/lstm_cell_1/MatMul}}]] [Op:__inference_one_step_on_data_distributed_58641]"
     ]
    }
   ],
   "source": [
    "# Predict probabilities for the positive class\n",
    "probabilities_model1 = base_model.predict(X_test)[:, 1]  # Adjust depending on your model's output\n",
    "probabilities_model2 = model_without_loader.predict(X_test)[:, 1]\n"
   ]
  }
 ],
 "metadata": {
  "kernelspec": {
   "display_name": "Python 3 (ipykernel)",
   "language": "python",
   "name": "python3"
  },
  "language_info": {
   "codemirror_mode": {
    "name": "ipython",
    "version": 3
   },
   "file_extension": ".py",
   "mimetype": "text/x-python",
   "name": "python",
   "nbconvert_exporter": "python",
   "pygments_lexer": "ipython3",
   "version": "3.12.4"
  }
 },
 "nbformat": 4,
 "nbformat_minor": 5
}
