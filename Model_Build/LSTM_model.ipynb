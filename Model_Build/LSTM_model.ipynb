{
 "cells": [
  {
   "cell_type": "code",
   "execution_count": 30,
   "id": "ae759ea6-cc87-4e80-be66-b98316e21d1d",
   "metadata": {},
   "outputs": [],
   "source": [
    "import pandas as pd\n",
    "import numpy as np\n",
    "from sklearn.preprocessing import StandardScaler\n",
    "from sklearn.metrics import roc_curve, auc, balanced_accuracy_score\n",
    "import matplotlib.pyplot as plt\n",
    "\n",
    "import tensorflow as tf\n",
    "from tensorflow.keras.models import Sequential\n",
    "from tensorflow.keras.layers import LSTM, Dense, Dropout\n",
    "\n"
   ]
  },
  {
   "cell_type": "code",
   "execution_count": 3,
   "id": "3a3564dd-f8c9-4f66-8e82-9d1c982df8d1",
   "metadata": {},
   "outputs": [
    {
     "data": {
      "text/plain": [
       "(51700, 560)"
      ]
     },
     "execution_count": 3,
     "metadata": {},
     "output_type": "execute_result"
    }
   ],
   "source": [
    "train_path = '../../feature_extracted_data/training_features_01.csv'\n",
    "train_data = pd.read_csv(train_path)\n",
    "train_data.shape"
   ]
  },
  {
   "cell_type": "code",
   "execution_count": 4,
   "id": "55320e20-cae7-46db-b577-2b2555f8912c",
   "metadata": {},
   "outputs": [
    {
     "name": "stdout",
     "output_type": "stream",
     "text": [
      "   AN311_window_1_mean  AN311_window_1_std  AN311_window_1_min  \\\n",
      "0             3.392500            0.139142                 3.2   \n",
      "1             3.372500            0.099132                 3.2   \n",
      "2             3.356667            0.121610                 3.2   \n",
      "3             3.380833            0.130573                 3.2   \n",
      "4             3.355000            0.125731                 3.1   \n",
      "\n",
      "   AN311_window_1_max  AN311_window_2_mean  AN311_window_2_std  \\\n",
      "0                 3.7             3.356667            0.121610   \n",
      "1                 3.7             3.380833            0.130573   \n",
      "2                 3.6             3.355000            0.125731   \n",
      "3                 3.6             3.392500            0.152295   \n",
      "4                 3.5             3.402500            0.145179   \n",
      "\n",
      "   AN311_window_2_min  AN311_window_2_max  AN311_window_3_mean  \\\n",
      "0                 3.2                 3.6             3.355000   \n",
      "1                 3.2                 3.6             3.392500   \n",
      "2                 3.1                 3.5             3.402500   \n",
      "3                 3.1                 3.7             3.345833   \n",
      "4                 3.2                 3.7             3.350833   \n",
      "\n",
      "   AN311_window_3_std  ...  V_window_3_min  V_window_3_max  V_window_4_mean  \\\n",
      "0            0.125731  ...             0.0             0.0              0.0   \n",
      "1            0.152295  ...             0.0             0.0              0.0   \n",
      "2            0.145179  ...             0.0             0.0              0.0   \n",
      "3            0.117541  ...             0.0             0.0              0.0   \n",
      "4            0.116187  ...             0.0             0.0              0.0   \n",
      "\n",
      "   V_window_4_std  V_window_4_min  V_window_4_max  V_window_5_mean  \\\n",
      "0             0.0             0.0             0.0              0.0   \n",
      "1             0.0             0.0             0.0              0.0   \n",
      "2             0.0             0.0             0.0              0.0   \n",
      "3             0.0             0.0             0.0              0.0   \n",
      "4             0.0             0.0             0.0              0.0   \n",
      "\n",
      "   V_window_5_std  V_window_5_min  V_window_5_max  \n",
      "0             0.0             0.0             0.0  \n",
      "1             0.0             0.0             0.0  \n",
      "2             0.0             0.0             0.0  \n",
      "3             0.0             0.0             0.0  \n",
      "4             0.0             0.0             0.0  \n",
      "\n",
      "[5 rows x 560 columns]\n"
     ]
    }
   ],
   "source": [
    "print(train_data.head())"
   ]
  },
  {
   "cell_type": "code",
   "execution_count": 7,
   "id": "06e1a77f-b1b6-44c6-a5ed-681c89923b58",
   "metadata": {},
   "outputs": [
    {
     "data": {
      "text/plain": [
       "(51700, 3)"
      ]
     },
     "execution_count": 7,
     "metadata": {},
     "output_type": "execute_result"
    }
   ],
   "source": [
    "train_label_path = '../../extracted_data/train_labels_full_with_columns.csv'\n",
    "train_labels = pd.read_csv(train_label_path)\n",
    "train_labels.shape"
   ]
  },
  {
   "cell_type": "code",
   "execution_count": 9,
   "id": "e6108b89-4eca-4702-aa19-f73d6235cfe8",
   "metadata": {},
   "outputs": [
    {
     "data": {
      "text/html": [
       "<div>\n",
       "<style scoped>\n",
       "    .dataframe tbody tr th:only-of-type {\n",
       "        vertical-align: middle;\n",
       "    }\n",
       "\n",
       "    .dataframe tbody tr th {\n",
       "        vertical-align: top;\n",
       "    }\n",
       "\n",
       "    .dataframe thead th {\n",
       "        text-align: right;\n",
       "    }\n",
       "</style>\n",
       "<table border=\"1\" class=\"dataframe\">\n",
       "  <thead>\n",
       "    <tr style=\"text-align: right;\">\n",
       "      <th></th>\n",
       "      <th>MM263</th>\n",
       "      <th>MM264</th>\n",
       "      <th>MM256</th>\n",
       "    </tr>\n",
       "  </thead>\n",
       "  <tbody>\n",
       "    <tr>\n",
       "      <th>0</th>\n",
       "      <td>normal</td>\n",
       "      <td>normal</td>\n",
       "      <td>normal</td>\n",
       "    </tr>\n",
       "    <tr>\n",
       "      <th>1</th>\n",
       "      <td>normal</td>\n",
       "      <td>normal</td>\n",
       "      <td>normal</td>\n",
       "    </tr>\n",
       "    <tr>\n",
       "      <th>2</th>\n",
       "      <td>normal</td>\n",
       "      <td>normal</td>\n",
       "      <td>normal</td>\n",
       "    </tr>\n",
       "    <tr>\n",
       "      <th>3</th>\n",
       "      <td>normal</td>\n",
       "      <td>normal</td>\n",
       "      <td>normal</td>\n",
       "    </tr>\n",
       "    <tr>\n",
       "      <th>4</th>\n",
       "      <td>normal</td>\n",
       "      <td>normal</td>\n",
       "      <td>normal</td>\n",
       "    </tr>\n",
       "  </tbody>\n",
       "</table>\n",
       "</div>"
      ],
      "text/plain": [
       "    MM263   MM264   MM256\n",
       "0  normal  normal  normal\n",
       "1  normal  normal  normal\n",
       "2  normal  normal  normal\n",
       "3  normal  normal  normal\n",
       "4  normal  normal  normal"
      ]
     },
     "execution_count": 9,
     "metadata": {},
     "output_type": "execute_result"
    }
   ],
   "source": [
    "train_labels.head()"
   ]
  },
  {
   "cell_type": "code",
   "execution_count": 11,
   "id": "7091a685-bdf4-4d12-b1b7-d5dea8725713",
   "metadata": {},
   "outputs": [
    {
     "data": {
      "text/plain": [
       "(5076, 560)"
      ]
     },
     "execution_count": 11,
     "metadata": {},
     "output_type": "execute_result"
    }
   ],
   "source": [
    "test_data = pd.read_csv(\"../../feature_extracted_data/test_features_01.csv\")\n",
    "test_data.shape"
   ]
  },
  {
   "cell_type": "code",
   "execution_count": 13,
   "id": "ffcbbe47-f3d6-4d11-adad-a3d37adcfdc6",
   "metadata": {},
   "outputs": [
    {
     "data": {
      "text/html": [
       "<div>\n",
       "<style scoped>\n",
       "    .dataframe tbody tr th:only-of-type {\n",
       "        vertical-align: middle;\n",
       "    }\n",
       "\n",
       "    .dataframe tbody tr th {\n",
       "        vertical-align: top;\n",
       "    }\n",
       "\n",
       "    .dataframe thead th {\n",
       "        text-align: right;\n",
       "    }\n",
       "</style>\n",
       "<table border=\"1\" class=\"dataframe\">\n",
       "  <thead>\n",
       "    <tr style=\"text-align: right;\">\n",
       "      <th></th>\n",
       "      <th>AN311_window_1_mean</th>\n",
       "      <th>AN311_window_1_std</th>\n",
       "      <th>AN311_window_1_min</th>\n",
       "      <th>AN311_window_1_max</th>\n",
       "      <th>AN311_window_2_mean</th>\n",
       "      <th>AN311_window_2_std</th>\n",
       "      <th>AN311_window_2_min</th>\n",
       "      <th>AN311_window_2_max</th>\n",
       "      <th>AN311_window_3_mean</th>\n",
       "      <th>AN311_window_3_std</th>\n",
       "      <th>...</th>\n",
       "      <th>V_window_3_min</th>\n",
       "      <th>V_window_3_max</th>\n",
       "      <th>V_window_4_mean</th>\n",
       "      <th>V_window_4_std</th>\n",
       "      <th>V_window_4_min</th>\n",
       "      <th>V_window_4_max</th>\n",
       "      <th>V_window_5_mean</th>\n",
       "      <th>V_window_5_std</th>\n",
       "      <th>V_window_5_min</th>\n",
       "      <th>V_window_5_max</th>\n",
       "    </tr>\n",
       "  </thead>\n",
       "  <tbody>\n",
       "    <tr>\n",
       "      <th>0</th>\n",
       "      <td>4.073333</td>\n",
       "      <td>0.124989</td>\n",
       "      <td>3.9</td>\n",
       "      <td>4.4</td>\n",
       "      <td>4.061667</td>\n",
       "      <td>0.105026</td>\n",
       "      <td>3.9</td>\n",
       "      <td>4.2</td>\n",
       "      <td>4.158333</td>\n",
       "      <td>0.104549</td>\n",
       "      <td>...</td>\n",
       "      <td>0.0</td>\n",
       "      <td>0.0</td>\n",
       "      <td>0.0</td>\n",
       "      <td>0.0</td>\n",
       "      <td>0.0</td>\n",
       "      <td>0.0</td>\n",
       "      <td>0.0</td>\n",
       "      <td>0.0</td>\n",
       "      <td>0.0</td>\n",
       "      <td>0.0</td>\n",
       "    </tr>\n",
       "    <tr>\n",
       "      <th>1</th>\n",
       "      <td>3.345833</td>\n",
       "      <td>0.246271</td>\n",
       "      <td>2.9</td>\n",
       "      <td>3.9</td>\n",
       "      <td>3.205000</td>\n",
       "      <td>0.133448</td>\n",
       "      <td>2.8</td>\n",
       "      <td>3.7</td>\n",
       "      <td>3.274167</td>\n",
       "      <td>0.198954</td>\n",
       "      <td>...</td>\n",
       "      <td>0.0</td>\n",
       "      <td>0.0</td>\n",
       "      <td>0.0</td>\n",
       "      <td>0.0</td>\n",
       "      <td>0.0</td>\n",
       "      <td>0.0</td>\n",
       "      <td>0.0</td>\n",
       "      <td>0.0</td>\n",
       "      <td>0.0</td>\n",
       "      <td>0.0</td>\n",
       "    </tr>\n",
       "    <tr>\n",
       "      <th>2</th>\n",
       "      <td>4.148333</td>\n",
       "      <td>0.100816</td>\n",
       "      <td>3.9</td>\n",
       "      <td>4.3</td>\n",
       "      <td>4.056667</td>\n",
       "      <td>0.098939</td>\n",
       "      <td>3.9</td>\n",
       "      <td>4.2</td>\n",
       "      <td>4.100000</td>\n",
       "      <td>0.125167</td>\n",
       "      <td>...</td>\n",
       "      <td>0.0</td>\n",
       "      <td>0.0</td>\n",
       "      <td>0.0</td>\n",
       "      <td>0.0</td>\n",
       "      <td>0.0</td>\n",
       "      <td>0.0</td>\n",
       "      <td>0.0</td>\n",
       "      <td>0.0</td>\n",
       "      <td>0.0</td>\n",
       "      <td>0.0</td>\n",
       "    </tr>\n",
       "    <tr>\n",
       "      <th>3</th>\n",
       "      <td>3.177500</td>\n",
       "      <td>0.350823</td>\n",
       "      <td>2.7</td>\n",
       "      <td>4.0</td>\n",
       "      <td>3.215833</td>\n",
       "      <td>0.316490</td>\n",
       "      <td>2.7</td>\n",
       "      <td>3.9</td>\n",
       "      <td>3.261667</td>\n",
       "      <td>0.192000</td>\n",
       "      <td>...</td>\n",
       "      <td>0.0</td>\n",
       "      <td>0.0</td>\n",
       "      <td>0.0</td>\n",
       "      <td>0.0</td>\n",
       "      <td>0.0</td>\n",
       "      <td>0.0</td>\n",
       "      <td>0.0</td>\n",
       "      <td>0.0</td>\n",
       "      <td>0.0</td>\n",
       "      <td>0.0</td>\n",
       "    </tr>\n",
       "    <tr>\n",
       "      <th>4</th>\n",
       "      <td>3.918333</td>\n",
       "      <td>0.172715</td>\n",
       "      <td>3.6</td>\n",
       "      <td>4.2</td>\n",
       "      <td>3.790000</td>\n",
       "      <td>0.159896</td>\n",
       "      <td>3.6</td>\n",
       "      <td>4.2</td>\n",
       "      <td>3.873333</td>\n",
       "      <td>0.185173</td>\n",
       "      <td>...</td>\n",
       "      <td>0.0</td>\n",
       "      <td>0.0</td>\n",
       "      <td>0.0</td>\n",
       "      <td>0.0</td>\n",
       "      <td>0.0</td>\n",
       "      <td>0.0</td>\n",
       "      <td>0.0</td>\n",
       "      <td>0.0</td>\n",
       "      <td>0.0</td>\n",
       "      <td>0.0</td>\n",
       "    </tr>\n",
       "  </tbody>\n",
       "</table>\n",
       "<p>5 rows × 560 columns</p>\n",
       "</div>"
      ],
      "text/plain": [
       "   AN311_window_1_mean  AN311_window_1_std  AN311_window_1_min  \\\n",
       "0             4.073333            0.124989                 3.9   \n",
       "1             3.345833            0.246271                 2.9   \n",
       "2             4.148333            0.100816                 3.9   \n",
       "3             3.177500            0.350823                 2.7   \n",
       "4             3.918333            0.172715                 3.6   \n",
       "\n",
       "   AN311_window_1_max  AN311_window_2_mean  AN311_window_2_std  \\\n",
       "0                 4.4             4.061667            0.105026   \n",
       "1                 3.9             3.205000            0.133448   \n",
       "2                 4.3             4.056667            0.098939   \n",
       "3                 4.0             3.215833            0.316490   \n",
       "4                 4.2             3.790000            0.159896   \n",
       "\n",
       "   AN311_window_2_min  AN311_window_2_max  AN311_window_3_mean  \\\n",
       "0                 3.9                 4.2             4.158333   \n",
       "1                 2.8                 3.7             3.274167   \n",
       "2                 3.9                 4.2             4.100000   \n",
       "3                 2.7                 3.9             3.261667   \n",
       "4                 3.6                 4.2             3.873333   \n",
       "\n",
       "   AN311_window_3_std  ...  V_window_3_min  V_window_3_max  V_window_4_mean  \\\n",
       "0            0.104549  ...             0.0             0.0              0.0   \n",
       "1            0.198954  ...             0.0             0.0              0.0   \n",
       "2            0.125167  ...             0.0             0.0              0.0   \n",
       "3            0.192000  ...             0.0             0.0              0.0   \n",
       "4            0.185173  ...             0.0             0.0              0.0   \n",
       "\n",
       "   V_window_4_std  V_window_4_min  V_window_4_max  V_window_5_mean  \\\n",
       "0             0.0             0.0             0.0              0.0   \n",
       "1             0.0             0.0             0.0              0.0   \n",
       "2             0.0             0.0             0.0              0.0   \n",
       "3             0.0             0.0             0.0              0.0   \n",
       "4             0.0             0.0             0.0              0.0   \n",
       "\n",
       "   V_window_5_std  V_window_5_min  V_window_5_max  \n",
       "0             0.0             0.0             0.0  \n",
       "1             0.0             0.0             0.0  \n",
       "2             0.0             0.0             0.0  \n",
       "3             0.0             0.0             0.0  \n",
       "4             0.0             0.0             0.0  \n",
       "\n",
       "[5 rows x 560 columns]"
      ]
     },
     "execution_count": 13,
     "metadata": {},
     "output_type": "execute_result"
    }
   ],
   "source": [
    "test_data.head()"
   ]
  },
  {
   "cell_type": "code",
   "execution_count": 15,
   "id": "a5a72f96-ee66-44b7-9c7d-e3cbb55d406b",
   "metadata": {},
   "outputs": [
    {
     "name": "stdout",
     "output_type": "stream",
     "text": [
      "(5076, 3)\n",
      "    MM263   MM264    MM256\n",
      "0  normal  normal  warning\n",
      "1  normal  normal   normal\n",
      "2  normal  normal   normal\n",
      "3  normal  normal   normal\n",
      "4  normal  normal   normal\n"
     ]
    }
   ],
   "source": [
    "test_labels = pd.read_csv(\"../../extracted_data/test_labels_full_with_columns.csv\")\n",
    "print(test_labels.shape)\n",
    "print(test_labels.head())"
   ]
  },
  {
   "cell_type": "markdown",
   "id": "4c647887-9ee2-4b54-b935-cc2973ae2ba3",
   "metadata": {},
   "source": [
    "### Combine with original data & feature extracted"
   ]
  },
  {
   "cell_type": "code",
   "execution_count": 17,
   "id": "65b2db44-95a1-4024-b369-420adc374497",
   "metadata": {},
   "outputs": [
    {
     "data": {
      "text/plain": [
       "(51700, 16800)"
      ]
     },
     "execution_count": 17,
     "metadata": {},
     "output_type": "execute_result"
    }
   ],
   "source": [
    "original_train_data = pd.read_csv(\"../../extracted_data/training_data_full_with_columns.csv\")\n",
    "original_train_data.shape"
   ]
  },
  {
   "cell_type": "code",
   "execution_count": 18,
   "id": "5da96253-417e-42c9-87f0-694062b8d21b",
   "metadata": {},
   "outputs": [
    {
     "data": {
      "text/plain": [
       "(5076, 16800)"
      ]
     },
     "execution_count": 18,
     "metadata": {},
     "output_type": "execute_result"
    }
   ],
   "source": [
    "original_test_data = pd.read_csv(\"../../extracted_data/test_data_full_with_columns.csv\")\n",
    "original_test_data.shape"
   ]
  },
  {
   "cell_type": "code",
   "execution_count": 19,
   "id": "d354dfb8-0e34-4511-b285-305963b7df24",
   "metadata": {},
   "outputs": [
    {
     "data": {
      "text/plain": [
       "(51700, 17360)"
      ]
     },
     "execution_count": 19,
     "metadata": {},
     "output_type": "execute_result"
    }
   ],
   "source": [
    "merged_train_df = pd.concat([original_train_data, train_data], axis=1)\n",
    "merged_train_df.shape"
   ]
  },
  {
   "cell_type": "code",
   "execution_count": 20,
   "id": "570f612c-aaba-4ab9-b48a-d2b29ce83e2e",
   "metadata": {},
   "outputs": [
    {
     "data": {
      "text/plain": [
       "(5076, 17360)"
      ]
     },
     "execution_count": 20,
     "metadata": {},
     "output_type": "execute_result"
    }
   ],
   "source": [
    "merged_test_df = pd.concat([original_test_data, test_data], axis=1)\n",
    "merged_test_df.shape"
   ]
  },
  {
   "cell_type": "code",
   "execution_count": 21,
   "id": "cc205c1c-0635-40bf-aaf6-583e297089dd",
   "metadata": {},
   "outputs": [],
   "source": [
    "# Separate features and target\n",
    "X_train = merged_train_df\n",
    "y_train = train_labels['MM263']\n",
    "\n",
    "X_test = merged_test_df\n",
    "y_test = test_labels['MM263']"
   ]
  },
  {
   "cell_type": "code",
   "execution_count": 22,
   "id": "d30e0e10-c321-4a99-b119-f1a9041cb1e1",
   "metadata": {},
   "outputs": [
    {
     "name": "stdout",
     "output_type": "stream",
     "text": [
      "(51700, 17360)\n",
      "(51700,)\n",
      "(5076, 17360)\n",
      "(5076,)\n"
     ]
    }
   ],
   "source": [
    "print(X_train.shape)\n",
    "print(y_train.shape)\n",
    "print(X_test.shape)\n",
    "print(y_test.shape)"
   ]
  },
  {
   "cell_type": "code",
   "execution_count": 34,
   "id": "b45f0fb4-65f4-4419-b397-fd14be458cdd",
   "metadata": {},
   "outputs": [],
   "source": [
    "# Convert DataFrame to numpy array before scaling and reshaping\n",
    "X_train_array = X_train.to_numpy()\n",
    "X_test_array = X_test.to_numpy()\n",
    "\n",
    "# Scaling the features\n",
    "scaler = StandardScaler()\n",
    "X_train_scaled = scaler.fit_transform(X_train_array)\n",
    "X_test_scaled = scaler.transform(X_test_array)\n",
    "\n",
    "# Reshape inputs for LSTM [samples, time steps, features]\n",
    "X_train_reshaped = X_train_scaled.reshape(X_train_scaled.shape[0], X_train_scaled.shape[1], 1)\n",
    "X_test_reshaped = X_test_scaled.reshape(X_test_scaled.shape[0], X_test_scaled.shape[1], 1)\n"
   ]
  },
  {
   "cell_type": "markdown",
   "id": "d0eb6baf-8709-4ead-968b-4e92dd83d37a",
   "metadata": {},
   "source": [
    "### Baseline model"
   ]
  },
  {
   "cell_type": "code",
   "execution_count": 36,
   "id": "a4a90734-1b37-4d3c-9b62-7caacdc18ef0",
   "metadata": {},
   "outputs": [],
   "source": [
    "def LSTM_model(dropout ):\n",
    "\n",
    "    # Build LSTM model\n",
    "    model = Sequential([\n",
    "        LSTM(50, input_shape=(X_train_reshaped.shape[1], X_train_reshaped.shape[2]), return_sequences=True),\n",
    "        Dropout(dropout),\n",
    "        LSTM(50),\n",
    "        Dropout(dropout),\n",
    "        Dense(1, activation='sigmoid')\n",
    "    ])\n",
    "    \n",
    "    model.compile(loss='binary_crossentropy', optimizer='adam', metrics=['AUC'])\n",
    "    \n",
    "    # Train the model\n",
    "    history = model.fit(X_train_reshaped, y_train, epochs=50, batch_size=64, \n",
    "                        validation_data=(X_test_reshaped, y_test), verbose=1)\n",
    "\n",
    "    return model"
   ]
  },
  {
   "cell_type": "code",
   "execution_count": null,
   "id": "870b9a90-5b42-4f3f-b364-4f67e2dc9f76",
   "metadata": {},
   "outputs": [
    {
     "name": "stderr",
     "output_type": "stream",
     "text": [
      "/opt/anaconda3/lib/python3.12/site-packages/keras/src/layers/rnn/rnn.py:204: UserWarning: Do not pass an `input_shape`/`input_dim` argument to a layer. When using Sequential models, prefer using an `Input(shape)` object as the first layer in the model instead.\n",
      "  super().__init__(**kwargs)\n"
     ]
    }
   ],
   "source": [
    "\n",
    "model = LSTM_model(0.2)\n",
    "# Predict probabilities\n",
    "y_pred_probs = model.predict(X_test_reshaped)\n",
    "\n",
    "# Convert probabilities to binary predictions\n",
    "y_pred = (y_pred_probs > 0.5).astype(int)\n",
    "\n",
    "# Calculate Balanced Accuracy\n",
    "balanced_acc = balanced_accuracy_score(y_test, y_pred)\n",
    "print(f'Balanced Accuracy: {balanced_acc:.4f}')\n",
    "\n",
    "# Calculate AUC\n",
    "auc_score = roc_auc_score(y_test, y_pred_probs)\n",
    "print(f'AUC Score: {auc_score:.4f}')\n"
   ]
  },
  {
   "cell_type": "markdown",
   "id": "917b7ec3-12de-47a2-8fe7-65bc4308221e",
   "metadata": {},
   "source": [
    "### Model without cutter loader features"
   ]
  },
  {
   "cell_type": "code",
   "execution_count": null,
   "id": "d1293fba-9f71-40b8-902b-8ece3141ffed",
   "metadata": {},
   "outputs": [],
   "source": [
    "import pandas as pd\n",
    "\n",
    "prefixes_to_remove = ['AMP1_IR', 'AMP2_IR', 'DMP3_IR', 'DMP4_IR', 'AMP5_IR', 'F_SIDE', 'V']\n",
    "\n",
    "# Generate a list of columns to drop\n",
    "columns_to_drop = [col for col in X_train.columns if any(col.startswith(prefix) for prefix in prefixes_to_remove)]\n",
    "\n",
    "# Drop these columns from the DataFrame\n",
    "X_train_new = X_train.drop(columns=columns_to_drop)\n",
    "\n",
    "print(X_train_new.shape)\n",
    "print(X_train_new.head())\n"
   ]
  },
  {
   "cell_type": "code",
   "execution_count": null,
   "id": "90fc335c-b196-4e64-b01c-2aa728540308",
   "metadata": {},
   "outputs": [],
   "source": [
    "columns_to_drop = [col for col in X_test.columns if any(col.startswith(prefix) for prefix in prefixes_to_remove)]\n",
    "\n",
    "# Drop these columns from the DataFrame\n",
    "X_test_new = X_test.drop(columns=columns_to_drop)\n",
    "\n",
    "print(X_test_new.shape)\n",
    "print(X_test_new.head())"
   ]
  }
 ],
 "metadata": {
  "kernelspec": {
   "display_name": "Python 3 (ipykernel)",
   "language": "python",
   "name": "python3"
  },
  "language_info": {
   "codemirror_mode": {
    "name": "ipython",
    "version": 3
   },
   "file_extension": ".py",
   "mimetype": "text/x-python",
   "name": "python",
   "nbconvert_exporter": "python",
   "pygments_lexer": "ipython3",
   "version": "3.12.4"
  }
 },
 "nbformat": 4,
 "nbformat_minor": 5
}
