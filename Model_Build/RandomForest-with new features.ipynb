{
 "cells": [
  {
   "cell_type": "code",
   "execution_count": 1,
   "id": "788389d2-4322-44ef-be9a-7e42952d1654",
   "metadata": {},
   "outputs": [],
   "source": [
    "import pandas as pd\n",
    "import numpy as np\n",
    "from sklearn.preprocessing import StandardScaler\n",
    "from sklearn.metrics import roc_curve, auc, accuracy_score\n",
    "from tensorflow.keras.models import Sequential\n",
    "from tensorflow.keras.layers import LSTM, Dense\n",
    "import matplotlib.pyplot as plt\n",
    "\n",
    "# Load Data\n",
    "zip_file_path = '../../extracted_data/feature_extracted_data/trainingData_features_01_1.zip'\n",
    "train_data = pd.read_csv(zip_file_path, compression='zip')\n"
   ]
  },
  {
   "cell_type": "code",
   "execution_count": 3,
   "id": "f7d9dcfd-a67f-4c4e-82d5-7a260368de4a",
   "metadata": {},
   "outputs": [
    {
     "data": {
      "text/plain": [
       "<bound method NDFrame.head of        AN311_mean  AN311_std  AN311_min  AN311_max  AN311_top5_min  \\\n",
       "0        3.371500   0.131799        3.1        3.7            3.10   \n",
       "1        3.367000   0.129400        3.0        3.7            3.02   \n",
       "2        3.362667   0.130536        3.0        3.7            3.02   \n",
       "3        3.374833   0.131719        3.0        3.7            3.02   \n",
       "4        3.379500   0.129215        3.0        3.7            3.02   \n",
       "...           ...        ...        ...        ...             ...   \n",
       "51695    3.697667   0.098630        3.5        4.0            3.50   \n",
       "51696    3.709000   0.102887        3.5        4.0            3.50   \n",
       "51697    3.708500   0.100055        3.5        4.0            3.50   \n",
       "51698    3.712833   0.103047        3.5        4.0            3.50   \n",
       "51699    3.726833   0.105182        3.5        4.0            3.50   \n",
       "\n",
       "       AN311_top5_max  AN311_min_std  AN311_max_std  AN311_top_freqs_max  \\\n",
       "0                3.70      -2.059949       2.492424            19.200998   \n",
       "1                3.70      -2.836169       2.573418            17.895728   \n",
       "2                3.70      -2.778296       2.584224            15.609032   \n",
       "3                3.70      -2.845698       2.468634            12.190920   \n",
       "4                3.70      -2.936974       2.480370            11.828025   \n",
       "...               ...            ...            ...                  ...   \n",
       "51695            4.00      -2.004122       3.065326            13.698699   \n",
       "51696            4.00      -2.031361       2.828355             9.948945   \n",
       "51697            3.98      -2.083846       2.913386             8.086539   \n",
       "51698            3.98      -2.065405       2.786760             9.036684   \n",
       "51699            4.00      -2.156574       2.597080            12.317604   \n",
       "\n",
       "       AN422_mean  ...  F_SIDE_top_freqs_max  V_mean  V_std  V_min  V_max  \\\n",
       "0        1.673833  ...                   0.0     0.0    0.0    0.0    0.0   \n",
       "1        1.675667  ...                   0.0     0.0    0.0    0.0    0.0   \n",
       "2        1.678000  ...                   0.0     0.0    0.0    0.0    0.0   \n",
       "3        1.682833  ...                   0.0     0.0    0.0    0.0    0.0   \n",
       "4        1.687167  ...                   0.0     0.0    0.0    0.0    0.0   \n",
       "...           ...  ...                   ...     ...    ...    ...    ...   \n",
       "51695    1.521167  ...                   0.0     0.0    0.0    0.0    0.0   \n",
       "51696    1.519500  ...                   0.0     0.0    0.0    0.0    0.0   \n",
       "51697    1.517500  ...                   0.0     0.0    0.0    0.0    0.0   \n",
       "51698    1.512000  ...                   0.0     0.0    0.0    0.0    0.0   \n",
       "51699    1.503833  ...                   0.0     0.0    0.0    0.0    0.0   \n",
       "\n",
       "       V_top5_min  V_top5_max  V_min_std  V_max_std  V_top_freqs_max  \n",
       "0             0.0         0.0        0.0        0.0              0.0  \n",
       "1             0.0         0.0        0.0        0.0              0.0  \n",
       "2             0.0         0.0        0.0        0.0              0.0  \n",
       "3             0.0         0.0        0.0        0.0              0.0  \n",
       "4             0.0         0.0        0.0        0.0              0.0  \n",
       "...           ...         ...        ...        ...              ...  \n",
       "51695         0.0         0.0        0.0        0.0              0.0  \n",
       "51696         0.0         0.0        0.0        0.0              0.0  \n",
       "51697         0.0         0.0        0.0        0.0              0.0  \n",
       "51698         0.0         0.0        0.0        0.0              0.0  \n",
       "51699         0.0         0.0        0.0        0.0              0.0  \n",
       "\n",
       "[51700 rows x 252 columns]>"
      ]
     },
     "execution_count": 3,
     "metadata": {},
     "output_type": "execute_result"
    }
   ],
   "source": [
    "train_data.head"
   ]
  },
  {
   "cell_type": "code",
   "execution_count": 39,
   "id": "74581511-6c13-4a58-ae40-efd5e45925b1",
   "metadata": {},
   "outputs": [],
   "source": [
    "train_labels = pd.read_csv('../../extracted_data/trainingDataFullLabels.csv')\n",
    "# train_labels.columns = ['MM263', 'MM264', 'MM256']"
   ]
  },
  {
   "cell_type": "code",
   "execution_count": 41,
   "id": "fd61986d-2f98-4dfc-86b7-ef50ba62bcc0",
   "metadata": {},
   "outputs": [
    {
     "data": {
      "text/plain": [
       "<bound method NDFrame.head of         MM263   MM264   MM256\n",
       "0      normal  normal  normal\n",
       "1      normal  normal  normal\n",
       "2      normal  normal  normal\n",
       "3      normal  normal  normal\n",
       "4      normal  normal  normal\n",
       "...       ...     ...     ...\n",
       "51695  normal  normal  normal\n",
       "51696  normal  normal  normal\n",
       "51697  normal  normal  normal\n",
       "51698  normal  normal  normal\n",
       "51699  normal  normal  normal\n",
       "\n",
       "[51700 rows x 3 columns]>"
      ]
     },
     "execution_count": 41,
     "metadata": {},
     "output_type": "execute_result"
    }
   ],
   "source": [
    "train_labels.head"
   ]
  },
  {
   "cell_type": "code",
   "execution_count": 11,
   "id": "9700d5c2-3754-45f9-ac51-8002a3838305",
   "metadata": {},
   "outputs": [],
   "source": [
    "test_data = pd.read_csv(\"../../extracted_data/feature_extracted_data/testData_features_01_01.csv\")"
   ]
  },
  {
   "cell_type": "code",
   "execution_count": 13,
   "id": "ebcaf8c5-c91e-46db-b5db-37b962e7b11b",
   "metadata": {},
   "outputs": [
    {
     "data": {
      "text/html": [
       "<div>\n",
       "<style scoped>\n",
       "    .dataframe tbody tr th:only-of-type {\n",
       "        vertical-align: middle;\n",
       "    }\n",
       "\n",
       "    .dataframe tbody tr th {\n",
       "        vertical-align: top;\n",
       "    }\n",
       "\n",
       "    .dataframe thead th {\n",
       "        text-align: right;\n",
       "    }\n",
       "</style>\n",
       "<table border=\"1\" class=\"dataframe\">\n",
       "  <thead>\n",
       "    <tr style=\"text-align: right;\">\n",
       "      <th></th>\n",
       "      <th>AN311_mean</th>\n",
       "      <th>AN311_std</th>\n",
       "      <th>AN311_min</th>\n",
       "      <th>AN311_max</th>\n",
       "      <th>AN311_top5_min</th>\n",
       "      <th>AN311_top5_max</th>\n",
       "      <th>AN311_min_std</th>\n",
       "      <th>AN311_max_std</th>\n",
       "      <th>AN311_top_freqs_max</th>\n",
       "      <th>AN422_mean</th>\n",
       "      <th>...</th>\n",
       "      <th>F_SIDE_top_freqs_max</th>\n",
       "      <th>V_mean</th>\n",
       "      <th>V_std</th>\n",
       "      <th>V_min</th>\n",
       "      <th>V_max</th>\n",
       "      <th>V_top5_min</th>\n",
       "      <th>V_top5_max</th>\n",
       "      <th>V_min_std</th>\n",
       "      <th>V_max_std</th>\n",
       "      <th>V_top_freqs_max</th>\n",
       "    </tr>\n",
       "  </thead>\n",
       "  <tbody>\n",
       "    <tr>\n",
       "      <th>0</th>\n",
       "      <td>3.261000</td>\n",
       "      <td>0.215667</td>\n",
       "      <td>2.7</td>\n",
       "      <td>3.9</td>\n",
       "      <td>2.70</td>\n",
       "      <td>3.84</td>\n",
       "      <td>-2.601230</td>\n",
       "      <td>2.962899</td>\n",
       "      <td>34.768204</td>\n",
       "      <td>1.748500</td>\n",
       "      <td>...</td>\n",
       "      <td>0.0</td>\n",
       "      <td>0.0</td>\n",
       "      <td>0.0</td>\n",
       "      <td>0.0</td>\n",
       "      <td>0.0</td>\n",
       "      <td>0.0</td>\n",
       "      <td>0.0</td>\n",
       "      <td>0.0</td>\n",
       "      <td>0.0</td>\n",
       "      <td>0.0</td>\n",
       "    </tr>\n",
       "    <tr>\n",
       "      <th>1</th>\n",
       "      <td>4.086000</td>\n",
       "      <td>0.120294</td>\n",
       "      <td>3.8</td>\n",
       "      <td>4.3</td>\n",
       "      <td>3.80</td>\n",
       "      <td>4.30</td>\n",
       "      <td>-2.377507</td>\n",
       "      <td>1.778974</td>\n",
       "      <td>19.688883</td>\n",
       "      <td>1.605833</td>\n",
       "      <td>...</td>\n",
       "      <td>0.0</td>\n",
       "      <td>0.0</td>\n",
       "      <td>0.0</td>\n",
       "      <td>0.0</td>\n",
       "      <td>0.0</td>\n",
       "      <td>0.0</td>\n",
       "      <td>0.0</td>\n",
       "      <td>0.0</td>\n",
       "      <td>0.0</td>\n",
       "      <td>0.0</td>\n",
       "    </tr>\n",
       "    <tr>\n",
       "      <th>2</th>\n",
       "      <td>3.297167</td>\n",
       "      <td>0.299514</td>\n",
       "      <td>2.7</td>\n",
       "      <td>4.2</td>\n",
       "      <td>2.70</td>\n",
       "      <td>4.20</td>\n",
       "      <td>-1.993785</td>\n",
       "      <td>3.014328</td>\n",
       "      <td>43.573463</td>\n",
       "      <td>1.755333</td>\n",
       "      <td>...</td>\n",
       "      <td>0.0</td>\n",
       "      <td>0.0</td>\n",
       "      <td>0.0</td>\n",
       "      <td>0.0</td>\n",
       "      <td>0.0</td>\n",
       "      <td>0.0</td>\n",
       "      <td>0.0</td>\n",
       "      <td>0.0</td>\n",
       "      <td>0.0</td>\n",
       "      <td>0.0</td>\n",
       "    </tr>\n",
       "    <tr>\n",
       "      <th>3</th>\n",
       "      <td>3.894667</td>\n",
       "      <td>0.178992</td>\n",
       "      <td>3.5</td>\n",
       "      <td>4.3</td>\n",
       "      <td>3.52</td>\n",
       "      <td>4.28</td>\n",
       "      <td>-2.204937</td>\n",
       "      <td>2.264530</td>\n",
       "      <td>17.768761</td>\n",
       "      <td>1.516833</td>\n",
       "      <td>...</td>\n",
       "      <td>0.0</td>\n",
       "      <td>0.0</td>\n",
       "      <td>0.0</td>\n",
       "      <td>0.0</td>\n",
       "      <td>0.0</td>\n",
       "      <td>0.0</td>\n",
       "      <td>0.0</td>\n",
       "      <td>0.0</td>\n",
       "      <td>0.0</td>\n",
       "      <td>0.0</td>\n",
       "    </tr>\n",
       "    <tr>\n",
       "      <th>4</th>\n",
       "      <td>3.378000</td>\n",
       "      <td>0.226236</td>\n",
       "      <td>2.9</td>\n",
       "      <td>3.9</td>\n",
       "      <td>2.90</td>\n",
       "      <td>3.90</td>\n",
       "      <td>-2.112839</td>\n",
       "      <td>2.307326</td>\n",
       "      <td>24.795130</td>\n",
       "      <td>1.670667</td>\n",
       "      <td>...</td>\n",
       "      <td>0.0</td>\n",
       "      <td>0.0</td>\n",
       "      <td>0.0</td>\n",
       "      <td>0.0</td>\n",
       "      <td>0.0</td>\n",
       "      <td>0.0</td>\n",
       "      <td>0.0</td>\n",
       "      <td>0.0</td>\n",
       "      <td>0.0</td>\n",
       "      <td>0.0</td>\n",
       "    </tr>\n",
       "  </tbody>\n",
       "</table>\n",
       "<p>5 rows × 252 columns</p>\n",
       "</div>"
      ],
      "text/plain": [
       "   AN311_mean  AN311_std  AN311_min  AN311_max  AN311_top5_min  \\\n",
       "0    3.261000   0.215667        2.7        3.9            2.70   \n",
       "1    4.086000   0.120294        3.8        4.3            3.80   \n",
       "2    3.297167   0.299514        2.7        4.2            2.70   \n",
       "3    3.894667   0.178992        3.5        4.3            3.52   \n",
       "4    3.378000   0.226236        2.9        3.9            2.90   \n",
       "\n",
       "   AN311_top5_max  AN311_min_std  AN311_max_std  AN311_top_freqs_max  \\\n",
       "0            3.84      -2.601230       2.962899            34.768204   \n",
       "1            4.30      -2.377507       1.778974            19.688883   \n",
       "2            4.20      -1.993785       3.014328            43.573463   \n",
       "3            4.28      -2.204937       2.264530            17.768761   \n",
       "4            3.90      -2.112839       2.307326            24.795130   \n",
       "\n",
       "   AN422_mean  ...  F_SIDE_top_freqs_max  V_mean  V_std  V_min  V_max  \\\n",
       "0    1.748500  ...                   0.0     0.0    0.0    0.0    0.0   \n",
       "1    1.605833  ...                   0.0     0.0    0.0    0.0    0.0   \n",
       "2    1.755333  ...                   0.0     0.0    0.0    0.0    0.0   \n",
       "3    1.516833  ...                   0.0     0.0    0.0    0.0    0.0   \n",
       "4    1.670667  ...                   0.0     0.0    0.0    0.0    0.0   \n",
       "\n",
       "   V_top5_min  V_top5_max  V_min_std  V_max_std  V_top_freqs_max  \n",
       "0         0.0         0.0        0.0        0.0              0.0  \n",
       "1         0.0         0.0        0.0        0.0              0.0  \n",
       "2         0.0         0.0        0.0        0.0              0.0  \n",
       "3         0.0         0.0        0.0        0.0              0.0  \n",
       "4         0.0         0.0        0.0        0.0              0.0  \n",
       "\n",
       "[5 rows x 252 columns]"
      ]
     },
     "execution_count": 13,
     "metadata": {},
     "output_type": "execute_result"
    }
   ],
   "source": [
    "test_data.head()"
   ]
  },
  {
   "cell_type": "code",
   "execution_count": 15,
   "id": "e4164762-52d4-4305-8bb6-27ba9888afb8",
   "metadata": {},
   "outputs": [
    {
     "data": {
      "text/plain": [
       "(5076, 3)"
      ]
     },
     "execution_count": 15,
     "metadata": {},
     "output_type": "execute_result"
    }
   ],
   "source": [
    "test_labels = pd.read_csv('../../Mining_DataSet/testLabels/testLabels.csv', header = None)\n",
    "test_labels.columns = ['MM263', 'MM264', 'MM256']\n",
    "test_labels.shape\n"
   ]
  },
  {
   "cell_type": "code",
   "execution_count": 17,
   "id": "73f74ffd-beab-40f3-9868-675e72798e77",
   "metadata": {},
   "outputs": [
    {
     "data": {
      "text/html": [
       "<div>\n",
       "<style scoped>\n",
       "    .dataframe tbody tr th:only-of-type {\n",
       "        vertical-align: middle;\n",
       "    }\n",
       "\n",
       "    .dataframe tbody tr th {\n",
       "        vertical-align: top;\n",
       "    }\n",
       "\n",
       "    .dataframe thead th {\n",
       "        text-align: right;\n",
       "    }\n",
       "</style>\n",
       "<table border=\"1\" class=\"dataframe\">\n",
       "  <thead>\n",
       "    <tr style=\"text-align: right;\">\n",
       "      <th></th>\n",
       "      <th>MM263</th>\n",
       "      <th>MM264</th>\n",
       "      <th>MM256</th>\n",
       "    </tr>\n",
       "  </thead>\n",
       "  <tbody>\n",
       "    <tr>\n",
       "      <th>0</th>\n",
       "      <td>normal</td>\n",
       "      <td>normal</td>\n",
       "      <td>warning</td>\n",
       "    </tr>\n",
       "    <tr>\n",
       "      <th>1</th>\n",
       "      <td>normal</td>\n",
       "      <td>normal</td>\n",
       "      <td>normal</td>\n",
       "    </tr>\n",
       "    <tr>\n",
       "      <th>2</th>\n",
       "      <td>normal</td>\n",
       "      <td>normal</td>\n",
       "      <td>normal</td>\n",
       "    </tr>\n",
       "    <tr>\n",
       "      <th>3</th>\n",
       "      <td>normal</td>\n",
       "      <td>normal</td>\n",
       "      <td>normal</td>\n",
       "    </tr>\n",
       "    <tr>\n",
       "      <th>4</th>\n",
       "      <td>normal</td>\n",
       "      <td>normal</td>\n",
       "      <td>normal</td>\n",
       "    </tr>\n",
       "  </tbody>\n",
       "</table>\n",
       "</div>"
      ],
      "text/plain": [
       "    MM263   MM264    MM256\n",
       "0  normal  normal  warning\n",
       "1  normal  normal   normal\n",
       "2  normal  normal   normal\n",
       "3  normal  normal   normal\n",
       "4  normal  normal   normal"
      ]
     },
     "execution_count": 17,
     "metadata": {},
     "output_type": "execute_result"
    }
   ],
   "source": [
    "test_labels.head()"
   ]
  },
  {
   "cell_type": "code",
   "execution_count": 43,
   "id": "ff480153-f1ea-4a80-8464-c2ac10408e26",
   "metadata": {},
   "outputs": [],
   "source": [
    "# Separate features and target\n",
    "X_train = train_data\n",
    "y_train = train_labels['MM263']\n",
    "\n",
    "X_test = test_data\n",
    "y_test = test_labels['MM263']"
   ]
  },
  {
   "cell_type": "code",
   "execution_count": 45,
   "id": "6313df67-a2a6-491f-9aff-9cc30f57fe88",
   "metadata": {},
   "outputs": [
    {
     "name": "stdout",
     "output_type": "stream",
     "text": [
      "(51700, 252)\n",
      "(51700,)\n",
      "(5076, 252)\n",
      "(5076,)\n"
     ]
    }
   ],
   "source": [
    "print(X_train.shape)\n",
    "print(y_train.shape)\n",
    "print(X_test.shape)\n",
    "print(y_test.shape)"
   ]
  },
  {
   "cell_type": "code",
   "execution_count": 47,
   "id": "30f0031d-8b62-4b8b-ae7e-97d071721f10",
   "metadata": {},
   "outputs": [
    {
     "name": "stdout",
     "output_type": "stream",
     "text": [
      "Probability of 'warning': 0.008994197292069633\n"
     ]
    }
   ],
   "source": [
    "counts = train_labels['MM263'].value_counts()  # This gives you a count of each unique value in the column\n",
    "\n",
    "# Calculate the probability of 'warning'\n",
    "if 'warning' in counts:\n",
    "    warning_probability = counts['warning'] / counts.sum()\n",
    "else:\n",
    "    warning_probability = 0  # In case there are no 'warning' labels\n",
    "\n",
    "print(\"Probability of 'warning':\", warning_probability)\n"
   ]
  },
  {
   "cell_type": "code",
   "execution_count": 49,
   "id": "6bd0080f-dd92-46c9-ad27-b61cf0606049",
   "metadata": {},
   "outputs": [],
   "source": [
    "from sklearn.ensemble import RandomForestClassifier\n",
    "from sklearn.metrics import balanced_accuracy_score, classification_report, confusion_matrix\n",
    "\n",
    "def trainRF(n):\n",
    "    rf_classifier = RandomForestClassifier(n_estimators=n, random_state=42, class_weight='balanced')\n",
    "    rf_classifier.fit(X_train, y_train)\n",
    "    return rf_classifier\n",
    "\n"
   ]
  },
  {
   "cell_type": "code",
   "execution_count": 51,
   "id": "8ab000dd-3448-4e53-b03e-cbc85acff40b",
   "metadata": {},
   "outputs": [],
   "source": [
    "rf_classifier = trainRF(100)"
   ]
  },
  {
   "cell_type": "code",
   "execution_count": 53,
   "id": "3d6e3e03-ff07-412a-a2fa-da6c13fca383",
   "metadata": {},
   "outputs": [
    {
     "name": "stdout",
     "output_type": "stream",
     "text": [
      "AUC with Random Forest using Probabilities: 0.49968208227360766\n"
     ]
    }
   ],
   "source": [
    "from sklearn.metrics import roc_auc_score\n",
    "\n",
    "rf_probabilities = rf_classifier.predict_proba(X_test)\n",
    "auc = roc_auc_score(y_test, rf_probabilities[:, 1])\n",
    "print(\"AUC with Random Forest using Probabilities:\", auc)"
   ]
  },
  {
   "cell_type": "code",
   "execution_count": 57,
   "id": "493df586-6db8-47c2-a469-aaa701d61e45",
   "metadata": {},
   "outputs": [
    {
     "name": "stdout",
     "output_type": "stream",
     "text": [
      "(5076,)\n",
      "              precision    recall  f1-score   support\n",
      "\n",
      "      normal       0.99      0.67      0.80      5042\n",
      "     warning       0.01      0.35      0.01        34\n",
      "\n",
      "    accuracy                           0.67      5076\n",
      "   macro avg       0.50      0.51      0.41      5076\n",
      "weighted avg       0.99      0.67      0.80      5076\n",
      "\n",
      "Confusion Matrix:\n",
      " [[3399 1643]\n",
      " [  22   12]]\n"
     ]
    }
   ],
   "source": [
    "# Threshold derived from training data's class distribution\n",
    "warning_threshold = warning_probability  # The variable computed earlier\n",
    "\n",
    "# Assuming the 'warning' class is the second column in the probabilities\n",
    "predicted_labels = np.where(rf_probabilities[:, 1] >= warning_threshold, 'warning', 'normal')\n",
    "\n",
    "# Check the shape of predicted_labels to ensure it is one-dimensional\n",
    "print(predicted_labels.shape)\n",
    "\n",
    "# Classification report and confusion matrix for the new predictions\n",
    "print(classification_report(y_test, predicted_labels))\n",
    "print(\"Confusion Matrix:\\n\", confusion_matrix(y_test, predicted_labels))"
   ]
  }
 ],
 "metadata": {
  "kernelspec": {
   "display_name": "Python 3 (ipykernel)",
   "language": "python",
   "name": "python3"
  },
  "language_info": {
   "codemirror_mode": {
    "name": "ipython",
    "version": 3
   },
   "file_extension": ".py",
   "mimetype": "text/x-python",
   "name": "python",
   "nbconvert_exporter": "python",
   "pygments_lexer": "ipython3",
   "version": "3.12.4"
  }
 },
 "nbformat": 4,
 "nbformat_minor": 5
}
